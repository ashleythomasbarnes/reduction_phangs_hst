{
 "cells": [
  {
   "cell_type": "code",
   "execution_count": 1,
   "metadata": {},
   "outputs": [],
   "source": [
    "import numpy as np\n",
    "from astropy import units as u \n",
    "from astropy.io import fits\n",
    "import matplotlib.pyplot as plt\n",
    "import matplotlib as mpl\n",
    "from astropy.table import QTable\n",
    "from reproject import reproject_interp\n",
    "from astropy import stats\n",
    "import os \n",
    "from astropy.table import QTable, join, vstack, hstack, Column\n",
    "from tqdm import tqdm"
   ]
  },
  {
   "cell_type": "code",
   "execution_count": 2,
   "metadata": {},
   "outputs": [],
   "source": [
    "# Define names and filenames...\n",
    "root_dir = '/Users/abarnes/Dropbox/work/Smallprojects/galaxies/data_hstha/'"
   ]
  },
  {
   "cell_type": "code",
   "execution_count": 3,
   "metadata": {},
   "outputs": [
    {
     "name": "stdout",
     "output_type": "stream",
     "text": [
      "/Users/abarnes/Dropbox/work/Smallprojects/galaxies/data_hstha/ngc3627/hst_contsub/table_fits_filteranchor.fits\n",
      "/Users/abarnes/Dropbox/work/Smallprojects/galaxies/data_hstha/ngc4254/hst_contsub/table_fits_filteranchor.fits\n",
      "/Users/abarnes/Dropbox/work/Smallprojects/galaxies/data_hstha/ngc1512/hst_contsub/table_fits_filteranchor.fits\n",
      "/Users/abarnes/Dropbox/work/Smallprojects/galaxies/data_hstha/ngc1433/hst_contsub/table_fits_filteranchor.fits\n",
      "/Users/abarnes/Dropbox/work/Smallprojects/galaxies/data_hstha/ngc5068/hst_contsub/table_fits_filteranchor.fits\n",
      "/Users/abarnes/Dropbox/work/Smallprojects/galaxies/data_hstha/ngc4321/hst_contsub/table_fits_filteranchor.fits\n",
      "/Users/abarnes/Dropbox/work/Smallprojects/galaxies/data_hstha/ngc1365n/hst_contsub/table_fits_filteranchor.fits\n",
      "/Users/abarnes/Dropbox/work/Smallprojects/galaxies/data_hstha/ngc4303/hst_contsub/table_fits_filteranchor.fits\n",
      "/Users/abarnes/Dropbox/work/Smallprojects/galaxies/data_hstha/ngc1087/hst_contsub/table_fits_filteranchor.fits\n",
      "/Users/abarnes/Dropbox/work/Smallprojects/galaxies/data_hstha/ngc7496/hst_contsub/table_fits_filteranchor.fits\n",
      "/Users/abarnes/Dropbox/work/Smallprojects/galaxies/data_hstha/ngc1385/hst_contsub/table_fits_filteranchor.fits\n",
      "/Users/abarnes/Dropbox/work/Smallprojects/galaxies/data_hstha/ngc2835s/hst_contsub/table_fits_filteranchor.fits\n",
      "/Users/abarnes/Dropbox/work/Smallprojects/galaxies/data_hstha/ic5332/hst_contsub/table_fits_filteranchor.fits\n",
      "/Users/abarnes/Dropbox/work/Smallprojects/galaxies/data_hstha/ngc628e/hst_contsub/table_fits_filteranchor.fits\n",
      "/Users/abarnes/Dropbox/work/Smallprojects/galaxies/data_hstha/ngc3351/hst_contsub/table_fits_filteranchor.fits\n",
      "/Users/abarnes/Dropbox/work/Smallprojects/galaxies/data_hstha/ngc628c/hst_contsub/table_fits_filteranchor.fits\n",
      "/Users/abarnes/Dropbox/work/Smallprojects/galaxies/data_hstha/ngc1672/hst_contsub/table_fits_filteranchor.fits\n",
      "/Users/abarnes/Dropbox/work/Smallprojects/galaxies/data_hstha/ngc1300/hst_contsub/table_fits_filteranchor.fits\n",
      "/Users/abarnes/Dropbox/work/Smallprojects/galaxies/data_hstha/ngc1566/hst_contsub/table_fits_filteranchor.fits\n",
      "TOTAL NUMBER OF FILES: 19\n",
      "/Users/abarnes/Dropbox/work/Smallprojects/galaxies/data_hstha/ngc3627/hst_contsub/table_fits_haanchor.fits\n",
      "/Users/abarnes/Dropbox/work/Smallprojects/galaxies/data_hstha/ngc4254/hst_contsub/table_fits_haanchor.fits\n",
      "/Users/abarnes/Dropbox/work/Smallprojects/galaxies/data_hstha/ngc1512/hst_contsub/table_fits_haanchor.fits\n",
      "/Users/abarnes/Dropbox/work/Smallprojects/galaxies/data_hstha/ngc1433/hst_contsub/table_fits_haanchor.fits\n",
      "/Users/abarnes/Dropbox/work/Smallprojects/galaxies/data_hstha/ngc5068/hst_contsub/table_fits_haanchor.fits\n",
      "/Users/abarnes/Dropbox/work/Smallprojects/galaxies/data_hstha/ngc4321/hst_contsub/table_fits_haanchor.fits\n",
      "/Users/abarnes/Dropbox/work/Smallprojects/galaxies/data_hstha/ngc1365n/hst_contsub/table_fits_haanchor.fits\n",
      "/Users/abarnes/Dropbox/work/Smallprojects/galaxies/data_hstha/ngc4303/hst_contsub/table_fits_haanchor.fits\n",
      "/Users/abarnes/Dropbox/work/Smallprojects/galaxies/data_hstha/ngc1087/hst_contsub/table_fits_haanchor.fits\n",
      "/Users/abarnes/Dropbox/work/Smallprojects/galaxies/data_hstha/ngc7496/hst_contsub/table_fits_haanchor.fits\n",
      "/Users/abarnes/Dropbox/work/Smallprojects/galaxies/data_hstha/ngc1385/hst_contsub/table_fits_haanchor.fits\n",
      "/Users/abarnes/Dropbox/work/Smallprojects/galaxies/data_hstha/ngc2835s/hst_contsub/table_fits_haanchor.fits\n",
      "/Users/abarnes/Dropbox/work/Smallprojects/galaxies/data_hstha/ic5332/hst_contsub/table_fits_haanchor.fits\n",
      "/Users/abarnes/Dropbox/work/Smallprojects/galaxies/data_hstha/ngc628e/hst_contsub/table_fits_haanchor.fits\n",
      "/Users/abarnes/Dropbox/work/Smallprojects/galaxies/data_hstha/ngc3351/hst_contsub/table_fits_haanchor.fits\n",
      "/Users/abarnes/Dropbox/work/Smallprojects/galaxies/data_hstha/ngc628c/hst_contsub/table_fits_haanchor.fits\n",
      "/Users/abarnes/Dropbox/work/Smallprojects/galaxies/data_hstha/ngc1672/hst_contsub/table_fits_haanchor.fits\n",
      "/Users/abarnes/Dropbox/work/Smallprojects/galaxies/data_hstha/ngc1300/hst_contsub/table_fits_haanchor.fits\n",
      "/Users/abarnes/Dropbox/work/Smallprojects/galaxies/data_hstha/ngc1566/hst_contsub/table_fits_haanchor.fits\n",
      "TOTAL NUMBER OF FILES: 19\n"
     ]
    }
   ],
   "source": [
    "def get_files(endswith, root_dir): \n",
    "\n",
    "    file_list = []\n",
    "    for root, dirs, files in os.walk(root_dir):\n",
    "        for file in files:\n",
    "            if file.endswith(endswith):\n",
    "                if '628e' in file: \n",
    "                    continue\n",
    "                else: \n",
    "                    print(os.path.join(root, file))\n",
    "                    file_list += [os.path.join(root, file)]\n",
    "\n",
    "    print('TOTAL NUMBER OF FILES:', len(file_list))\n",
    "    return(file_list)\n",
    "\n",
    "files_offset = get_files('table_fits_filteranchor.fits', root_dir)\n",
    "files_slope = get_files('table_fits_haanchor.fits', root_dir)"
   ]
  },
  {
   "cell_type": "code",
   "execution_count": 4,
   "metadata": {},
   "outputs": [
    {
     "name": "stderr",
     "output_type": "stream",
     "text": [
      "19it [00:00, 123.67it/s]\n"
     ]
    }
   ],
   "source": [
    "gals  = []\n",
    "output_stats = []\n",
    "\n",
    "for file_offset, file_slope in tqdm(zip(files_offset, files_slope)): \n",
    "\n",
    "    # Loading files...\n",
    "    table_offset = QTable.read(file_offset)\n",
    "    table_slope = QTable.read(file_slope)\n",
    "\n",
    "    gal1 = file_offset.split('/')[-3]\n",
    "    gal2 = file_offset.split('/')[-3]\n",
    "\n",
    "    if gal1 != gal2: \n",
    "        print('ERROR - galaxies do not match!')\n",
    "        break\n",
    "\n",
    "    gals += [gal1]\n",
    "\n",
    "    intercepts = np.float32(table_offset['intercept_lowres'].value)\n",
    "    slope = np.float32(table_slope['slope_bins'].value[1]) # for anchored image only\n",
    "    stats = np.array([intercepts[0], intercepts[1], intercepts[2], slope])\n",
    "\n",
    "    output_stats += [stats]\n",
    "\n",
    "gals = np.array(gals, dtype='<U8')\n",
    "output_stats = np.array(output_stats)"
   ]
  },
  {
   "cell_type": "code",
   "execution_count": 5,
   "metadata": {},
   "outputs": [
    {
     "data": {
      "text/html": [
       "<div><i>QTable length=19</i>\n",
       "<table id=\"table140628123949136\" class=\"table-striped table-bordered table-condensed\">\n",
       "<thead><tr><th>Galaxy</th><th>F555W</th><th>F65XN</th><th>F814W</th><th>N[II] corr</th></tr></thead>\n",
       "<thead><tr><th>str8</th><th>float32</th><th>float32</th><th>float32</th><th>float32</th></tr></thead>\n",
       "<tr><td>IC~5332</td><td>-11.076195</td><td>66.90957</td><td>-7.534602</td><td>1.0806233</td></tr>\n",
       "<tr><td>NGC~1087</td><td>-8.619963</td><td>36.11675</td><td>-5.8762546</td><td>1.1228473</td></tr>\n",
       "<tr><td>NGC~1300</td><td>-3.2584872</td><td>-3.7176487</td><td>-1.9037491</td><td>1.2121018</td></tr>\n",
       "<tr><td>NGC~1365</td><td>-30.679022</td><td>22.67622</td><td>-27.017344</td><td>1.2230378</td></tr>\n",
       "<tr><td>NGC~1385</td><td>-8.537724</td><td>36.565125</td><td>-5.756293</td><td>1.1800598</td></tr>\n",
       "<tr><td>NGC~1433</td><td>-24.415028</td><td>-24.494146</td><td>-20.859722</td><td>1.3324771</td></tr>\n",
       "<tr><td>NGC~1512</td><td>-6.6066236</td><td>51.97614</td><td>-5.5493546</td><td>1.0277058</td></tr>\n",
       "<tr><td>NGC~1566</td><td>-41.089554</td><td>72.81185</td><td>-22.079185</td><td>1.0052222</td></tr>\n",
       "<tr><td>NGC~1672</td><td>-8.582992</td><td>-14.249862</td><td>-6.5455933</td><td>1.3325003</td></tr>\n",
       "<tr><td>NGC~2835</td><td>-19.36177</td><td>31.207565</td><td>-13.377439</td><td>0.8296345</td></tr>\n",
       "<tr><td>NGC~3351</td><td>-7.1032805</td><td>27.0384</td><td>-7.290152</td><td>1.0296696</td></tr>\n",
       "<tr><td>NGC~3627</td><td>-32.8214</td><td>8.492107</td><td>-27.03294</td><td>1.0668906</td></tr>\n",
       "<tr><td>NGC~4254</td><td>-3.08216</td><td>12.304057</td><td>-7.504707</td><td>0.9165218</td></tr>\n",
       "<tr><td>NGC~4303</td><td>-45.317444</td><td>-11.379305</td><td>-33.60375</td><td>0.9223265</td></tr>\n",
       "<tr><td>NGC~4321</td><td>-31.347612</td><td>29.226196</td><td>-26.471046</td><td>1.1623707</td></tr>\n",
       "<tr><td>NGC~5068</td><td>-7.19758</td><td>2.0049472</td><td>-3.9330177</td><td>0.9036461</td></tr>\n",
       "<tr><td>NGC~628C</td><td>-17.199196</td><td>-20.321075</td><td>-13.485004</td><td>1.166029</td></tr>\n",
       "<tr><td>NGC~628E</td><td>-4.2958837</td><td>64.09924</td><td>-8.918641</td><td>1.030826</td></tr>\n",
       "<tr><td>NGC~7496</td><td>-7.643539</td><td>20.089605</td><td>-5.338814</td><td>1.2100097</td></tr>\n",
       "</table></div>"
      ],
      "text/plain": [
       "<QTable length=19>\n",
       " Galaxy    F555W      F65XN      F814W    N[II] corr\n",
       "  str8    float32    float32    float32    float32  \n",
       "-------- ---------- ---------- ---------- ----------\n",
       " IC~5332 -11.076195   66.90957  -7.534602  1.0806233\n",
       "NGC~1087  -8.619963   36.11675 -5.8762546  1.1228473\n",
       "NGC~1300 -3.2584872 -3.7176487 -1.9037491  1.2121018\n",
       "NGC~1365 -30.679022   22.67622 -27.017344  1.2230378\n",
       "NGC~1385  -8.537724  36.565125  -5.756293  1.1800598\n",
       "NGC~1433 -24.415028 -24.494146 -20.859722  1.3324771\n",
       "NGC~1512 -6.6066236   51.97614 -5.5493546  1.0277058\n",
       "NGC~1566 -41.089554   72.81185 -22.079185  1.0052222\n",
       "NGC~1672  -8.582992 -14.249862 -6.5455933  1.3325003\n",
       "NGC~2835  -19.36177  31.207565 -13.377439  0.8296345\n",
       "NGC~3351 -7.1032805    27.0384  -7.290152  1.0296696\n",
       "NGC~3627   -32.8214   8.492107  -27.03294  1.0668906\n",
       "NGC~4254   -3.08216  12.304057  -7.504707  0.9165218\n",
       "NGC~4303 -45.317444 -11.379305  -33.60375  0.9223265\n",
       "NGC~4321 -31.347612  29.226196 -26.471046  1.1623707\n",
       "NGC~5068   -7.19758  2.0049472 -3.9330177  0.9036461\n",
       "NGC~628C -17.199196 -20.321075 -13.485004   1.166029\n",
       "NGC~628E -4.2958837   64.09924  -8.918641   1.030826\n",
       "NGC~7496  -7.643539  20.089605  -5.338814  1.2100097"
      ]
     },
     "execution_count": 5,
     "metadata": {},
     "output_type": "execute_result"
    }
   ],
   "source": [
    "# Get into a astropy table the output of the stats of the maps to .tex\n",
    "\n",
    "gal_names = gals.copy()\n",
    "for i, gal in enumerate(gal_names):\n",
    "    gal = gal.upper()\n",
    "    if 'NGC' in gal:\n",
    "        gal_split = gal.split('NGC')\n",
    "        gal = 'NGC~' + gal_split[1]\n",
    "    if 'IC' in gal:\n",
    "        gal_split = gal.split('IC')\n",
    "        gal = 'IC~' + gal_split[1]\n",
    "    # if '628C' in gal:\n",
    "    #     gal_split = gal.split('628C')\n",
    "    #     gal = gal_split[0] + '0628'\n",
    "    gal_names[i] = gal\n",
    "\n",
    "names=('F555W', 'F65XN', 'F814W', 'N[II] corr')\n",
    "\n",
    "table1 = Column(gal_names, name='Galaxy')\n",
    "table2 = QTable(output_stats, names=names)\n",
    "\n",
    "table = hstack([table1, table2])\n",
    "table.sort('Galaxy')\n",
    "table"
   ]
  },
  {
   "cell_type": "code",
   "execution_count": 6,
   "metadata": {},
   "outputs": [],
   "source": [
    "formats={\n",
    "        'Galaxy': '%s',\n",
    "        'F555W': '%.2f',\n",
    "        'F65XN': '%.2f',\n",
    "        'F814W': '%.2f',\n",
    "        'N[II] corr': '%.2f'\n",
    "        }\n",
    "\n",
    "table.write('./tabs/galfit_props.tex', formats=formats, overwrite=True)"
   ]
  },
  {
   "cell_type": "code",
   "execution_count": 7,
   "metadata": {},
   "outputs": [
    {
     "data": {
      "text/plain": [
       "1.0923421"
      ]
     },
     "execution_count": 7,
     "metadata": {},
     "output_type": "execute_result"
    }
   ],
   "source": [
    "np.nanmean(table['N[II] corr'])"
   ]
  },
  {
   "cell_type": "code",
   "execution_count": 14,
   "metadata": {},
   "outputs": [
    {
     "name": "stderr",
     "output_type": "stream",
     "text": [
      "19it [00:00, 115.29it/s]\n"
     ]
    }
   ],
   "source": [
    "gals  = []\n",
    "output_stats = []\n",
    "\n",
    "for file_offset, file_slope in tqdm(zip(files_offset, files_slope)): \n",
    "\n",
    "    # Loading files...\n",
    "    table_offset = QTable.read(file_offset)\n",
    "    table_slope = QTable.read(file_slope)\n",
    "\n",
    "    gal1 = file_offset.split('/')[-3]\n",
    "    gal2 = file_offset.split('/')[-3]\n",
    "\n",
    "    if gal1 != gal2: \n",
    "        print('ERROR - galaxies do not match!')\n",
    "        break\n",
    "\n",
    "    gals += [gal1]\n",
    "\n",
    "    intercepts = np.float32(table_offset['interceptfixed_bins'].value)\n",
    "    slope = np.float32(table_slope['slopefixed_bins'].value[1]) # for anchored image only\n",
    "    stats = np.array([intercepts[0], intercepts[1], intercepts[2], slope])\n",
    "\n",
    "    output_stats += [stats]\n",
    "\n",
    "gals = np.array(gals, dtype='<U8')\n",
    "output_stats = np.array(output_stats)"
   ]
  },
  {
   "cell_type": "code",
   "execution_count": 17,
   "metadata": {},
   "outputs": [
    {
     "data": {
      "text/html": [
       "<div><i>QTable length=19</i>\n",
       "<table id=\"table140627706297168\" class=\"table-striped table-bordered table-condensed\">\n",
       "<thead><tr><th>Galaxy</th><th>F555W fix</th><th>F65XN fix</th><th>F814W fix</th><th>N[II] corr fix</th></tr></thead>\n",
       "<thead><tr><th>str8</th><th>float32</th><th>float32</th><th>float32</th><th>float32</th></tr></thead>\n",
       "<tr><td>IC~5332</td><td>-12.997702</td><td>72.76199</td><td>-8.577524</td><td>1.0582305</td></tr>\n",
       "<tr><td>NGC~1087</td><td>-9.609122</td><td>34.63646</td><td>-6.4033437</td><td>1.1164248</td></tr>\n",
       "<tr><td>NGC~1300</td><td>-2.5876772</td><td>-3.7403789</td><td>-2.2415109</td><td>1.2584573</td></tr>\n",
       "<tr><td>NGC~1365</td><td>-33.437202</td><td>19.189957</td><td>-28.230797</td><td>1.236707</td></tr>\n",
       "<tr><td>NGC~1385</td><td>-9.493533</td><td>35.258614</td><td>-6.8105783</td><td>1.1935498</td></tr>\n",
       "<tr><td>NGC~1433</td><td>-24.756039</td><td>-26.027035</td><td>-21.65933</td><td>1.4288096</td></tr>\n",
       "<tr><td>NGC~1512</td><td>-7.497829</td><td>56.40855</td><td>-5.415182</td><td>1.014432</td></tr>\n",
       "<tr><td>NGC~1566</td><td>-40.940517</td><td>65.640564</td><td>-22.739353</td><td>1.007966</td></tr>\n",
       "<tr><td>NGC~1672</td><td>-9.160834</td><td>-14.386707</td><td>-6.757429</td><td>1.3377496</td></tr>\n",
       "<tr><td>NGC~2835</td><td>-19.71166</td><td>29.505537</td><td>-14.380221</td><td>0.8155334</td></tr>\n",
       "<tr><td>NGC~3351</td><td>-10.011515</td><td>17.489317</td><td>-8.167226</td><td>1.0161698</td></tr>\n",
       "<tr><td>NGC~3627</td><td>-38.432747</td><td>-3.8793688</td><td>-30.51753</td><td>1.0486481</td></tr>\n",
       "<tr><td>NGC~4254</td><td>-3.136331</td><td>10.647711</td><td>-7.794978</td><td>0.92938876</td></tr>\n",
       "<tr><td>NGC~4303</td><td>-45.789516</td><td>-18.506458</td><td>-35.00955</td><td>0.920759</td></tr>\n",
       "<tr><td>NGC~4321</td><td>-32.077682</td><td>23.911234</td><td>-27.934715</td><td>1.2594304</td></tr>\n",
       "<tr><td>NGC~5068</td><td>-12.104701</td><td>-3.709677</td><td>-7.4271407</td><td>0.8977927</td></tr>\n",
       "<tr><td>NGC~628C</td><td>-18.522964</td><td>-20.500929</td><td>-13.602272</td><td>1.1784488</td></tr>\n",
       "<tr><td>NGC~628E</td><td>-5.7705564</td><td>63.7692</td><td>-7.099822</td><td>1.0215658</td></tr>\n",
       "<tr><td>NGC~7496</td><td>-7.300957</td><td>21.108284</td><td>-5.570706</td><td>1.265294</td></tr>\n",
       "</table></div>"
      ],
      "text/plain": [
       "<QTable length=19>\n",
       " Galaxy  F555W fix  F65XN fix  F814W fix  N[II] corr fix\n",
       "  str8    float32    float32    float32      float32    \n",
       "-------- ---------- ---------- ---------- --------------\n",
       " IC~5332 -12.997702   72.76199  -8.577524      1.0582305\n",
       "NGC~1087  -9.609122   34.63646 -6.4033437      1.1164248\n",
       "NGC~1300 -2.5876772 -3.7403789 -2.2415109      1.2584573\n",
       "NGC~1365 -33.437202  19.189957 -28.230797       1.236707\n",
       "NGC~1385  -9.493533  35.258614 -6.8105783      1.1935498\n",
       "NGC~1433 -24.756039 -26.027035  -21.65933      1.4288096\n",
       "NGC~1512  -7.497829   56.40855  -5.415182       1.014432\n",
       "NGC~1566 -40.940517  65.640564 -22.739353       1.007966\n",
       "NGC~1672  -9.160834 -14.386707  -6.757429      1.3377496\n",
       "NGC~2835  -19.71166  29.505537 -14.380221      0.8155334\n",
       "NGC~3351 -10.011515  17.489317  -8.167226      1.0161698\n",
       "NGC~3627 -38.432747 -3.8793688  -30.51753      1.0486481\n",
       "NGC~4254  -3.136331  10.647711  -7.794978     0.92938876\n",
       "NGC~4303 -45.789516 -18.506458  -35.00955       0.920759\n",
       "NGC~4321 -32.077682  23.911234 -27.934715      1.2594304\n",
       "NGC~5068 -12.104701  -3.709677 -7.4271407      0.8977927\n",
       "NGC~628C -18.522964 -20.500929 -13.602272      1.1784488\n",
       "NGC~628E -5.7705564    63.7692  -7.099822      1.0215658\n",
       "NGC~7496  -7.300957  21.108284  -5.570706       1.265294"
      ]
     },
     "execution_count": 17,
     "metadata": {},
     "output_type": "execute_result"
    }
   ],
   "source": [
    "# Get into a astropy table the output of the stats of the maps to .tex\n",
    "\n",
    "gal_names = gals.copy()\n",
    "for i, gal in enumerate(gal_names):\n",
    "    gal = gal.upper()\n",
    "    if 'NGC' in gal:\n",
    "        gal_split = gal.split('NGC')\n",
    "        gal = 'NGC~' + gal_split[1]\n",
    "    if 'IC' in gal:\n",
    "        gal_split = gal.split('IC')\n",
    "        gal = 'IC~' + gal_split[1]\n",
    "    # if '628C' in gal:\n",
    "    #     gal_split = gal.split('628C')\n",
    "    #     gal = gal_split[0] + '0628'\n",
    "    gal_names[i] = gal\n",
    "\n",
    "names=('F555W fix', 'F65XN fix', 'F814W fix', 'N[II] corr fix')\n",
    "\n",
    "table1 = Column(gal_names, name='Galaxy')\n",
    "table2 = QTable(output_stats, names=names)\n",
    "\n",
    "table = hstack([table1, table2])\n",
    "table.sort('Galaxy')\n",
    "table"
   ]
  },
  {
   "cell_type": "code",
   "execution_count": 18,
   "metadata": {},
   "outputs": [],
   "source": [
    "formats={\n",
    "        'Galaxy': '%s',\n",
    "        'F555W fix': '%.2f',\n",
    "        'F65XN fix': '%.2f',\n",
    "        'F814W fix': '%.2f',\n",
    "        'N[II] corr fix': '%.2f'\n",
    "        }\n",
    "\n",
    "table.write('./tabs/galfitfixed_props.tex', formats=formats, overwrite=True)"
   ]
  }
 ],
 "metadata": {
  "kernelspec": {
   "display_name": "base",
   "language": "python",
   "name": "python3"
  },
  "language_info": {
   "codemirror_mode": {
    "name": "ipython",
    "version": 3
   },
   "file_extension": ".py",
   "mimetype": "text/x-python",
   "name": "python",
   "nbconvert_exporter": "python",
   "pygments_lexer": "ipython3",
   "version": "3.9.13"
  }
 },
 "nbformat": 4,
 "nbformat_minor": 2
}
