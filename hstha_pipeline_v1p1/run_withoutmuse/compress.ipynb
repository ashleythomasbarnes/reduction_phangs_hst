{
 "cells": [
  {
   "cell_type": "code",
   "execution_count": 9,
   "metadata": {},
   "outputs": [],
   "source": [
    "import os\n",
    "from glob import glob"
   ]
  },
  {
   "cell_type": "code",
   "execution_count": 10,
   "metadata": {},
   "outputs": [
    {
     "data": {
      "text/plain": [
       "['ngc6744',\n",
       " 'ngc5236',\n",
       " 'ngc1559',\n",
       " 'ngc4569',\n",
       " 'ngc3059',\n",
       " 'ngc4424',\n",
       " 'ngc3351',\n",
       " 'ngc4536',\n",
       " 'ic1954',\n",
       " 'ngc2775',\n",
       " 'ngc5248',\n",
       " 'ngc2997e',\n",
       " 'ngc4694',\n",
       " 'ngc4826',\n",
       " 'ngc4689',\n",
       " 'ngc5194',\n",
       " 'ngc1672',\n",
       " 'ngc4571',\n",
       " 'ngc4951',\n",
       " 'ngc3344',\n",
       " 'ngc3368',\n",
       " 'ngc4298',\n",
       " 'ngc1097',\n",
       " 'ngc685',\n",
       " 'ngc4731']"
      ]
     },
     "execution_count": 10,
     "metadata": {},
     "output_type": "execute_result"
    }
   ],
   "source": [
    "files = glob('./run_pipeline_contsub_*.ipynb')\n",
    "files = [f.replace('./', '').replace('.ipynb', '') for f in files]\n",
    "files = [f.split('run_pipeline_contsub_')[-1] for f in files]\n",
    "files = [f.split('_')[0] for f in files]\n",
    "\n",
    "# remove doublicates in files \n",
    "galaxies = list(set(files))\n",
    "galaxies"
   ]
  },
  {
   "cell_type": "code",
   "execution_count": 11,
   "metadata": {},
   "outputs": [
    {
     "name": "stdout",
     "output_type": "stream",
     "text": [
      "Compressing: /Users/abarnes/Dropbox/work/Smallprojects/galaxies/data_hstha/ngc6744\n"
     ]
    },
    {
     "name": "stderr",
     "output_type": "stream",
     "text": [
      "tar: Removing leading '/' from member names\n",
      "a Users/abarnes/Dropbox/work/Smallprojects/galaxies/data_hstha/ngc6744\n",
      "a Users/abarnes/Dropbox/work/Smallprojects/galaxies/data_hstha/ngc6744/.DS_Store\n",
      "a Users/abarnes/Dropbox/work/Smallprojects/galaxies/data_hstha/ngc6744/hst_contsub\n",
      "a Users/abarnes/Dropbox/work/Smallprojects/galaxies/data_hstha/ngc6744/hst\n",
      "a Users/abarnes/Dropbox/work/Smallprojects/galaxies/data_hstha/ngc6744/hst/ngc6744_uvis_f657n_exp_drc_sci.fits\n",
      "a Users/abarnes/Dropbox/work/Smallprojects/galaxies/data_hstha/ngc6744/hst/ngc6744_uvis_f814w_exp_drc_sci.fits\n",
      "a Users/abarnes/Dropbox/work/Smallprojects/galaxies/data_hstha/ngc6744/hst/ngc6744_uvis_f555w_exp_drc_sci.fits\n",
      "a Users/abarnes/Dropbox/work/Smallprojects/galaxies/data_hstha/ngc6744/hst_contsub/figs\n",
      "a Users/abarnes/Dropbox/work/Smallprojects/galaxies/data_hstha/ngc6744/hst_contsub/ngc6744_hst_f657n_contsub.fits\n",
      "a Users/abarnes/Dropbox/work/Smallprojects/galaxies/data_hstha/ngc6744/hst_contsub/ngc6744_hst_f657n_cont.fits\n",
      "a Users/abarnes/Dropbox/work/Smallprojects/galaxies/data_hstha/ngc6744/hst_contsub/figs/ngc6744_map_hst_f657n_contsub.png\n"
     ]
    },
    {
     "name": "stdout",
     "output_type": "stream",
     "text": [
      "Compressing: /Users/abarnes/Dropbox/work/Smallprojects/galaxies/data_hstha/ngc5236\n"
     ]
    },
    {
     "name": "stderr",
     "output_type": "stream",
     "text": [
      "tar: Removing leading '/' from member names\n",
      "a Users/abarnes/Dropbox/work/Smallprojects/galaxies/data_hstha/ngc5236\n",
      "a Users/abarnes/Dropbox/work/Smallprojects/galaxies/data_hstha/ngc5236/.DS_Store\n",
      "a Users/abarnes/Dropbox/work/Smallprojects/galaxies/data_hstha/ngc5236/muse\n",
      "a Users/abarnes/Dropbox/work/Smallprojects/galaxies/data_hstha/ngc5236/.tar.gz\n",
      "a Users/abarnes/Dropbox/work/Smallprojects/galaxies/data_hstha/ngc5236/hst_contsub\n",
      "a Users/abarnes/Dropbox/work/Smallprojects/galaxies/data_hstha/ngc5236/hst_contsub_f673n\n",
      "a Users/abarnes/Dropbox/work/Smallprojects/galaxies/data_hstha/ngc5236/hst\n",
      "a Users/abarnes/Dropbox/work/Smallprojects/galaxies/data_hstha/ngc5236/hst/hlsp_m83mos_hst_wfc3-uvis_m83-mosaic_f814w_v1_drc-sci_sci.fits\n",
      "a Users/abarnes/Dropbox/work/Smallprojects/galaxies/data_hstha/ngc5236/hst/.DS_Store\n",
      "a Users/abarnes/Dropbox/work/Smallprojects/galaxies/data_hstha/ngc5236/hst/hlsp_m83mos_hst_wfc3-uvis_m83-mosaic_f673n_v1_drc-sci.fits\n",
      "a Users/abarnes/Dropbox/work/Smallprojects/galaxies/data_hstha/ngc5236/hst/hlsp_m83mos_hst_wfc3-uvis_m83-mosaic_f555w-f547m_v1_drc-sci_sci.fits\n",
      "a Users/abarnes/Dropbox/work/Smallprojects/galaxies/data_hstha/ngc5236/hst/hlsp_m83mos_hst_wfc3-uvis_m83-mosaic_f438w_v1_drc-sci_sci.fits\n",
      "a Users/abarnes/Dropbox/work/Smallprojects/galaxies/data_hstha/ngc5236/hst/hlsp_m83mos_hst_wfc3-uvis_m83-mosaic_f657n_v1_drc-sci_sci.fits\n",
      "a Users/abarnes/Dropbox/work/Smallprojects/galaxies/data_hstha/ngc5236/hst_contsub_f673n/figs\n",
      "a Users/abarnes/Dropbox/work/Smallprojects/galaxies/data_hstha/ngc5236/hst_contsub_f673n/ngc5236_hst_f673n_contsub_scaled.fits\n",
      "a Users/abarnes/Dropbox/work/Smallprojects/galaxies/data_hstha/ngc5236/hst_contsub_f673n/ngc5236_hst_f673n_contsub.fits\n",
      "a Users/abarnes/Dropbox/work/Smallprojects/galaxies/data_hstha/ngc5236/hst_contsub_f673n/ngc5236_hst_f673n_contsub_smre.fits\n",
      "a Users/abarnes/Dropbox/work/Smallprojects/galaxies/data_hstha/ngc5236/hst_contsub_f673n/ngc5236_hst_f673n_cont.fits\n",
      "a Users/abarnes/Dropbox/work/Smallprojects/galaxies/data_hstha/ngc5236/hst_contsub_f673n/figs/ngc5236_map_hst_f673n_contsub.png\n",
      "a Users/abarnes/Dropbox/work/Smallprojects/galaxies/data_hstha/ngc5236/hst_contsub/.DS_Store\n",
      "a Users/abarnes/Dropbox/work/Smallprojects/galaxies/data_hstha/ngc5236/hst_contsub/figs\n",
      "a Users/abarnes/Dropbox/work/Smallprojects/galaxies/data_hstha/ngc5236/hst_contsub/ngc5236_hst_f657n_contsub_smre.fits\n",
      "a Users/abarnes/Dropbox/work/Smallprojects/galaxies/data_hstha/ngc5236/hst_contsub/ngc5236_hst_f657n_cont.fits\n",
      "a Users/abarnes/Dropbox/work/Smallprojects/galaxies/data_hstha/ngc5236/hst_contsub/ngc5236_hst_f657n_contsub.fits\n",
      "a Users/abarnes/Dropbox/work/Smallprojects/galaxies/data_hstha/ngc5236/hst_contsub/ngc5236_hst_f657n_contsub_scaled.fits\n",
      "a Users/abarnes/Dropbox/work/Smallprojects/galaxies/data_hstha/ngc5236/hst_contsub/figs/ngc5236_map_hst_f657n_contsub.png\n",
      "a Users/abarnes/Dropbox/work/Smallprojects/galaxies/data_hstha/ngc5236/hst_contsub/figs/.DS_Store\n",
      "a Users/abarnes/Dropbox/work/Smallprojects/galaxies/data_hstha/ngc5236/muse/M83_MAPS.fits\n"
     ]
    },
    {
     "name": "stdout",
     "output_type": "stream",
     "text": [
      "Compressing: /Users/abarnes/Dropbox/work/Smallprojects/galaxies/data_hstha/ngc1559\n"
     ]
    },
    {
     "name": "stderr",
     "output_type": "stream",
     "text": [
      "tar: Removing leading '/' from member names\n",
      "a Users/abarnes/Dropbox/work/Smallprojects/galaxies/data_hstha/ngc1559\n",
      "a Users/abarnes/Dropbox/work/Smallprojects/galaxies/data_hstha/ngc1559/.DS_Store\n",
      "a Users/abarnes/Dropbox/work/Smallprojects/galaxies/data_hstha/ngc1559/hst_contsub\n",
      "a Users/abarnes/Dropbox/work/Smallprojects/galaxies/data_hstha/ngc1559/hst\n",
      "a Users/abarnes/Dropbox/work/Smallprojects/galaxies/data_hstha/ngc1559/hst/ngc1559_uvis_f606w_exp_drc_sci.fits\n",
      "a Users/abarnes/Dropbox/work/Smallprojects/galaxies/data_hstha/ngc1559/hst/ngc1559_uvis_f555w_exp_drc_sci.fits\n",
      "a Users/abarnes/Dropbox/work/Smallprojects/galaxies/data_hstha/ngc1559/hst/ngc1559_uvis_f657n_exp_drc_sci.fits\n",
      "a Users/abarnes/Dropbox/work/Smallprojects/galaxies/data_hstha/ngc1559/hst/ngc1559_uvis_f814w_exp_drc_sci.fits\n",
      "a Users/abarnes/Dropbox/work/Smallprojects/galaxies/data_hstha/ngc1559/hst_contsub/.DS_Store\n",
      "a Users/abarnes/Dropbox/work/Smallprojects/galaxies/data_hstha/ngc1559/hst_contsub/ngc1559_hst_f657n_contsub.fits\n",
      "a Users/abarnes/Dropbox/work/Smallprojects/galaxies/data_hstha/ngc1559/hst_contsub/figs\n",
      "a Users/abarnes/Dropbox/work/Smallprojects/galaxies/data_hstha/ngc1559/hst_contsub/ngc1559_hst_f657n_cont.fits\n",
      "a Users/abarnes/Dropbox/work/Smallprojects/galaxies/data_hstha/ngc1559/hst_contsub/figs/ngc1559_map_hst_f657n_contsub.png\n",
      "tar: Removing leading '/' from member names\n",
      "a Users/abarnes/Dropbox/work/Smallprojects/galaxies/data_hstha/ngc4569\n",
      "a Users/abarnes/Dropbox/work/Smallprojects/galaxies/data_hstha/ngc4569/.DS_Store\n",
      "a Users/abarnes/Dropbox/work/Smallprojects/galaxies/data_hstha/ngc4569/hst_contsub\n",
      "a Users/abarnes/Dropbox/work/Smallprojects/galaxies/data_hstha/ngc4569/hst\n",
      "a Users/abarnes/Dropbox/work/Smallprojects/galaxies/data_hstha/ngc4569/hst/ngc4569_uvis_f657n_exp_drc_sci.fits"
     ]
    },
    {
     "name": "stdout",
     "output_type": "stream",
     "text": [
      "Compressing: /Users/abarnes/Dropbox/work/Smallprojects/galaxies/data_hstha/ngc4569\n"
     ]
    },
    {
     "name": "stderr",
     "output_type": "stream",
     "text": [
      "\n",
      "a Users/abarnes/Dropbox/work/Smallprojects/galaxies/data_hstha/ngc4569/hst/ngc4569_uvis_f814w_exp_drc_sci.fits\n",
      "a Users/abarnes/Dropbox/work/Smallprojects/galaxies/data_hstha/ngc4569/hst/ngc4569_uvis_f555w_exp_drc_sci.fits\n",
      "a Users/abarnes/Dropbox/work/Smallprojects/galaxies/data_hstha/ngc4569/hst_contsub/ngc4569_hst_f657n_contsub.fits\n",
      "a Users/abarnes/Dropbox/work/Smallprojects/galaxies/data_hstha/ngc4569/hst_contsub/figs\n",
      "a Users/abarnes/Dropbox/work/Smallprojects/galaxies/data_hstha/ngc4569/hst_contsub/ngc4569_hst_f657n_cont.fits\n",
      "a Users/abarnes/Dropbox/work/Smallprojects/galaxies/data_hstha/ngc4569/hst_contsub/figs/ngc4569_map_hst_f657n_contsub.png\n",
      "a Users/abarnes/Dropbox/work/Smallprojects/galaxies/data_hstha/ngc4569/hst_contsub/figs/ngc4569_map_hst_ha.png\n",
      "tar: Removing leading '/' from member names\n",
      "a Users/abarnes/Dropbox/work/Smallprojects/galaxies/data_hstha/ngc3059\n",
      "a Users/abarnes/Dropbox/work/Smallprojects/galaxies/data_hstha/ngc3059/.DS_Store\n",
      "a Users/abarnes/Dropbox/work/Smallprojects/galaxies/data_hstha/ngc3059/hst_contsub\n",
      "a Users/abarnes/Dropbox/work/Smallprojects/galaxies/data_hstha/ngc3059/hst\n",
      "a Users/abarnes/Dropbox/work/Smallprojects/galaxies/data_hstha/ngc3059/hst/.DS_Store\n",
      "a Users/abarnes/Dropbox/work/Smallprojects/galaxies/data_hstha/ngc3059/hst/ngc3059_uvis_f555w_exp_drc_sci.fits"
     ]
    },
    {
     "name": "stdout",
     "output_type": "stream",
     "text": [
      "Compressing: /Users/abarnes/Dropbox/work/Smallprojects/galaxies/data_hstha/ngc3059\n"
     ]
    },
    {
     "name": "stderr",
     "output_type": "stream",
     "text": [
      "\n",
      "a Users/abarnes/Dropbox/work/Smallprojects/galaxies/data_hstha/ngc3059/hst/ngc3059_uvis_f657n_exp_drc_sci.fits\n",
      "a Users/abarnes/Dropbox/work/Smallprojects/galaxies/data_hstha/ngc3059/hst/ngc3059_uvis_f814w_exp_drc_sci.fits\n",
      "a Users/abarnes/Dropbox/work/Smallprojects/galaxies/data_hstha/ngc3059/hst_contsub/ngc3059_hst_f657n_contsub.fits\n",
      "a Users/abarnes/Dropbox/work/Smallprojects/galaxies/data_hstha/ngc3059/hst_contsub/figs\n",
      "a Users/abarnes/Dropbox/work/Smallprojects/galaxies/data_hstha/ngc3059/hst_contsub/ngc3059_hst_f657n_cont.fits\n",
      "a Users/abarnes/Dropbox/work/Smallprojects/galaxies/data_hstha/ngc3059/hst_contsub/figs/ngc3059_map_hst_f657n_contsub.png\n",
      "tar: Removing leading '/' from member names\n",
      "a Users/abarnes/Dropbox/work/Smallprojects/galaxies/data_hstha/ngc4424\n",
      "a Users/abarnes/Dropbox/work/Smallprojects/galaxies/data_hstha/ngc4424/.DS_Store\n",
      "a Users/abarnes/Dropbox/work/Smallprojects/galaxies/data_hstha/ngc4424/hst_contsub\n",
      "a Users/abarnes/Dropbox/work/Smallprojects/galaxies/data_hstha/ngc4424/hst\n",
      "a Users/abarnes/Dropbox/work/Smallprojects/galaxies/data_hstha/ngc4424/hst/ngc4424_uvis_f814w_exp_drc_sci.fits"
     ]
    },
    {
     "name": "stdout",
     "output_type": "stream",
     "text": [
      "Compressing: /Users/abarnes/Dropbox/work/Smallprojects/galaxies/data_hstha/ngc4424\n"
     ]
    },
    {
     "name": "stderr",
     "output_type": "stream",
     "text": [
      "\n",
      "a Users/abarnes/Dropbox/work/Smallprojects/galaxies/data_hstha/ngc4424/hst/ngc4424_uvis_f657n_exp_drc_sci.fits\n",
      "a Users/abarnes/Dropbox/work/Smallprojects/galaxies/data_hstha/ngc4424/hst/ngc4424_uvis_f555w_exp_drc_sci.fits\n",
      "a Users/abarnes/Dropbox/work/Smallprojects/galaxies/data_hstha/ngc4424/hst_contsub/figs\n",
      "a Users/abarnes/Dropbox/work/Smallprojects/galaxies/data_hstha/ngc4424/hst_contsub/ngc4424_hst_f657n_contsub_ic.fits\n",
      "a Users/abarnes/Dropbox/work/Smallprojects/galaxies/data_hstha/ngc4424/hst_contsub/ngc4424_hst_f657n_contsub.fits\n",
      "a Users/abarnes/Dropbox/work/Smallprojects/galaxies/data_hstha/ngc4424/hst_contsub/ngc4424_hst_f657n_cont.fits\n",
      "a Users/abarnes/Dropbox/work/Smallprojects/galaxies/data_hstha/ngc4424/hst_contsub/figs/ngc4424_map_hst_f657n_contsub.png\n",
      "tar: Removing leading '/' from member names\n",
      "a Users/abarnes/Dropbox/work/Smallprojects/galaxies/data_hstha/ngc3351\n",
      "a Users/abarnes/Dropbox/work/Smallprojects/galaxies/data_hstha/ngc3351/.DS_Store\n",
      "a Users/abarnes/Dropbox/work/Smallprojects/galaxies/data_hstha/ngc3351/muse\n",
      "a Users/abarnes/Dropbox/work/Smallprojects/galaxies/data_hstha/ngc3351/hst_contsub\n",
      "a Users/abarnes/Dropbox/work/Smallprojects/galaxies/data_hstha/ngc3351/testing\n",
      "a Users/abarnes/Dropbox/work/Smallprojects/galaxies/data_hstha/ngc3351/hst_contsub_f547m\n",
      "a Users/abarnes/Dropbox/work/Smallprojects/galaxies/data_hstha/ngc3351/hst\n",
      "a Users/abarnes/Dropbox/work/Smallprojects/galaxies/data_hstha/ngc3351/hst/ngc3351_uvis_f814w_err_drc_wht.fits"
     ]
    },
    {
     "name": "stdout",
     "output_type": "stream",
     "text": [
      "Compressing: /Users/abarnes/Dropbox/work/Smallprojects/galaxies/data_hstha/ngc3351\n"
     ]
    },
    {
     "name": "stderr",
     "output_type": "stream",
     "text": [
      "\n",
      "a Users/abarnes/Dropbox/work/Smallprojects/galaxies/data_hstha/ngc3351/hst/ngc3351_uvis_f555w_exp_drc_sci.fits\n",
      "a Users/abarnes/Dropbox/work/Smallprojects/galaxies/data_hstha/ngc3351/hst/ngc3351_uvis_f657n_err_drc_wht.fits\n",
      "a Users/abarnes/Dropbox/work/Smallprojects/galaxies/data_hstha/ngc3351/hst/.DS_Store\n",
      "a Users/abarnes/Dropbox/work/Smallprojects/galaxies/data_hstha/ngc3351/hst/ngc3351_uvis_f658n_exp_drc_sci.fits\n",
      "a Users/abarnes/Dropbox/work/Smallprojects/galaxies/data_hstha/ngc3351/hst/ngc3351_uvis_f658n_err_drc_wht.fits\n",
      "a Users/abarnes/Dropbox/work/Smallprojects/galaxies/data_hstha/ngc3351/hst/ngc3351_uvis_f547m_exp_drc_sci.fits\n",
      "a Users/abarnes/Dropbox/work/Smallprojects/galaxies/data_hstha/ngc3351/hst/ngc3351_uvis_f657n_exp_drc_sci.fits\n",
      "a Users/abarnes/Dropbox/work/Smallprojects/galaxies/data_hstha/ngc3351/hst/ngc3351_uvis_f555w_err_drc_wht.fits\n",
      "a Users/abarnes/Dropbox/work/Smallprojects/galaxies/data_hstha/ngc3351/hst/ngc3351_uvis_f814w_exp_drc_sci.fits\n",
      "a Users/abarnes/Dropbox/work/Smallprojects/galaxies/data_hstha/ngc3351/hst_contsub_f547m/.DS_Store\n",
      "a Users/abarnes/Dropbox/work/Smallprojects/galaxies/data_hstha/ngc3351/hst_contsub_f547m/figs\n",
      "a Users/abarnes/Dropbox/work/Smallprojects/galaxies/data_hstha/ngc3351/testing/.DS_Store\n",
      "a Users/abarnes/Dropbox/work/Smallprojects/galaxies/data_hstha/ngc3351/testing/ngc3351_hst_ha_ic_crop1.fits\n",
      "a Users/abarnes/Dropbox/work/Smallprojects/galaxies/data_hstha/ngc3351/testing/mosaic.ipynb\n",
      "a Users/abarnes/Dropbox/work/Smallprojects/galaxies/data_hstha/ngc3351/testing/ngc3351_hst_ha_mean.fits\n",
      "a Users/abarnes/Dropbox/work/Smallprojects/galaxies/data_hstha/ngc3351/testing/ngc3351_hst_ha_ic_crop2.fits\n",
      "a Users/abarnes/Dropbox/work/Smallprojects/galaxies/data_hstha/ngc3351/hst_contsub/ngc3351_muse_nebmask.fits\n",
      "a Users/abarnes/Dropbox/work/Smallprojects/galaxies/data_hstha/ngc3351/hst_contsub/ngc3351_hst_f814w_smre.fits\n",
      "a Users/abarnes/Dropbox/work/Smallprojects/galaxies/data_hstha/ngc3351/hst_contsub/ngc3351_hst_f658n_an_contsub.fits\n",
      "a Users/abarnes/Dropbox/work/Smallprojects/galaxies/data_hstha/ngc3351/hst_contsub/table_fits_haanchor.csv\n",
      "a Users/abarnes/Dropbox/work/Smallprojects/galaxies/data_hstha/ngc3351/hst_contsub/.DS_Store\n",
      "a Users/abarnes/Dropbox/work/Smallprojects/galaxies/data_hstha/ngc3351/hst_contsub/ngc3351_hst_f555w_an.fits\n",
      "a Users/abarnes/Dropbox/work/Smallprojects/galaxies/data_hstha/ngc3351/hst_contsub/ngc3351_hst_ha.fits\n",
      "a Users/abarnes/Dropbox/work/Smallprojects/galaxies/data_hstha/ngc3351/hst_contsub/ngc3351_hst_ha_sic.fits\n",
      "a Users/abarnes/Dropbox/work/Smallprojects/galaxies/data_hstha/ngc3351/hst_contsub/ngc3351_muse_f658n.fits\n",
      "a Users/abarnes/Dropbox/work/Smallprojects/galaxies/data_hstha/ngc3351/hst_contsub/ngc3351_muse_f814w.fits\n",
      "a Users/abarnes/Dropbox/work/Smallprojects/galaxies/data_hstha/ngc3351/hst_contsub/ngc3351_hst_f658n_an_cont.fits\n",
      "a Users/abarnes/Dropbox/work/Smallprojects/galaxies/data_hstha/ngc3351/hst_contsub/figs\n",
      "a Users/abarnes/Dropbox/work/Smallprojects/galaxies/data_hstha/ngc3351/hst_contsub/ngc3351_hst_f555w_smre.fits\n",
      "a Users/abarnes/Dropbox/work/Smallprojects/galaxies/data_hstha/ngc3351/hst_contsub/ngc3351_muse_f658n_cont.fits\n",
      "a Users/abarnes/Dropbox/work/Smallprojects/galaxies/data_hstha/ngc3351/hst_contsub/ngc3351_hst_f658n_an.fits\n",
      "a Users/abarnes/Dropbox/work/Smallprojects/galaxies/data_hstha/ngc3351/hst_contsub/ngc3351_muse_nebmask_regrid.fits\n",
      "a Users/abarnes/Dropbox/work/Smallprojects/galaxies/data_hstha/ngc3351/hst_contsub/ngc3351_hst_f814w.fits\n",
      "a Users/abarnes/Dropbox/work/Smallprojects/galaxies/data_hstha/ngc3351/hst_contsub/ngc3351_hst_f658n.fits\n",
      "a Users/abarnes/Dropbox/work/Smallprojects/galaxies/data_hstha/ngc3351/hst_contsub/ngc3351_hst_ha_i.fits\n",
      "a Users/abarnes/Dropbox/work/Smallprojects/galaxies/data_hstha/ngc3351/hst_contsub/ngc3351_muse_f658n_contsub.fits\n",
      "a Users/abarnes/Dropbox/work/Smallprojects/galaxies/data_hstha/ngc3351/hst_contsub/ngc3351_hst_f658n_contsub.fits\n",
      "a Users/abarnes/Dropbox/work/Smallprojects/galaxies/data_hstha/ngc3351/hst_contsub/ngc3351_hst_ha_si.fits\n",
      "a Users/abarnes/Dropbox/work/Smallprojects/galaxies/data_hstha/ngc3351/hst_contsub/ngc3351_hst_f555w.fits\n",
      "a Users/abarnes/Dropbox/work/Smallprojects/galaxies/data_hstha/ngc3351/hst_contsub/ngc3351_hst_f814w_an.fits\n",
      "a Users/abarnes/Dropbox/work/Smallprojects/galaxies/data_hstha/ngc3351/hst_contsub/ngc3351_hst_ha_ic.fits\n",
      "a Users/abarnes/Dropbox/work/Smallprojects/galaxies/data_hstha/ngc3351/hst_contsub/ngc3351_hst_ha_err.fits\n",
      "a Users/abarnes/Dropbox/work/Smallprojects/galaxies/data_hstha/ngc3351/hst_contsub/ngc3351_hst_ha_s.fits\n",
      "a Users/abarnes/Dropbox/work/Smallprojects/galaxies/data_hstha/ngc3351/hst_contsub/table_fits_haanchor.fits\n",
      "a Users/abarnes/Dropbox/work/Smallprojects/galaxies/data_hstha/ngc3351/hst_contsub/table_fits_filteranchor.csv\n",
      "a Users/abarnes/Dropbox/work/Smallprojects/galaxies/data_hstha/ngc3351/hst_contsub/ngc3351_hst_f658n_smre.fits\n",
      "a Users/abarnes/Dropbox/work/Smallprojects/galaxies/data_hstha/ngc3351/hst_contsub/table_fits_filteranchor.fits\n",
      "a Users/abarnes/Dropbox/work/Smallprojects/galaxies/data_hstha/ngc3351/hst_contsub/ngc3351_muse_f555w.fits\n",
      "a Users/abarnes/Dropbox/work/Smallprojects/galaxies/data_hstha/ngc3351/hst_contsub/ngc3351_hst_ha_bsic.fits\n",
      "a Users/abarnes/Dropbox/work/Smallprojects/galaxies/data_hstha/ngc3351/hst_contsub/ngc3351_hst_f658n_cont.fits\n",
      "a Users/abarnes/Dropbox/work/Smallprojects/galaxies/data_hstha/ngc3351/hst_contsub/ngc3351_muse_ha.fits\n",
      "a Users/abarnes/Dropbox/work/Smallprojects/galaxies/data_hstha/ngc3351/hst_contsub/figs/diffs_f555w.png\n",
      "a Users/abarnes/Dropbox/work/Smallprojects/galaxies/data_hstha/ngc3351/hst_contsub/figs/diffs_f658n.png\n",
      "a Users/abarnes/Dropbox/work/Smallprojects/galaxies/data_hstha/ngc3351/hst_contsub/figs/fit_halpha_an_scaled_neb.png\n",
      "a Users/abarnes/Dropbox/work/Smallprojects/galaxies/data_hstha/ngc3351/hst_contsub/figs/histo_hdu_hst_an_halpha_scaled.png\n",
      "a Users/abarnes/Dropbox/work/Smallprojects/galaxies/data_hstha/ngc3351/hst_contsub/figs/fit_halpha_an_neb.png\n",
      "a Users/abarnes/Dropbox/work/Smallprojects/galaxies/data_hstha/ngc3351/hst_contsub/figs/fit_f814w.png\n",
      "a Users/abarnes/Dropbox/work/Smallprojects/galaxies/data_hstha/ngc3351/hst_contsub/figs/comp_hst_ha_matchedcolor.png\n",
      "a Users/abarnes/Dropbox/work/Smallprojects/galaxies/data_hstha/ngc3351/hst_contsub/figs/flux_nebmasks_halpha_an_scaled_neb.png\n",
      "a Users/abarnes/Dropbox/work/Smallprojects/galaxies/data_hstha/ngc3351/hst_contsub/figs/comp_muse_ha_matchedcolor.png\n",
      "a Users/abarnes/Dropbox/work/Smallprojects/galaxies/data_hstha/ngc3351/hst_contsub/figs/fit_f658n.png\n",
      "a Users/abarnes/Dropbox/work/Smallprojects/galaxies/data_hstha/ngc3351/hst_contsub/figs/ngc3351_map_hst_ha.png\n",
      "a Users/abarnes/Dropbox/work/Smallprojects/galaxies/data_hstha/ngc3351/hst_contsub/figs/comp_muse_ha.png\n",
      "a Users/abarnes/Dropbox/work/Smallprojects/galaxies/data_hstha/ngc3351/hst_contsub/figs/diffs_f814w.png\n",
      "a Users/abarnes/Dropbox/work/Smallprojects/galaxies/data_hstha/ngc3351/hst_contsub/figs/comp_hst_ha.png\n",
      "a Users/abarnes/Dropbox/work/Smallprojects/galaxies/data_hstha/ngc3351/hst_contsub/figs/fit_f555w.png\n",
      "a Users/abarnes/Dropbox/work/Smallprojects/galaxies/data_hstha/ngc3351/muse/NGC3351-1.05asec_UVIS_F555W.fits\n",
      "a Users/abarnes/Dropbox/work/Smallprojects/galaxies/data_hstha/ngc3351/muse/NGC3351-1.05asec_ACS_F814W.fits\n",
      "a Users/abarnes/Dropbox/work/Smallprojects/galaxies/data_hstha/ngc3351/muse/NGC3351-1.05asec_ACS_F658N.fits\n",
      "a Users/abarnes/Dropbox/work/Smallprojects/galaxies/data_hstha/ngc3351/muse/.DS_Store\n",
      "a Users/abarnes/Dropbox/work/Smallprojects/galaxies/data_hstha/ngc3351/muse/NGC3351_nebmask.fits\n",
      "a Users/abarnes/Dropbox/work/Smallprojects/galaxies/data_hstha/ngc3351/muse/NGC3351-1.05asec_UVIS_F657N.fits\n",
      "a Users/abarnes/Dropbox/work/Smallprojects/galaxies/data_hstha/ngc3351/muse/NGC3351_starmask.fits\n",
      "a Users/abarnes/Dropbox/work/Smallprojects/galaxies/data_hstha/ngc3351/muse/NGC3351-1.05asec_MAPS.fits\n",
      "a Users/abarnes/Dropbox/work/Smallprojects/galaxies/data_hstha/ngc3351/muse/NGC3351-1.05asec_UVIS_F814W.fits\n",
      "a Users/abarnes/Dropbox/work/Smallprojects/galaxies/data_hstha/ngc3351/muse/NGC3351-1.05asec_UVIS_F658N.fits\n",
      "a Users/abarnes/Dropbox/work/Smallprojects/galaxies/data_hstha/ngc3351/muse/NGC3351-1.05asec_ACS_F555W.fits\n"
     ]
    },
    {
     "name": "stdout",
     "output_type": "stream",
     "text": [
      "Compressing: /Users/abarnes/Dropbox/work/Smallprojects/galaxies/data_hstha/ngc4536\n"
     ]
    },
    {
     "name": "stderr",
     "output_type": "stream",
     "text": [
      "tar: Removing leading '/' from member names\n",
      "a Users/abarnes/Dropbox/work/Smallprojects/galaxies/data_hstha/ngc4536\n",
      "a Users/abarnes/Dropbox/work/Smallprojects/galaxies/data_hstha/ngc4536/.DS_Store\n",
      "a Users/abarnes/Dropbox/work/Smallprojects/galaxies/data_hstha/ngc4536/hst_contsub\n",
      "a Users/abarnes/Dropbox/work/Smallprojects/galaxies/data_hstha/ngc4536/hst\n",
      "a Users/abarnes/Dropbox/work/Smallprojects/galaxies/data_hstha/ngc4536/hst/ngc4536_uvis_f657n_exp_drc_sci.fits\n",
      "a Users/abarnes/Dropbox/work/Smallprojects/galaxies/data_hstha/ngc4536/hst/ngc4536_uvis_f814w_exp_drc_sci.fits\n",
      "a Users/abarnes/Dropbox/work/Smallprojects/galaxies/data_hstha/ngc4536/hst/ngc4536_uvis_f555w_exp_drc_sci.fits\n",
      "a Users/abarnes/Dropbox/work/Smallprojects/galaxies/data_hstha/ngc4536/hst_contsub/ngc4536_hst_f657n_cont.fits\n",
      "a Users/abarnes/Dropbox/work/Smallprojects/galaxies/data_hstha/ngc4536/hst_contsub/figs\n",
      "a Users/abarnes/Dropbox/work/Smallprojects/galaxies/data_hstha/ngc4536/hst_contsub/ngc4536_hst_f657n_contsub.fits\n",
      "a Users/abarnes/Dropbox/work/Smallprojects/galaxies/data_hstha/ngc4536/hst_contsub/figs/ngc4536_map_hst_f657n_contsub.png\n",
      "tar: Removing leading '/' from member names\n",
      "a Users/abarnes/Dropbox/work/Smallprojects/galaxies/data_hstha/ic1954\n",
      "a Users/abarnes/Dropbox/work/Smallprojects/galaxies/data_hstha/ic1954/.DS_Store\n",
      "a Users/abarnes/Dropbox/work/Smallprojects/galaxies/data_hstha/ic1954/hst_contsub\n",
      "a Users/abarnes/Dropbox/work/Smallprojects/galaxies/data_hstha/ic1954/hst\n",
      "a Users/abarnes/Dropbox/work/Smallprojects/galaxies/data_hstha/ic1954/hst/ic1954_uvis_f814w_exp_drc_sci.fits"
     ]
    },
    {
     "name": "stdout",
     "output_type": "stream",
     "text": [
      "Compressing: /Users/abarnes/Dropbox/work/Smallprojects/galaxies/data_hstha/ic1954\n"
     ]
    },
    {
     "name": "stderr",
     "output_type": "stream",
     "text": [
      "\n",
      "a Users/abarnes/Dropbox/work/Smallprojects/galaxies/data_hstha/ic1954/hst/ic1954_uvis_f657n_exp_drc_sci.fits\n",
      "a Users/abarnes/Dropbox/work/Smallprojects/galaxies/data_hstha/ic1954/hst/ic1954_uvis_f555w_exp_drc_sci.fits\n",
      "a Users/abarnes/Dropbox/work/Smallprojects/galaxies/data_hstha/ic1954/hst_contsub/ic1954_hst_f657n_cont.fits\n",
      "a Users/abarnes/Dropbox/work/Smallprojects/galaxies/data_hstha/ic1954/hst_contsub/figs\n",
      "a Users/abarnes/Dropbox/work/Smallprojects/galaxies/data_hstha/ic1954/hst_contsub/ic1954_hst_f657n_contsub_ic.fits\n",
      "a Users/abarnes/Dropbox/work/Smallprojects/galaxies/data_hstha/ic1954/hst_contsub/ic1954_hst_f657n_contsub.fits\n",
      "a Users/abarnes/Dropbox/work/Smallprojects/galaxies/data_hstha/ic1954/hst_contsub/figs/ic1954_map_hst_f657n_contsub.png\n",
      "tar: Removing leading '/' from member names\n",
      "a Users/abarnes/Dropbox/work/Smallprojects/galaxies/data_hstha/ngc2775\n",
      "a Users/abarnes/Dropbox/work/Smallprojects/galaxies/data_hstha/ngc2775/.DS_Store\n",
      "a Users/abarnes/Dropbox/work/Smallprojects/galaxies/data_hstha/ngc2775/hst_contsub\n",
      "a Users/abarnes/Dropbox/work/Smallprojects/galaxies/data_hstha/ngc2775/hst\n",
      "a Users/abarnes/Dropbox/work/Smallprojects/galaxies/data_hstha/ngc2775/hst/ngc2775_uvis_f555w_exp_drc_sci.fits"
     ]
    },
    {
     "name": "stdout",
     "output_type": "stream",
     "text": [
      "Compressing: /Users/abarnes/Dropbox/work/Smallprojects/galaxies/data_hstha/ngc2775\n"
     ]
    },
    {
     "name": "stderr",
     "output_type": "stream",
     "text": [
      "\n",
      "a Users/abarnes/Dropbox/work/Smallprojects/galaxies/data_hstha/ngc2775/hst/ngc2775_uvis_f814w_exp_drc_sci.fits\n",
      "a Users/abarnes/Dropbox/work/Smallprojects/galaxies/data_hstha/ngc2775/hst/ngc2775_uvis_f657n_exp_drc_sci.fits\n",
      "a Users/abarnes/Dropbox/work/Smallprojects/galaxies/data_hstha/ngc2775/hst_contsub/ngc2775_hst_f657n_cont.fits\n",
      "a Users/abarnes/Dropbox/work/Smallprojects/galaxies/data_hstha/ngc2775/hst_contsub/figs\n",
      "a Users/abarnes/Dropbox/work/Smallprojects/galaxies/data_hstha/ngc2775/hst_contsub/ngc2775_hst_f657n_contsub.fits\n",
      "a Users/abarnes/Dropbox/work/Smallprojects/galaxies/data_hstha/ngc2775/hst_contsub/figs/ngc2775_map_hst_f657n_contsub.png\n",
      "tar: Removing leading '/' from member names\n",
      "a Users/abarnes/Dropbox/work/Smallprojects/galaxies/data_hstha/ngc5248\n",
      "a Users/abarnes/Dropbox/work/Smallprojects/galaxies/data_hstha/ngc5248/.DS_Store\n",
      "a Users/abarnes/Dropbox/work/Smallprojects/galaxies/data_hstha/ngc5248/hst_contsub\n",
      "a Users/abarnes/Dropbox/work/Smallprojects/galaxies/data_hstha/ngc5248/hst\n",
      "a Users/abarnes/Dropbox/work/Smallprojects/galaxies/data_hstha/ngc5248/hst/ngc5248_uvis_f555w_exp_drc_sci.fits"
     ]
    },
    {
     "name": "stdout",
     "output_type": "stream",
     "text": [
      "Compressing: /Users/abarnes/Dropbox/work/Smallprojects/galaxies/data_hstha/ngc5248\n"
     ]
    },
    {
     "name": "stderr",
     "output_type": "stream",
     "text": [
      "\n",
      "a Users/abarnes/Dropbox/work/Smallprojects/galaxies/data_hstha/ngc5248/hst/ngc5248_uvis_f657n_exp_drc_sci.fits\n",
      "a Users/abarnes/Dropbox/work/Smallprojects/galaxies/data_hstha/ngc5248/hst/ngc5248_uvis_f814w_exp_drc_sci.fits\n",
      "a Users/abarnes/Dropbox/work/Smallprojects/galaxies/data_hstha/ngc5248/hst_contsub/.DS_Store\n",
      "a Users/abarnes/Dropbox/work/Smallprojects/galaxies/data_hstha/ngc5248/hst_contsub/figs\n",
      "a Users/abarnes/Dropbox/work/Smallprojects/galaxies/data_hstha/ngc5248/hst_contsub/ngc5248_hst_f657n_cont.fits\n",
      "a Users/abarnes/Dropbox/work/Smallprojects/galaxies/data_hstha/ngc5248/hst_contsub/ngc5248_hst_f657n_contsub.fits\n",
      "a Users/abarnes/Dropbox/work/Smallprojects/galaxies/data_hstha/ngc5248/hst_contsub/figs/ngc5248_map_hst_f657n_contsub.png\n",
      "tar: Removing leading '/' from member names\n",
      "a Users/abarnes/Dropbox/work/Smallprojects/galaxies/data_hstha/ngc2997e\n",
      "a Users/abarnes/Dropbox/work/Smallprojects/galaxies/data_hstha/ngc2997e/.DS_Store\n",
      "a Users/abarnes/Dropbox/work/Smallprojects/galaxies/data_hstha/ngc2997e/hst_contsub\n",
      "a Users/abarnes/Dropbox/work/Smallprojects/galaxies/data_hstha/ngc2997e/hst\n",
      "a Users/abarnes/Dropbox/work/Smallprojects/galaxies/data_hstha/ngc2997e/hst/ngc2997e_uvis_f555w_exp_drc_sci.fits"
     ]
    },
    {
     "name": "stdout",
     "output_type": "stream",
     "text": [
      "Compressing: /Users/abarnes/Dropbox/work/Smallprojects/galaxies/data_hstha/ngc2997e\n"
     ]
    },
    {
     "name": "stderr",
     "output_type": "stream",
     "text": [
      "\n",
      "a Users/abarnes/Dropbox/work/Smallprojects/galaxies/data_hstha/ngc2997e/hst/ngc2997e_uvis_f814w_exp_drc_sci.fits\n",
      "a Users/abarnes/Dropbox/work/Smallprojects/galaxies/data_hstha/ngc2997e/hst/ngc2997e_uvis_f657n_exp_drc_sci.fits\n",
      "a Users/abarnes/Dropbox/work/Smallprojects/galaxies/data_hstha/ngc2997e/hst_contsub/ngc2997e_hst_f657n_contsub_ic.fits\n",
      "a Users/abarnes/Dropbox/work/Smallprojects/galaxies/data_hstha/ngc2997e/hst_contsub/figs\n",
      "a Users/abarnes/Dropbox/work/Smallprojects/galaxies/data_hstha/ngc2997e/hst_contsub/ngc2997e_hst_f657n_contsub.fits\n",
      "a Users/abarnes/Dropbox/work/Smallprojects/galaxies/data_hstha/ngc2997e/hst_contsub/ngc2997e_hst_f657n_cont.fits\n",
      "a Users/abarnes/Dropbox/work/Smallprojects/galaxies/data_hstha/ngc2997e/hst_contsub/figs/ngc2997e_map_hst_f657n_contsub.png\n",
      "tar: Removing leading '/' from member names\n",
      "a Users/abarnes/Dropbox/work/Smallprojects/galaxies/data_hstha/ngc4694\n",
      "a Users/abarnes/Dropbox/work/Smallprojects/galaxies/data_hstha/ngc4694/.DS_Store\n",
      "a Users/abarnes/Dropbox/work/Smallprojects/galaxies/data_hstha/ngc4694/hst_contsub\n",
      "a Users/abarnes/Dropbox/work/Smallprojects/galaxies/data_hstha/ngc4694/hst\n",
      "a Users/abarnes/Dropbox/work/Smallprojects/galaxies/data_hstha/ngc4694/hst/ngc4694_uvis_f555w_exp_drc_sci.fits"
     ]
    },
    {
     "name": "stdout",
     "output_type": "stream",
     "text": [
      "Compressing: /Users/abarnes/Dropbox/work/Smallprojects/galaxies/data_hstha/ngc4694\n"
     ]
    },
    {
     "name": "stderr",
     "output_type": "stream",
     "text": [
      "\n",
      "a Users/abarnes/Dropbox/work/Smallprojects/galaxies/data_hstha/ngc4694/hst/ngc4694_uvis_f814w_exp_drc_sci.fits\n",
      "a Users/abarnes/Dropbox/work/Smallprojects/galaxies/data_hstha/ngc4694/hst/ngc4694_uvis_f657n_exp_drc_sci.fits\n",
      "a Users/abarnes/Dropbox/work/Smallprojects/galaxies/data_hstha/ngc4694/hst_contsub/figs\n",
      "a Users/abarnes/Dropbox/work/Smallprojects/galaxies/data_hstha/ngc4694/hst_contsub/ngc4694_hst_f657n_contsub.fits\n",
      "a Users/abarnes/Dropbox/work/Smallprojects/galaxies/data_hstha/ngc4694/hst_contsub/ngc4694_hst_f657n_cont.fits\n",
      "a Users/abarnes/Dropbox/work/Smallprojects/galaxies/data_hstha/ngc4694/hst_contsub/ngc4694_hst_f657n_contsub_ic.fits\n",
      "a Users/abarnes/Dropbox/work/Smallprojects/galaxies/data_hstha/ngc4694/hst_contsub/figs/ngc4694_map_hst_f657n_contsub.png\n",
      "tar: Removing leading '/' from member names\n",
      "a Users/abarnes/Dropbox/work/Smallprojects/galaxies/data_hstha/ngc4826\n",
      "a Users/abarnes/Dropbox/work/Smallprojects/galaxies/data_hstha/ngc4826/.DS_Store\n",
      "a Users/abarnes/Dropbox/work/Smallprojects/galaxies/data_hstha/ngc4826/hst_contsub\n",
      "a Users/abarnes/Dropbox/work/Smallprojects/galaxies/data_hstha/ngc4826/hst\n",
      "a Users/abarnes/Dropbox/work/Smallprojects/galaxies/data_hstha/ngc4826/hst/.DS_Store\n",
      "a Users/abarnes/Dropbox/work/Smallprojects/galaxies/data_hstha/ngc4826/hst/ngc4826_uvis_f657n_exp_drc_sci.fits"
     ]
    },
    {
     "name": "stdout",
     "output_type": "stream",
     "text": [
      "Compressing: /Users/abarnes/Dropbox/work/Smallprojects/galaxies/data_hstha/ngc4826\n"
     ]
    },
    {
     "name": "stderr",
     "output_type": "stream",
     "text": [
      "\n",
      "a Users/abarnes/Dropbox/work/Smallprojects/galaxies/data_hstha/ngc4826/hst/ngc4826_uvis_f555w_err_drc_wht.fits\n",
      "a Users/abarnes/Dropbox/work/Smallprojects/galaxies/data_hstha/ngc4826/hst/ngc4826_uvis_f814w_exp_drc_sci.fits\n",
      "a Users/abarnes/Dropbox/work/Smallprojects/galaxies/data_hstha/ngc4826/hst/ngc4826_uvis_f814w_err_drc_wht.fits\n",
      "a Users/abarnes/Dropbox/work/Smallprojects/galaxies/data_hstha/ngc4826/hst/ngc4826_uvis_f555w_exp_drc_sci.fits\n",
      "a Users/abarnes/Dropbox/work/Smallprojects/galaxies/data_hstha/ngc4826/hst/ngc4826_uvis_f657n_err_drc_wht.fits\n",
      "a Users/abarnes/Dropbox/work/Smallprojects/galaxies/data_hstha/ngc4826/hst_contsub/ngc4826_hst_f657n_contsub_err.fits\n",
      "a Users/abarnes/Dropbox/work/Smallprojects/galaxies/data_hstha/ngc4826/hst_contsub/.DS_Store\n",
      "a Users/abarnes/Dropbox/work/Smallprojects/galaxies/data_hstha/ngc4826/hst_contsub/ngc4826_hst_f657n_contsub.fits\n",
      "a Users/abarnes/Dropbox/work/Smallprojects/galaxies/data_hstha/ngc4826/hst_contsub/figs\n",
      "a Users/abarnes/Dropbox/work/Smallprojects/galaxies/data_hstha/ngc4826/hst_contsub/ngc4826_hst_f657n_cont.fits\n",
      "a Users/abarnes/Dropbox/work/Smallprojects/galaxies/data_hstha/ngc4826/hst_contsub/ngc4826_hst_f657n_contsub_ic.fits\n",
      "a Users/abarnes/Dropbox/work/Smallprojects/galaxies/data_hstha/ngc4826/hst_contsub/figs/ngc4826_map_hst_f657n_contsub.png\n",
      "tar: Removing leading '/' from member names\n",
      "a Users/abarnes/Dropbox/work/Smallprojects/galaxies/data_hstha/ngc4689\n",
      "a Users/abarnes/Dropbox/work/Smallprojects/galaxies/data_hstha/ngc4689/.DS_Store\n",
      "a Users/abarnes/Dropbox/work/Smallprojects/galaxies/data_hstha/ngc4689/hst_contsub\n",
      "a Users/abarnes/Dropbox/work/Smallprojects/galaxies/data_hstha/ngc4689/hst\n",
      "a Users/abarnes/Dropbox/work/Smallprojects/galaxies/data_hstha/ngc4689/hst/ngc4689_uvis_f555w_exp_drc_sci.fits"
     ]
    },
    {
     "name": "stdout",
     "output_type": "stream",
     "text": [
      "Compressing: /Users/abarnes/Dropbox/work/Smallprojects/galaxies/data_hstha/ngc4689\n"
     ]
    },
    {
     "name": "stderr",
     "output_type": "stream",
     "text": [
      "\n",
      "a Users/abarnes/Dropbox/work/Smallprojects/galaxies/data_hstha/ngc4689/hst/ngc4689_uvis_f657n_exp_drc_sci.fits\n",
      "a Users/abarnes/Dropbox/work/Smallprojects/galaxies/data_hstha/ngc4689/hst/ngc4689_uvis_f814w_exp_drc_sci.fits\n",
      "a Users/abarnes/Dropbox/work/Smallprojects/galaxies/data_hstha/ngc4689/hst_contsub/ngc4689_hst_f657n_contsub.fits\n",
      "a Users/abarnes/Dropbox/work/Smallprojects/galaxies/data_hstha/ngc4689/hst_contsub/figs\n",
      "a Users/abarnes/Dropbox/work/Smallprojects/galaxies/data_hstha/ngc4689/hst_contsub/ngc4689_hst_f657n_cont.fits\n",
      "a Users/abarnes/Dropbox/work/Smallprojects/galaxies/data_hstha/ngc4689/hst_contsub/figs/ngc4689_map_hst_f657n_contsub.png\n",
      "tar: Removing leading '/' from member names\n",
      "a Users/abarnes/Dropbox/work/Smallprojects/galaxies/data_hstha/ngc5194\n",
      "a Users/abarnes/Dropbox/work/Smallprojects/galaxies/data_hstha/ngc5194/.DS_Store\n",
      "a Users/abarnes/Dropbox/work/Smallprojects/galaxies/data_hstha/ngc5194/hst_contsub\n",
      "a Users/abarnes/Dropbox/work/Smallprojects/galaxies/data_hstha/ngc5194/hst\n",
      "a Users/abarnes/Dropbox/work/Smallprojects/galaxies/data_hstha/ngc5194/hst/ngc5194_hlsp_heritage_hst_acs-wfc_m51_f658n_v1_drz_sci.fits"
     ]
    },
    {
     "name": "stdout",
     "output_type": "stream",
     "text": [
      "Compressing: /Users/abarnes/Dropbox/work/Smallprojects/galaxies/data_hstha/ngc5194\n"
     ]
    },
    {
     "name": "stderr",
     "output_type": "stream",
     "text": [
      "\n",
      "a Users/abarnes/Dropbox/work/Smallprojects/galaxies/data_hstha/ngc5194/hst/ngc5194_hlsp_heritage_hst_acs-wfc_m51_f555w_v1_drz_sci.fits\n",
      "a Users/abarnes/Dropbox/work/Smallprojects/galaxies/data_hstha/ngc5194/hst/ngc5194_hlsp_heritage_hst_acs-wfc_m51_f814w_v1_drz_sci.fits\n",
      "a Users/abarnes/Dropbox/work/Smallprojects/galaxies/data_hstha/ngc5194/hst_contsub/.DS_Store\n",
      "a Users/abarnes/Dropbox/work/Smallprojects/galaxies/data_hstha/ngc5194/hst_contsub/figs\n",
      "a Users/abarnes/Dropbox/work/Smallprojects/galaxies/data_hstha/ngc5194/hst_contsub/ngc5194_hst_f658n_contsub.fits\n",
      "a Users/abarnes/Dropbox/work/Smallprojects/galaxies/data_hstha/ngc5194/hst_contsub/ngc5194_hst_f658n_cont.fits\n",
      "a Users/abarnes/Dropbox/work/Smallprojects/galaxies/data_hstha/ngc5194/hst_contsub/figs/.DS_Store\n",
      "a Users/abarnes/Dropbox/work/Smallprojects/galaxies/data_hstha/ngc5194/hst_contsub/figs/ngc5194_map_hst_f658n_contsub.png\n",
      "tar: Removing leading '/' from member names\n",
      "a Users/abarnes/Dropbox/work/Smallprojects/galaxies/data_hstha/ngc1672\n",
      "a Users/abarnes/Dropbox/work/Smallprojects/galaxies/data_hstha/ngc1672/.DS_Store\n",
      "a Users/abarnes/Dropbox/work/Smallprojects/galaxies/data_hstha/ngc1672/muse\n",
      "a Users/abarnes/Dropbox/work/Smallprojects/galaxies/data_hstha/ngc1672/hst_contsub_f550m\n",
      "a Users/abarnes/Dropbox/work/Smallprojects/galaxies/data_hstha/ngc1672/rgb\n",
      "a Users/abarnes/Dropbox/work/Smallprojects/galaxies/data_hstha/ngc1672/hst_contsub\n",
      "a Users/abarnes/Dropbox/work/Smallprojects/galaxies/data_hstha/ngc1672/jwst\n",
      "a Users/abarnes/Dropbox/work/Smallprojects/galaxies/data_hstha/ngc1672/hst\n",
      "a Users/abarnes/Dropbox/work/Smallprojects/galaxies/data_hstha/ngc1672/hst/ngc1672_acs_f658n_exp_drc_sci.fits"
     ]
    },
    {
     "name": "stdout",
     "output_type": "stream",
     "text": [
      "Compressing: /Users/abarnes/Dropbox/work/Smallprojects/galaxies/data_hstha/ngc1672\n"
     ]
    },
    {
     "name": "stderr",
     "output_type": "stream",
     "text": [
      "\n",
      "a Users/abarnes/Dropbox/work/Smallprojects/galaxies/data_hstha/ngc1672/hst/ngc1672_acs_f550m_exp_drc_sci.fits\n",
      "a Users/abarnes/Dropbox/work/Smallprojects/galaxies/data_hstha/ngc1672/hst/ngc1672_uvis_f555w_exp_drc_sci.fits\n",
      "a Users/abarnes/Dropbox/work/Smallprojects/galaxies/data_hstha/ngc1672/hst/ngc1672_acs_f814w_err_drc_wht.fits\n",
      "a Users/abarnes/Dropbox/work/Smallprojects/galaxies/data_hstha/ngc1672/hst/ngc1672_acs_f814w_exp_drc_sci.fits\n",
      "a Users/abarnes/Dropbox/work/Smallprojects/galaxies/data_hstha/ngc1672/hst/ngc1672_uvis_f555w_err_drc_wht.fits\n",
      "a Users/abarnes/Dropbox/work/Smallprojects/galaxies/data_hstha/ngc1672/hst/ngc1672_acs_f658n_err_drc_wht.fits\n",
      "a Users/abarnes/Dropbox/work/Smallprojects/galaxies/data_hstha/ngc1672/jwst/.DS_Store\n",
      "a Users/abarnes/Dropbox/work/Smallprojects/galaxies/data_hstha/ngc1672/jwst/ngc1672_nircam_lv3_f300m_i2d_anchor.fits\n",
      "a Users/abarnes/Dropbox/work/Smallprojects/galaxies/data_hstha/ngc1672/hst_contsub/ngc1672_muse_f658n_cont.fits\n",
      "a Users/abarnes/Dropbox/work/Smallprojects/galaxies/data_hstha/ngc1672/hst_contsub/ngc1672_hst_f555w_an.fits\n",
      "a Users/abarnes/Dropbox/work/Smallprojects/galaxies/data_hstha/ngc1672/hst_contsub/ngc1672_muse_f555w.fits\n",
      "a Users/abarnes/Dropbox/work/Smallprojects/galaxies/data_hstha/ngc1672/hst_contsub/ngc1672_hst_ha_bsic.fits\n",
      "a Users/abarnes/Dropbox/work/Smallprojects/galaxies/data_hstha/ngc1672/hst_contsub/table_fits_haanchor.csv\n",
      "a Users/abarnes/Dropbox/work/Smallprojects/galaxies/data_hstha/ngc1672/hst_contsub/.DS_Store\n",
      "a Users/abarnes/Dropbox/work/Smallprojects/galaxies/data_hstha/ngc1672/hst_contsub/ngc1672_hst_ha_ic.fits\n",
      "a Users/abarnes/Dropbox/work/Smallprojects/galaxies/data_hstha/ngc1672/hst_contsub/ngc1672_hst_f814w_smre.fits\n",
      "a Users/abarnes/Dropbox/work/Smallprojects/galaxies/data_hstha/ngc1672/hst_contsub/ngc1672_muse_nebmask.fits\n",
      "a Users/abarnes/Dropbox/work/Smallprojects/galaxies/data_hstha/ngc1672/hst_contsub/ngc1672_hst_ha.fits\n",
      "a Users/abarnes/Dropbox/work/Smallprojects/galaxies/data_hstha/ngc1672/hst_contsub/ngc1672_hst_f555w.fits\n",
      "a Users/abarnes/Dropbox/work/Smallprojects/galaxies/data_hstha/ngc1672/hst_contsub/ngc1672_hst_ha_si.fits\n",
      "a Users/abarnes/Dropbox/work/Smallprojects/galaxies/data_hstha/ngc1672/hst_contsub/figs\n",
      "a Users/abarnes/Dropbox/work/Smallprojects/galaxies/data_hstha/ngc1672/hst_contsub/ngc1672_muse_ha.fits\n",
      "a Users/abarnes/Dropbox/work/Smallprojects/galaxies/data_hstha/ngc1672/hst_contsub/ngc1672_hst_ha_i.fits\n",
      "a Users/abarnes/Dropbox/work/Smallprojects/galaxies/data_hstha/ngc1672/hst_contsub/ngc1672_muse_f658n_contsub.fits\n",
      "a Users/abarnes/Dropbox/work/Smallprojects/galaxies/data_hstha/ngc1672/hst_contsub/ngc1672_hst_f658n_an.fits\n",
      "a Users/abarnes/Dropbox/work/Smallprojects/galaxies/data_hstha/ngc1672/hst_contsub/ngc1672_hst_ha_err.fits\n",
      "a Users/abarnes/Dropbox/work/Smallprojects/galaxies/data_hstha/ngc1672/hst_contsub/ngc1672_hst_f555w_smre.fits\n",
      "a Users/abarnes/Dropbox/work/Smallprojects/galaxies/data_hstha/ngc1672/hst_contsub/ngc1672_hst_f658n_an_contsub.fits\n",
      "a Users/abarnes/Dropbox/work/Smallprojects/galaxies/data_hstha/ngc1672/hst_contsub/table_fits_haanchor.fits\n",
      "a Users/abarnes/Dropbox/work/Smallprojects/galaxies/data_hstha/ngc1672/hst_contsub/ngc1672_hst_f814w_an.fits\n",
      "a Users/abarnes/Dropbox/work/Smallprojects/galaxies/data_hstha/ngc1672/hst_contsub/ngc1672_hst_f658n_contsub.fits\n",
      "a Users/abarnes/Dropbox/work/Smallprojects/galaxies/data_hstha/ngc1672/hst_contsub/ngc1672_hst_ha_s.fits\n",
      "a Users/abarnes/Dropbox/work/Smallprojects/galaxies/data_hstha/ngc1672/hst_contsub/table_fits_filteranchor.csv\n",
      "a Users/abarnes/Dropbox/work/Smallprojects/galaxies/data_hstha/ngc1672/hst_contsub/ngc1672_muse_f658n.fits\n",
      "a Users/abarnes/Dropbox/work/Smallprojects/galaxies/data_hstha/ngc1672/hst_contsub/ngc1672_hst_ha_sic.fits\n",
      "a Users/abarnes/Dropbox/work/Smallprojects/galaxies/data_hstha/ngc1672/hst_contsub/ngc1672_muse_f814w.fits\n",
      "a Users/abarnes/Dropbox/work/Smallprojects/galaxies/data_hstha/ngc1672/hst_contsub/ngc1672_muse_nebmask_regrid.fits\n",
      "a Users/abarnes/Dropbox/work/Smallprojects/galaxies/data_hstha/ngc1672/hst_contsub/table_fits_filteranchor.fits\n",
      "a Users/abarnes/Dropbox/work/Smallprojects/galaxies/data_hstha/ngc1672/hst_contsub/ngc1672_hst_f658n_cont.fits\n",
      "a Users/abarnes/Dropbox/work/Smallprojects/galaxies/data_hstha/ngc1672/hst_contsub/ngc1672_hst_f814w.fits\n",
      "a Users/abarnes/Dropbox/work/Smallprojects/galaxies/data_hstha/ngc1672/hst_contsub/ngc1672_hst_f658n.fits\n",
      "a Users/abarnes/Dropbox/work/Smallprojects/galaxies/data_hstha/ngc1672/hst_contsub/ngc1672_hst_f658n_an_cont.fits\n",
      "a Users/abarnes/Dropbox/work/Smallprojects/galaxies/data_hstha/ngc1672/hst_contsub/ngc1672_hst_f658n_smre.fits\n",
      "a Users/abarnes/Dropbox/work/Smallprojects/galaxies/data_hstha/ngc1672/hst_contsub/figs/ngc1672_map_hst_ha.png\n",
      "a Users/abarnes/Dropbox/work/Smallprojects/galaxies/data_hstha/ngc1672/hst_contsub/figs/diffs_f555w.png\n",
      "a Users/abarnes/Dropbox/work/Smallprojects/galaxies/data_hstha/ngc1672/hst_contsub/figs/diffs_f658n.png\n",
      "a Users/abarnes/Dropbox/work/Smallprojects/galaxies/data_hstha/ngc1672/hst_contsub/figs/fit_halpha_an_scaled_neb.png\n",
      "a Users/abarnes/Dropbox/work/Smallprojects/galaxies/data_hstha/ngc1672/hst_contsub/figs/histo_hdu_hst_an_halpha_scaled.png\n",
      "a Users/abarnes/Dropbox/work/Smallprojects/galaxies/data_hstha/ngc1672/hst_contsub/figs/fit_halpha_an_neb.png\n",
      "a Users/abarnes/Dropbox/work/Smallprojects/galaxies/data_hstha/ngc1672/hst_contsub/figs/fit_f814w.png\n",
      "a Users/abarnes/Dropbox/work/Smallprojects/galaxies/data_hstha/ngc1672/hst_contsub/figs/comp_hst_ha_matchedcolor.png\n",
      "a Users/abarnes/Dropbox/work/Smallprojects/galaxies/data_hstha/ngc1672/hst_contsub/figs/flux_nebmasks_halpha_an_scaled_neb.png\n",
      "a Users/abarnes/Dropbox/work/Smallprojects/galaxies/data_hstha/ngc1672/hst_contsub/figs/comp_muse_ha_matchedcolor.png\n",
      "a Users/abarnes/Dropbox/work/Smallprojects/galaxies/data_hstha/ngc1672/hst_contsub/figs/fit_f658n.png\n",
      "a Users/abarnes/Dropbox/work/Smallprojects/galaxies/data_hstha/ngc1672/hst_contsub/figs/comp_muse_ha.png\n",
      "a Users/abarnes/Dropbox/work/Smallprojects/galaxies/data_hstha/ngc1672/hst_contsub/figs/diffs_f814w.png\n",
      "a Users/abarnes/Dropbox/work/Smallprojects/galaxies/data_hstha/ngc1672/hst_contsub/figs/comp_hst_ha.png\n",
      "a Users/abarnes/Dropbox/work/Smallprojects/galaxies/data_hstha/ngc1672/hst_contsub/figs/fit_f555w.png\n",
      "a Users/abarnes/Dropbox/work/Smallprojects/galaxies/data_hstha/ngc1672/rgb/STScI-01EVVJGTAZ5EVHF1EWS8SH8F06.jpg\n",
      "a Users/abarnes/Dropbox/work/Smallprojects/galaxies/data_hstha/ngc1672/rgb/tmp_jwst.fits\n",
      "a Users/abarnes/Dropbox/work/Smallprojects/galaxies/data_hstha/ngc1672/rgb/tmp_hst.fits\n",
      "a Users/abarnes/Dropbox/work/Smallprojects/galaxies/data_hstha/ngc1672/rgb/STScI-01HNGA6XHK8A3YAFYP7XFYWB5E.png\n",
      "a Users/abarnes/Dropbox/work/Smallprojects/galaxies/data_hstha/ngc1672/rgb/jwst_hst_rotated.png\n",
      "a Users/abarnes/Dropbox/work/Smallprojects/galaxies/data_hstha/ngc1672/rgb/STScI-01HMA442A3CJ423JT25V3FX704.png\n",
      "a Users/abarnes/Dropbox/work/Smallprojects/galaxies/data_hstha/ngc1672/rgb/hst_rotated.png\n",
      "a Users/abarnes/Dropbox/work/Smallprojects/galaxies/data_hstha/ngc1672/hst_contsub_f550m/.DS_Store\n",
      "a Users/abarnes/Dropbox/work/Smallprojects/galaxies/data_hstha/ngc1672/hst_contsub_f550m/figs\n",
      "a Users/abarnes/Dropbox/work/Smallprojects/galaxies/data_hstha/ngc1672/muse/NGC1672-0.96asec_ACS_F555W.fits\n",
      "a Users/abarnes/Dropbox/work/Smallprojects/galaxies/data_hstha/ngc1672/muse/.DS_Store\n",
      "a Users/abarnes/Dropbox/work/Smallprojects/galaxies/data_hstha/ngc1672/muse/NGC1672-0.96asec_UVIS_F555W.fits\n",
      "a Users/abarnes/Dropbox/work/Smallprojects/galaxies/data_hstha/ngc1672/muse/NGC1672_starmask.fits\n",
      "a Users/abarnes/Dropbox/work/Smallprojects/galaxies/data_hstha/ngc1672/muse/NGC1672-0.96asec_UVIS_F657N.fits\n",
      "a Users/abarnes/Dropbox/work/Smallprojects/galaxies/data_hstha/ngc1672/muse/NGC1672-0.96asec_UVIS_F814W.fits\n",
      "a Users/abarnes/Dropbox/work/Smallprojects/galaxies/data_hstha/ngc1672/muse/NGC1672-0.96asec_UVIS_F658N.fits\n",
      "a Users/abarnes/Dropbox/work/Smallprojects/galaxies/data_hstha/ngc1672/muse/NGC1672-0.96asec_MAPS.fits\n",
      "a Users/abarnes/Dropbox/work/Smallprojects/galaxies/data_hstha/ngc1672/muse/NGC1672-0.96asec_ACS_F658N.fits\n",
      "a Users/abarnes/Dropbox/work/Smallprojects/galaxies/data_hstha/ngc1672/muse/NGC1672-0.96asec_ACS_F814W.fits\n",
      "a Users/abarnes/Dropbox/work/Smallprojects/galaxies/data_hstha/ngc1672/muse/NGC1672_nebmask.fits\n"
     ]
    },
    {
     "name": "stdout",
     "output_type": "stream",
     "text": [
      "Compressing: /Users/abarnes/Dropbox/work/Smallprojects/galaxies/data_hstha/ngc4571\n"
     ]
    },
    {
     "name": "stderr",
     "output_type": "stream",
     "text": [
      "tar: Removing leading '/' from member names\n",
      "a Users/abarnes/Dropbox/work/Smallprojects/galaxies/data_hstha/ngc4571\n",
      "a Users/abarnes/Dropbox/work/Smallprojects/galaxies/data_hstha/ngc4571/.DS_Store\n",
      "a Users/abarnes/Dropbox/work/Smallprojects/galaxies/data_hstha/ngc4571/hst_contsub\n",
      "a Users/abarnes/Dropbox/work/Smallprojects/galaxies/data_hstha/ngc4571/hst\n",
      "a Users/abarnes/Dropbox/work/Smallprojects/galaxies/data_hstha/ngc4571/hst/ngc4571_uvis_f657n_exp_drc_sci.fits\n",
      "a Users/abarnes/Dropbox/work/Smallprojects/galaxies/data_hstha/ngc4571/hst/ngc4571_uvis_f814w_exp_drc_sci.fits\n",
      "a Users/abarnes/Dropbox/work/Smallprojects/galaxies/data_hstha/ngc4571/hst/.DS_Store\n",
      "a Users/abarnes/Dropbox/work/Smallprojects/galaxies/data_hstha/ngc4571/hst/ngc4571_uvis_f555w_exp_drc_sci.fits\n",
      "a Users/abarnes/Dropbox/work/Smallprojects/galaxies/data_hstha/ngc4571/hst_contsub/figs\n",
      "a Users/abarnes/Dropbox/work/Smallprojects/galaxies/data_hstha/ngc4571/hst_contsub/ngc4571_hst_f657n_cont.fits\n",
      "a Users/abarnes/Dropbox/work/Smallprojects/galaxies/data_hstha/ngc4571/hst_contsub/ngc4571_hst_f657n_contsub.fits\n",
      "a Users/abarnes/Dropbox/work/Smallprojects/galaxies/data_hstha/ngc4571/hst_contsub/figs/ngc4571_map_hst_ha.png\n",
      "a Users/abarnes/Dropbox/work/Smallprojects/galaxies/data_hstha/ngc4571/hst_contsub/figs/ngc4571_map_hst_f657n_contsub.png\n",
      "tar: Removing leading '/' from member names\n",
      "a Users/abarnes/Dropbox/work/Smallprojects/galaxies/data_hstha/ngc4951\n",
      "a Users/abarnes/Dropbox/work/Smallprojects/galaxies/data_hstha/ngc4951/.DS_Store\n",
      "a Users/abarnes/Dropbox/work/Smallprojects/galaxies/data_hstha/ngc4951/hst_contsub\n",
      "a Users/abarnes/Dropbox/work/Smallprojects/galaxies/data_hstha/ngc4951/hst\n",
      "a Users/abarnes/Dropbox/work/Smallprojects/galaxies/data_hstha/ngc4951/hst/ngc4951_uvis_f657n_exp_drc_sci.fits"
     ]
    },
    {
     "name": "stdout",
     "output_type": "stream",
     "text": [
      "Compressing: /Users/abarnes/Dropbox/work/Smallprojects/galaxies/data_hstha/ngc4951\n"
     ]
    },
    {
     "name": "stderr",
     "output_type": "stream",
     "text": [
      "\n",
      "a Users/abarnes/Dropbox/work/Smallprojects/galaxies/data_hstha/ngc4951/hst/ngc4951_uvis_f814w_exp_drc_sci.fits\n",
      "a Users/abarnes/Dropbox/work/Smallprojects/galaxies/data_hstha/ngc4951/hst/ngc4951_uvis_f555w_exp_drc_sci.fits\n",
      "a Users/abarnes/Dropbox/work/Smallprojects/galaxies/data_hstha/ngc4951/hst_contsub/ngc4951_hst_f657n_contsub.fits\n",
      "a Users/abarnes/Dropbox/work/Smallprojects/galaxies/data_hstha/ngc4951/hst_contsub/figs\n",
      "a Users/abarnes/Dropbox/work/Smallprojects/galaxies/data_hstha/ngc4951/hst_contsub/ngc4951_hst_f657n_cont.fits\n",
      "a Users/abarnes/Dropbox/work/Smallprojects/galaxies/data_hstha/ngc4951/hst_contsub/figs/ngc4951_map_hst_f657n_contsub.png\n",
      "tar: Removing leading '/' from member names\n",
      "a Users/abarnes/Dropbox/work/Smallprojects/galaxies/data_hstha/ngc3344\n",
      "a Users/abarnes/Dropbox/work/Smallprojects/galaxies/data_hstha/ngc3344/.DS_Store\n",
      "a Users/abarnes/Dropbox/work/Smallprojects/galaxies/data_hstha/ngc3344/hst_contsub\n",
      "a Users/abarnes/Dropbox/work/Smallprojects/galaxies/data_hstha/ngc3344/hst\n",
      "a Users/abarnes/Dropbox/work/Smallprojects/galaxies/data_hstha/ngc3344/hst/ngc3344_hst_13364_22_wfc3_uvis_f814w_sci.fits"
     ]
    },
    {
     "name": "stdout",
     "output_type": "stream",
     "text": [
      "Compressing: /Users/abarnes/Dropbox/work/Smallprojects/galaxies/data_hstha/ngc3344\n"
     ]
    },
    {
     "name": "stderr",
     "output_type": "stream",
     "text": [
      "\n",
      "a Users/abarnes/Dropbox/work/Smallprojects/galaxies/data_hstha/ngc3344/hst/ngc3344_hst_13364_22_wfc3_uvis_f555w_sci.fits\n",
      "a Users/abarnes/Dropbox/work/Smallprojects/galaxies/data_hstha/ngc3344/hst/ngc3344_hst_13773_07_wfc3_uvis_f657n_sci.fits\n",
      "a Users/abarnes/Dropbox/work/Smallprojects/galaxies/data_hstha/ngc3344/hst_contsub/ngc3344_hst_f657n_contsub.fits\n",
      "a Users/abarnes/Dropbox/work/Smallprojects/galaxies/data_hstha/ngc3344/hst_contsub/figs\n",
      "a Users/abarnes/Dropbox/work/Smallprojects/galaxies/data_hstha/ngc3344/hst_contsub/ngc3344_hst_f657n_cont.fits\n",
      "a Users/abarnes/Dropbox/work/Smallprojects/galaxies/data_hstha/ngc3344/hst_contsub/figs/ngc3344_map_hst_f657n_contsub.png\n",
      "a Users/abarnes/Dropbox/work/Smallprojects/galaxies/data_hstha/ngc3344/hst_contsub/figs/ngc3344_map_hst_ha.png\n",
      "tar: Removing leading '/' from member names\n",
      "a Users/abarnes/Dropbox/work/Smallprojects/galaxies/data_hstha/ngc3368\n",
      "a Users/abarnes/Dropbox/work/Smallprojects/galaxies/data_hstha/ngc3368/.DS_Store\n",
      "a Users/abarnes/Dropbox/work/Smallprojects/galaxies/data_hstha/ngc3368/hst_contsub\n",
      "a Users/abarnes/Dropbox/work/Smallprojects/galaxies/data_hstha/ngc3368/hst\n",
      "a Users/abarnes/Dropbox/work/Smallprojects/galaxies/data_hstha/ngc3368/hst/ngc3368_uvis_f657n_exp_drc_sci.fits"
     ]
    },
    {
     "name": "stdout",
     "output_type": "stream",
     "text": [
      "Compressing: /Users/abarnes/Dropbox/work/Smallprojects/galaxies/data_hstha/ngc3368\n"
     ]
    },
    {
     "name": "stderr",
     "output_type": "stream",
     "text": [
      "\n",
      "a Users/abarnes/Dropbox/work/Smallprojects/galaxies/data_hstha/ngc3368/hst/ngc3368_uvis_f814w_exp_drc_sci.fits\n",
      "a Users/abarnes/Dropbox/work/Smallprojects/galaxies/data_hstha/ngc3368/hst/.DS_Store\n",
      "a Users/abarnes/Dropbox/work/Smallprojects/galaxies/data_hstha/ngc3368/hst/ngc3368_uvis_f555w_exp_drc_sci.fits\n",
      "a Users/abarnes/Dropbox/work/Smallprojects/galaxies/data_hstha/ngc3368/hst_contsub/ngc3368_hst_f657n_cont.fits\n",
      "a Users/abarnes/Dropbox/work/Smallprojects/galaxies/data_hstha/ngc3368/hst_contsub/.DS_Store\n",
      "a Users/abarnes/Dropbox/work/Smallprojects/galaxies/data_hstha/ngc3368/hst_contsub/figs\n",
      "a Users/abarnes/Dropbox/work/Smallprojects/galaxies/data_hstha/ngc3368/hst_contsub/ngc3368_hst_f657n_contsub.fits\n",
      "a Users/abarnes/Dropbox/work/Smallprojects/galaxies/data_hstha/ngc3368/hst_contsub/figs/ngc3368_map_hst_f657n_contsub.png\n",
      "tar: Removing leading '/' from member names\n",
      "a Users/abarnes/Dropbox/work/Smallprojects/galaxies/data_hstha/ngc4298\n",
      "a Users/abarnes/Dropbox/work/Smallprojects/galaxies/data_hstha/ngc4298/.DS_Store\n",
      "a Users/abarnes/Dropbox/work/Smallprojects/galaxies/data_hstha/ngc4298/hst_contsub\n",
      "a Users/abarnes/Dropbox/work/Smallprojects/galaxies/data_hstha/ngc4298/hst\n",
      "a Users/abarnes/Dropbox/work/Smallprojects/galaxies/data_hstha/ngc4298/hst/ngc4298_uvis_f555w_exp_drc_sci.fits"
     ]
    },
    {
     "name": "stdout",
     "output_type": "stream",
     "text": [
      "Compressing: /Users/abarnes/Dropbox/work/Smallprojects/galaxies/data_hstha/ngc4298\n"
     ]
    },
    {
     "name": "stderr",
     "output_type": "stream",
     "text": [
      "\n",
      "a Users/abarnes/Dropbox/work/Smallprojects/galaxies/data_hstha/ngc4298/hst/ngc4298_uvis_f814w_exp_drc_sci.fits\n",
      "a Users/abarnes/Dropbox/work/Smallprojects/galaxies/data_hstha/ngc4298/hst/ngc4298_uvis_f657n_exp_drc_sci.fits\n",
      "a Users/abarnes/Dropbox/work/Smallprojects/galaxies/data_hstha/ngc4298/hst_contsub/figs\n",
      "a Users/abarnes/Dropbox/work/Smallprojects/galaxies/data_hstha/ngc4298/hst_contsub/ngc4298_hst_f657n_cont.fits\n",
      "a Users/abarnes/Dropbox/work/Smallprojects/galaxies/data_hstha/ngc4298/hst_contsub/ngc4298_hst_f657n_contsub.fits\n",
      "a Users/abarnes/Dropbox/work/Smallprojects/galaxies/data_hstha/ngc4298/hst_contsub/figs/.DS_Store\n",
      "a Users/abarnes/Dropbox/work/Smallprojects/galaxies/data_hstha/ngc4298/hst_contsub/figs/ngc4298_map_hst_f657n_contsub.png\n"
     ]
    },
    {
     "name": "stdout",
     "output_type": "stream",
     "text": [
      "Compressing: /Users/abarnes/Dropbox/work/Smallprojects/galaxies/data_hstha/ngc1097\n"
     ]
    },
    {
     "name": "stderr",
     "output_type": "stream",
     "text": [
      "tar: Removing leading '/' from member names\n",
      "a Users/abarnes/Dropbox/work/Smallprojects/galaxies/data_hstha/ngc1097\n",
      "a Users/abarnes/Dropbox/work/Smallprojects/galaxies/data_hstha/ngc1097/.DS_Store\n",
      "a Users/abarnes/Dropbox/work/Smallprojects/galaxies/data_hstha/ngc1097/hst_contsub\n",
      "a Users/abarnes/Dropbox/work/Smallprojects/galaxies/data_hstha/ngc1097/hst\n",
      "a Users/abarnes/Dropbox/work/Smallprojects/galaxies/data_hstha/ngc1097/hst/ngc1097_uvis_f555w_exp_drc_sci.fits\n",
      "a Users/abarnes/Dropbox/work/Smallprojects/galaxies/data_hstha/ngc1097/hst/ngc1097_uvis_f657n_exp_drc_sci.fits\n",
      "a Users/abarnes/Dropbox/work/Smallprojects/galaxies/data_hstha/ngc1097/hst/ngc1097_uvis_f814w_exp_drc_sci.fits\n",
      "a Users/abarnes/Dropbox/work/Smallprojects/galaxies/data_hstha/ngc1097/hst_contsub/ngc1097_hst_f657n_contsub.fits\n",
      "a Users/abarnes/Dropbox/work/Smallprojects/galaxies/data_hstha/ngc1097/hst_contsub/.DS_Store\n",
      "a Users/abarnes/Dropbox/work/Smallprojects/galaxies/data_hstha/ngc1097/hst_contsub/figs\n",
      "a Users/abarnes/Dropbox/work/Smallprojects/galaxies/data_hstha/ngc1097/hst_contsub/ngc1097_hst_f657n_cont.fits\n",
      "a Users/abarnes/Dropbox/work/Smallprojects/galaxies/data_hstha/ngc1097/hst_contsub/ngc1097_hst_f657n_contsub_ic.fits\n",
      "a Users/abarnes/Dropbox/work/Smallprojects/galaxies/data_hstha/ngc1097/hst_contsub/figs/ngc1097_map_hst_ha.png\n",
      "a Users/abarnes/Dropbox/work/Smallprojects/galaxies/data_hstha/ngc1097/hst_contsub/figs/ngc1097_map_hst_f657n_contsub.png\n"
     ]
    },
    {
     "name": "stdout",
     "output_type": "stream",
     "text": [
      "Compressing: /Users/abarnes/Dropbox/work/Smallprojects/galaxies/data_hstha/ngc685\n"
     ]
    },
    {
     "name": "stderr",
     "output_type": "stream",
     "text": [
      "tar: Removing leading '/' from member names\n",
      "a Users/abarnes/Dropbox/work/Smallprojects/galaxies/data_hstha/ngc685\n",
      "a Users/abarnes/Dropbox/work/Smallprojects/galaxies/data_hstha/ngc685/.DS_Store\n",
      "a Users/abarnes/Dropbox/work/Smallprojects/galaxies/data_hstha/ngc685/hst_contsub\n",
      "a Users/abarnes/Dropbox/work/Smallprojects/galaxies/data_hstha/ngc685/hst\n",
      "a Users/abarnes/Dropbox/work/Smallprojects/galaxies/data_hstha/ngc685/hst/ngc685_uvis_f657n_exp_drc_sci.fits\n",
      "a Users/abarnes/Dropbox/work/Smallprojects/galaxies/data_hstha/ngc685/hst/ngc685_uvis_f814w_exp_drc_sci.fits\n",
      "a Users/abarnes/Dropbox/work/Smallprojects/galaxies/data_hstha/ngc685/hst/ngc685_uvis_f555w_exp_drc_sci.fits\n",
      "a Users/abarnes/Dropbox/work/Smallprojects/galaxies/data_hstha/ngc685/hst_contsub/.DS_Store\n",
      "a Users/abarnes/Dropbox/work/Smallprojects/galaxies/data_hstha/ngc685/hst_contsub/figs\n",
      "a Users/abarnes/Dropbox/work/Smallprojects/galaxies/data_hstha/ngc685/hst_contsub/ngc685_hst_f657n_contsub.fits\n",
      "a Users/abarnes/Dropbox/work/Smallprojects/galaxies/data_hstha/ngc685/hst_contsub/ngc685_hst_f657n_cont.fits\n",
      "a Users/abarnes/Dropbox/work/Smallprojects/galaxies/data_hstha/ngc685/hst_contsub/figs/ngc685_map_hst_f657n_contsub.png\n",
      "tar: Removing leading '/' from member names\n",
      "a Users/abarnes/Dropbox/work/Smallprojects/galaxies/data_hstha/ngc4731\n",
      "a Users/abarnes/Dropbox/work/Smallprojects/galaxies/data_hstha/ngc4731/.DS_Store\n",
      "a Users/abarnes/Dropbox/work/Smallprojects/galaxies/data_hstha/ngc4731/hst_contsub\n",
      "a Users/abarnes/Dropbox/work/Smallprojects/galaxies/data_hstha/ngc4731/hst\n",
      "a Users/abarnes/Dropbox/work/Smallprojects/galaxies/data_hstha/ngc4731/hst/ngc4731_uvis_f657n_exp_drc_sci.fits"
     ]
    },
    {
     "name": "stdout",
     "output_type": "stream",
     "text": [
      "Compressing: /Users/abarnes/Dropbox/work/Smallprojects/galaxies/data_hstha/ngc4731\n"
     ]
    },
    {
     "name": "stderr",
     "output_type": "stream",
     "text": [
      "\n",
      "a Users/abarnes/Dropbox/work/Smallprojects/galaxies/data_hstha/ngc4731/hst/ngc4731_uvis_f814w_exp_drc_sci.fits\n",
      "a Users/abarnes/Dropbox/work/Smallprojects/galaxies/data_hstha/ngc4731/hst/ngc4731_uvis_f555w_exp_drc_sci.fits\n",
      "a Users/abarnes/Dropbox/work/Smallprojects/galaxies/data_hstha/ngc4731/hst_contsub/ngc4731_hst_f657n_cont.fits\n",
      "a Users/abarnes/Dropbox/work/Smallprojects/galaxies/data_hstha/ngc4731/hst_contsub/ngc4731_hst_f657n_contsub.fits\n",
      "a Users/abarnes/Dropbox/work/Smallprojects/galaxies/data_hstha/ngc4731/hst_contsub/figs\n",
      "a Users/abarnes/Dropbox/work/Smallprojects/galaxies/data_hstha/ngc4731/hst_contsub/figs/ngc4731_map_hst_f657n_contsub.png\n"
     ]
    }
   ],
   "source": [
    "clean = True\n",
    "for galaxy in (galaxies): \n",
    "\n",
    "    rootdir = '/Users/abarnes/Dropbox/work/Smallprojects/galaxies/data_hstha/%s' %galaxy\n",
    "\n",
    "    print('Compressing: %s' %rootdir)\n",
    "    os.system('tar -cvzf %s.tar.gz %s' %(rootdir, rootdir))\n",
    "    if clean: \n",
    "        os.system('rm -r %s' %rootdir)"
   ]
  }
 ],
 "metadata": {
  "kernelspec": {
   "display_name": "base",
   "language": "python",
   "name": "python3"
  },
  "language_info": {
   "codemirror_mode": {
    "name": "ipython",
    "version": 3
   },
   "file_extension": ".py",
   "mimetype": "text/x-python",
   "name": "python",
   "nbconvert_exporter": "python",
   "pygments_lexer": "ipython3",
   "version": "3.9.13"
  }
 },
 "nbformat": 4,
 "nbformat_minor": 2
}
