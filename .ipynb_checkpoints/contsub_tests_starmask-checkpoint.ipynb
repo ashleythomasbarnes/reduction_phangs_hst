{
 "cells": [
  {
   "cell_type": "code",
   "execution_count": 1,
   "id": "65a9c5b3-2eed-4b48-8129-6eb520926b0e",
   "metadata": {},
   "outputs": [
    {
     "name": "stderr",
     "output_type": "stream",
     "text": [
      "/var/folders/3y/cmsgt3_x7x72bbs__zhy_q6h0008wr/T/ipykernel_20873/802499446.py:10: DeprecationWarning: Please use `binary_dilation` from the `scipy.ndimage` namespace, the `scipy.ndimage.morphology` namespace is deprecated.\n",
      "  from scipy.ndimage.morphology import binary_dilation, binary_closing\n",
      "/var/folders/3y/cmsgt3_x7x72bbs__zhy_q6h0008wr/T/ipykernel_20873/802499446.py:10: DeprecationWarning: Please use `binary_closing` from the `scipy.ndimage` namespace, the `scipy.ndimage.morphology` namespace is deprecated.\n",
      "  from scipy.ndimage.morphology import binary_dilation, binary_closing\n"
     ]
    }
   ],
   "source": [
    "import os\n",
    "from astropy.io import fits\n",
    "from astropy.table import Table\n",
    "import astropy.wcs as wcs\n",
    "import astropy.units as u\n",
    "from astropy.convolution import Gaussian2DKernel, convolve, convolve_fft, interpolate_replace_nans\n",
    "from astropy.stats import mad_std\n",
    "import numpy as np\n",
    "from radio_beam import Beam\n",
    "from scipy.ndimage.morphology import binary_dilation, binary_closing\n",
    "from reproject import reproject_interp\n",
    "from matplotlib import pyplot as plt\n",
    "from astropy.stats import SigmaClip\n",
    "from photutils.segmentation import detect_threshold, detect_sources\n",
    "from photutils.utils import circular_footprint\n",
    "from photutils.background import Background2D\n",
    "from matplotlib import colors \n",
    "import glob\n",
    "from astropy.wcs import WCS\n",
    "import regions\n",
    "from mpl_toolkits.axes_grid1 import make_axes_locatable"
   ]
  },
  {
   "cell_type": "code",
   "execution_count": 4,
   "id": "a2a83f88-1814-4354-af47-1d1c5f17eac8",
   "metadata": {},
   "outputs": [],
   "source": [
    "rootdir = '/Users/abarnes/Dropbox/work/Smallprojects/galaxies/data/ngc628/hst_contsub/f658n_f555w_f814w/'"
   ]
  },
  {
   "cell_type": "code",
   "execution_count": 9,
   "id": "05746329-f110-4153-aa0a-6d942bfabe84",
   "metadata": {},
   "outputs": [],
   "source": [
    "hdu_hst_bgsub = fits.open(rootdir+'ngc628c_halpha_bgsub.fits')[0]\n",
    "hdu_muse_starmask = fits.open('/Users/abarnes/Dropbox/work/Smallprojects/galaxies/data/ngc628/muse/NGC0628_starmask.fits')[0]"
   ]
  },
  {
   "cell_type": "code",
   "execution_count": 41,
   "id": "727e4e2c-a6ff-4a1d-83a0-2e0d2ea1a9b3",
   "metadata": {},
   "outputs": [],
   "source": [
    "def regrid(hdu_input, hdu_template, output_filename=None, conserve_flux=True, order='bilinear'):\n",
    "    \"\"\"\n",
    "    Reprojects an input FITS image to match the WCS of a template FITS image.\n",
    "\n",
    "    Args:\n",
    "        hdu_input (astropy.io.fits.ImageHDU): Input FITS image HDU.\n",
    "        hdu_template (astropy.io.fits.ImageHDU): Template FITS image HDU.\n",
    "        output_filename (str, optional): Path to save the reprojected image as a new FITS file.\n",
    "                                         Defaults to None.\n",
    "        conserve_flux (bool, optional): Flag to conserve flux during reprojection. \n",
    "                                       Defaults to True.\n",
    "\n",
    "    Returns:\n",
    "        astropy.io.fits.ImageHDU: Reprojected FITS image HDU.\n",
    "    \"\"\"\n",
    "    print(\"[INFO] Reprojecting the input image to match the template WCS...\")\n",
    "\n",
    "    # Extract the WCS information from the input and template headers\n",
    "    wcs_input = wcs.WCS(hdu_input.header)\n",
    "    wcs_template = wcs.WCS(hdu_template.header)\n",
    "\n",
    "    # Calculate the pixel scale for input and template images\n",
    "    pixscale_input = wcs.utils.proj_plane_pixel_area(wcs_input.celestial)\n",
    "    pixscale_template = wcs.utils.proj_plane_pixel_area(wcs_template.celestial)\n",
    "\n",
    "    # Reproject the input image to match the template WCS\n",
    "    print(\"[INFO] Performing image reprojection...\")\n",
    "    # data_output = reproject_interp(hdu_input, hdu_template.header, order=0, parallel=True)[0]\n",
    "    # data_output = reproject_interp(hdu_input, hdu_template.header, order=0)[0]\n",
    "    data_output = reproject_interp(hdu_input, hdu_template.header, order=order)[0]\n",
    "    hdu_output = fits.PrimaryHDU(data_output, hdu_template.header)\n",
    "    print(\"[INFO] Image reprojection complete.\")\n",
    "\n",
    "    if conserve_flux:\n",
    "        # Scale the output data to conserve flux \n",
    "        print(f\"[INFO] Scaling the output data to conserve flux with factor {(pixscale_template / pixscale_input):.2f}\")\n",
    "        hdu_output.data = hdu_output.data * (pixscale_template / pixscale_input)\n",
    "        hdu_output.data = np.array(hdu_output.data, dtype=np.float32)\n",
    "        print(\"[INFO] Flux scaling complete.\")\n",
    "\n",
    "    if output_filename is not None:\n",
    "        # Save the reprojected image to a new FITS file\n",
    "        print(f\"[INFO] Saving the reprojected image to: {output_filename}\")\n",
    "        hdu_output.writeto(output_filename, overwrite=True)\n",
    "        print(\"[INFO] Image saved successfully.\")\n",
    "\n",
    "    print(\"[INFO] Reprojection process completed.\")\n",
    "    return hdu_output\n",
    "\n",
    "def smooth_hdu_gaussian(data, sigma_x=0.5, sigma_y=0.5):\n",
    "    \"\"\"\n",
    "    Smooth a 2D HDU with a Gaussian kernel.\n",
    "\n",
    "    Parameters:\n",
    "    - hdu: The HDU object to be smoothed.\n",
    "    - sigma_x: Standard deviation of the Gaussian along the x-axis (in pixels).\n",
    "    - sigma_y: Standard deviation of the Gaussian along the y-axis (in pixels).\n",
    "\n",
    "    Returns:\n",
    "    - smoothed_hdu: The smoothed HDU.\n",
    "    \"\"\"\n",
    "\n",
    "    # Create the Gaussian kernel\n",
    "    kernel = Gaussian2DKernel(sigma_x, sigma_y)\n",
    "\n",
    "    # Convolve the HDU data with the kernel\n",
    "    smoothed_data = convolve(data, kernel, normalize_kernel=True)\n",
    "\n",
    "    return smoothed_data\n"
   ]
  },
  {
   "cell_type": "code",
   "execution_count": 33,
   "id": "61d26f45-1eef-412d-aab5-60f239a894c7",
   "metadata": {},
   "outputs": [
    {
     "name": "stdout",
     "output_type": "stream",
     "text": [
      "[INFO] Reprojecting the input image to match the template WCS...\n",
      "[INFO] Performing image reprojection...\n",
      "[INFO] Image reprojection complete.\n",
      "[INFO] Reprojection process completed.\n"
     ]
    }
   ],
   "source": [
    "hdu_muse_starmask_regrid = regrid(hdu_muse_starmask, hdu_hst_bgsub, conserve_flux=False)"
   ]
  },
  {
   "cell_type": "code",
   "execution_count": 34,
   "id": "9312efd6-88a6-47d1-8680-70a1d5921f23",
   "metadata": {},
   "outputs": [],
   "source": [
    "hdu = hdu_hst_bgsub.copy()\n",
    "hdu_mask = hdu_muse_starmask_regrid.copy()"
   ]
  },
  {
   "cell_type": "code",
   "execution_count": 35,
   "id": "5b3a6ae6-8512-4567-ac29-2e86e91ef5fc",
   "metadata": {},
   "outputs": [],
   "source": []
  },
  {
   "cell_type": "code",
   "execution_count": 46,
   "id": "463da535-5d42-4d21-a234-f60b8085cec7",
   "metadata": {},
   "outputs": [],
   "source": [
    "hdu_masked = hdu.copy()\n",
    "mask = hdu_mask.data>0\n",
    "\n",
    "std = mad_std(hdu.data, ignore_nan=True)\n",
    "mean = np.nanmean(hdu.data[hdu.data < std * 5])\n",
    "\n",
    "noise = np.random.normal(0, std, hdu_masked.data.shape)\n",
    "noise = smooth_hdu_gaussian(noise * np.sqrt(2), sigma_x=0.5, sigma_y=0.5) \n",
    "hdu_masked.data[mask] = noise[mask]\n",
    "\n",
    "hdu_masked.writeto('tmp.fits', overwrite=True)\n",
    "hdu_mask.writeto('tmp_mask.fits', overwrite=True)"
   ]
  },
  {
   "cell_type": "code",
   "execution_count": 39,
   "id": "0adb3b08-747e-4116-966a-d7d95dca4b2c",
   "metadata": {},
   "outputs": [
    {
     "data": {
      "text/plain": [
       "2.2912878474779204"
      ]
     },
     "execution_count": 39,
     "metadata": {},
     "output_type": "execute_result"
    }
   ],
   "source": [
    "(0.1 **2 - 0.04 **2)**0.5 / 0.04"
   ]
  },
  {
   "cell_type": "code",
   "execution_count": null,
   "id": "721a4f58-7b8d-4029-b648-f5e50d33ea55",
   "metadata": {},
   "outputs": [],
   "source": [
    "def mask_stars(hdu, hdu_mask, output_filename, sigma=0.5, factor=np.sqrt(2)):\n",
    "    \"\"\"\n",
    "    Masks a FITS file using regions from a DS9 region file. The masked areas are replaced \n",
    "    with noise computed from the unmasked data.\n",
    "    .... \n",
    "    \"\"\"\n",
    "    \n",
    "    # hdu_masked, mask = mask_hdu_with_ds9(hdu, region_filename)\n",
    "    hdu_masked = hdu.copy()\n",
    "    mask = hdu_mask.data>0\n",
    "\n",
    "    std = mad_std(hdu.data, ignore_nan=True)\n",
    "    mean = np.nanmean(hdu.data[hdu.data < std * 5])\n",
    "\n",
    "    noise = np.random.normal(0, std, hdu_masked.data.shape)\n",
    "    noise = smooth_hdu_gaussian(noise * factor, sigma_x=sigma, sigma_y=sigma) \n",
    "    hdu_masked.data[mask] = noise[mask]\n",
    "    \n",
    "    print(f\"[INFO] Overwrite file {output_filename}...\")\n",
    "    hdu_masked.writeto(output_filename, overwrite=True)\n",
    "\n",
    "    return(hdu_masked)"
   ]
  }
 ],
 "metadata": {
  "kernelspec": {
   "display_name": "Python 3 (ipykernel)",
   "language": "python",
   "name": "python3"
  },
  "language_info": {
   "codemirror_mode": {
    "name": "ipython",
    "version": 3
   },
   "file_extension": ".py",
   "mimetype": "text/x-python",
   "name": "python",
   "nbconvert_exporter": "python",
   "pygments_lexer": "ipython3",
   "version": "3.9.13"
  }
 },
 "nbformat": 4,
 "nbformat_minor": 5
}
