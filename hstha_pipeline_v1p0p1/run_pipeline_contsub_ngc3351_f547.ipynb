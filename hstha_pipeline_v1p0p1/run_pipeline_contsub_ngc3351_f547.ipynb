{
 "cells": [
  {
   "cell_type": "code",
   "execution_count": 1,
   "metadata": {
    "execution": {
     "iopub.execute_input": "2024-01-29T18:18:56.056270Z",
     "iopub.status.busy": "2024-01-29T18:18:56.056075Z",
     "iopub.status.idle": "2024-01-29T18:18:58.047784Z",
     "shell.execute_reply": "2024-01-29T18:18:58.047366Z"
    }
   },
   "outputs": [],
   "source": [
    "from astropy.io import fits\n",
    "import astropy.wcs as wcs\n",
    "import astropy.units as u\n",
    "from astropy.convolution import convolve_fft\n",
    "from astropy.stats import mad_std\n",
    "import numpy as np\n",
    "from radio_beam import Beam\n",
    "from reproject import reproject_interp\n",
    "from matplotlib import pyplot as plt\n",
    "from scipy.ndimage import binary_dilation\n",
    "from astropy.modeling import models, fitting\n",
    "from astropy.table import Table, vstack \n",
    "from glob import glob \n",
    "from synphot import SpectralElement, units\n",
    "import os\n",
    "\n",
    "import warnings \n",
    "warnings.filterwarnings('ignore')"
   ]
  },
  {
   "cell_type": "markdown",
   "metadata": {},
   "source": [
    "# Loading files"
   ]
  },
  {
   "cell_type": "code",
   "execution_count": 2,
   "metadata": {
    "execution": {
     "iopub.execute_input": "2024-01-29T18:18:58.050206Z",
     "iopub.status.busy": "2024-01-29T18:18:58.050085Z",
     "iopub.status.idle": "2024-01-29T18:18:58.077269Z",
     "shell.execute_reply": "2024-01-29T18:18:58.076908Z"
    }
   },
   "outputs": [
    {
     "name": "stdout",
     "output_type": "stream",
     "text": [
      "/Users/abarnes/Dropbox/work/Smallprojects/galaxies/data_hstha/ngc3351/muse/NGC3351_starmask.fits\n",
      "/Users/abarnes/Dropbox/work/Smallprojects/galaxies/data_hstha/ngc3351/muse/NGC3351_nebmask.fits\n",
      "/Users/abarnes/Dropbox/work/Smallprojects/galaxies/data_hstha/ngc3351/muse/NGC3351-1.05asec_MAPS.fits\n",
      "/Users/abarnes/Dropbox/work/Smallprojects/galaxies/data_hstha/ngc3351/hst/ngc3351_uvis_f547m_exp_drc_sci.fits\n",
      "/Users/abarnes/Dropbox/work/Smallprojects/galaxies/data_hstha/ngc3351/hst/ngc3351_uvis_f658n_exp_drc_sci.fits\n",
      "/Users/abarnes/Dropbox/work/Smallprojects/galaxies/data_hstha/ngc3351/hst/ngc3351_uvis_f814w_exp_drc_sci.fits\n",
      "/Users/abarnes/Dropbox/work/Smallprojects/galaxies/data_hstha/ngc3351/muse/NGC3351-1.05asec_UVIS_F658N.fits\n"
     ]
    }
   ],
   "source": [
    "def get_hdu(rootdir, filename, hdu_id=0, return_filename=False):\n",
    "    filename_full = glob(rootdir+filename)[0]\n",
    "    if hdu_id == 'all':\n",
    "        hdu = fits.open(filename_full)\n",
    "    else:\n",
    "        hdu = fits.open(filename_full)[hdu_id]\n",
    "    print(filename_full)\n",
    "\n",
    "    if return_filename: \n",
    "        return(hdu, filename_full)\n",
    "    else:  \n",
    "        return(hdu)\n",
    "\n",
    "galaxy = 'ngc3351'\n",
    "galaxy_muse = galaxy\n",
    "rootdir = '/Users/abarnes/Dropbox/work/Smallprojects/galaxies/data_hstha/%s/' %galaxy\n",
    "rootdir_bp = '/Users/abarnes/Dropbox/work/Smallprojects/galaxies/data_misc/hst_filters/' \n",
    "outputdir = 'hst_contsub_f547m/'\n",
    "\n",
    "narrowband_filter = 'f658n' # newer image\n",
    "instrument_f555w  = 'uvis'\n",
    "instrument_f65Xn = 'uvis'\n",
    "instrument_f814w = 'uvis'\n",
    "\n",
    "hdu_muse_stars  = get_hdu(rootdir, 'muse/%s_starmask.fits' %galaxy_muse.upper())\n",
    "hdu_muse_neb    = get_hdu(rootdir, 'muse/%s_nebmask.fits' %galaxy_muse.upper())\n",
    "hdu_muse        = get_hdu(rootdir, 'muse/%s*_MAPS.fits' %galaxy_muse.upper(), 'all')\n",
    "\n",
    "hdu_hst_f555w   = get_hdu(rootdir, 'hst/%s*_%s_*f547m*.fits' %(galaxy, instrument_f555w))\n",
    "hdu_hst_f65Xn   = get_hdu(rootdir, 'hst/%s*_%s_*%s*.fits' %(galaxy, instrument_f65Xn, narrowband_filter))\n",
    "hdu_hst_f814w   = get_hdu(rootdir, 'hst/%s*_%s_*f814w*.fits' %(galaxy, instrument_f814w))\n",
    "\n",
    "hst_res  = 0.07 * u.arcsec\n",
    "_, file_muse_f65Xn = get_hdu(rootdir, 'muse/%s*_%s_*%s.fits' %(galaxy_muse.upper(), instrument_f65Xn.upper(), narrowband_filter.upper()), return_filename=True)\n",
    "muse_res = np.float32(file_muse_f65Xn.split('asec')[0].split('-')[-1]) * u.arcsec"
   ]
  },
  {
   "cell_type": "code",
   "execution_count": 3,
   "metadata": {
    "execution": {
     "iopub.execute_input": "2024-01-29T18:18:58.079600Z",
     "iopub.status.busy": "2024-01-29T18:18:58.079447Z",
     "iopub.status.idle": "2024-01-29T18:18:58.155660Z",
     "shell.execute_reply": "2024-01-29T18:18:58.155313Z"
    }
   },
   "outputs": [
    {
     "name": "stdout",
     "output_type": "stream",
     "text": [
      "[Info] Outputing to the following:\n",
      "/Users/abarnes/Dropbox/work/Smallprojects/galaxies/data_hstha/ngc3351/hst_contsub_f547m/\n"
     ]
    }
   ],
   "source": [
    "def make_paths(rootdir):\n",
    "    \n",
    "    print('[Info] Outputing to the following:')\n",
    "    print(rootdir+outputdir)\n",
    "\n",
    "    if not os.path.isdir(rootdir+outputdir):\n",
    "        os.mkdir(rootdir+outputdir)  \n",
    "    if not os.path.isdir(rootdir+outputdir+'/figs'):\n",
    "        os.mkdir(rootdir+outputdir+'/figs')\n",
    "    os.system('rm -rf '+rootdir+outputdir+'/*.fits')\n",
    "\n",
    "make_paths(rootdir)"
   ]
  },
  {
   "cell_type": "code",
   "execution_count": 4,
   "metadata": {
    "execution": {
     "iopub.execute_input": "2024-01-29T18:18:58.157744Z",
     "iopub.status.busy": "2024-01-29T18:18:58.157605Z",
     "iopub.status.idle": "2024-01-29T18:18:58.606040Z",
     "shell.execute_reply": "2024-01-29T18:18:58.605628Z"
    }
   },
   "outputs": [
    {
     "name": "stdout",
     "output_type": "stream",
     "text": [
      "/Users/abarnes/Dropbox/work/Smallprojects/galaxies/data_misc/hst_filters/HST_ACS_WFC.F550M.dat\n",
      "/Users/abarnes/Dropbox/work/Smallprojects/galaxies/data_misc/hst_filters/HST_ACS_WFC.F555W.dat\n",
      "/Users/abarnes/Dropbox/work/Smallprojects/galaxies/data_misc/hst_filters/HST_ACS_WFC.F658N.dat\n",
      "/Users/abarnes/Dropbox/work/Smallprojects/galaxies/data_misc/hst_filters/HST_ACS_WFC.F814W.dat\n",
      "/Users/abarnes/Dropbox/work/Smallprojects/galaxies/data_misc/hst_filters/HST_WFC3_UVIS1.F555W.dat\n",
      "/Users/abarnes/Dropbox/work/Smallprojects/galaxies/data_misc/hst_filters/HST_WFC3_UVIS1.F657N.dat\n",
      "/Users/abarnes/Dropbox/work/Smallprojects/galaxies/data_misc/hst_filters/HST_WFC3_UVIS1.F658N.dat\n",
      "/Users/abarnes/Dropbox/work/Smallprojects/galaxies/data_misc/hst_filters/HST_WFC3_UVIS1.F814W.dat\n",
      "/Users/abarnes/Dropbox/work/Smallprojects/galaxies/data_misc/hst_filters/HST_WFC3_UVIS2.F547M.dat\n"
     ]
    },
    {
     "data": {
      "text/plain": [
       "dict_keys(['ACS_F550M', 'ACS_F555W', 'ACS_F658N', 'ACS_F814W', 'UVIS_F555W', 'UVIS_F657N', 'UVIS_F658N', 'UVIS_F814W', 'UVIS_F547M'])"
      ]
     },
     "execution_count": 4,
     "metadata": {},
     "output_type": "execute_result"
    }
   ],
   "source": [
    "def get_bandpassinfo(files):\n",
    "\n",
    "    files.sort()\n",
    "\n",
    "    bp = {}\n",
    "    for file in files:\n",
    "\n",
    "        print(file)\n",
    "\n",
    "        area = 45238.93416 * units.AREA  # HST\n",
    "        bp_ = SpectralElement.from_file(file)\n",
    "        name = file.split('/')[-1].split('.dat')[0].replace('HST_', '').replace('.F', '_F')\n",
    "        name = name.replace('WFC_', '')\n",
    "        name = name.replace('WFC3_', '')\n",
    "        name = name.replace('UVIS1', 'UVIS')\n",
    "        name = name.replace('UVIS2', 'UVIS')\n",
    "\n",
    "        bp[name] = {'equivwidth': bp_.equivwidth().value, \n",
    "                    'integrate': bp_.integrate().value, \n",
    "                    'rmswidth': bp_.rmswidth().value, \n",
    "                    'photbw': bp_.photbw().value, \n",
    "                    'fwhm': bp_.fwhm().value, \n",
    "                    'rectwidth': bp_.rectwidth().value, \n",
    "                    'pivot': bp_.pivot().value, \n",
    "                    'unit_response': bp_.unit_response(area).value}  \n",
    "    \n",
    "    return(bp)\n",
    "\n",
    "files_bp = glob('%s*.dat' %rootdir_bp)\n",
    "bp = get_bandpassinfo(files_bp)\n",
    "bp.keys()"
   ]
  },
  {
   "cell_type": "markdown",
   "metadata": {},
   "source": [
    "# Correct units \n",
    "HST -> electron/s to ergcm2sA \n",
    "MUSE - > Jy to ergcm2sA"
   ]
  },
  {
   "cell_type": "code",
   "execution_count": 5,
   "metadata": {
    "execution": {
     "iopub.execute_input": "2024-01-29T18:18:58.608677Z",
     "iopub.status.busy": "2024-01-29T18:18:58.608514Z",
     "iopub.status.idle": "2024-01-29T18:19:02.777864Z",
     "shell.execute_reply": "2024-01-29T18:19:02.777512Z"
    }
   },
   "outputs": [],
   "source": [
    "def get_nanzeros(hdu):\n",
    "    hdu.data[hdu.data == 0] = np.nan\n",
    "    return(hdu)\n",
    "\n",
    "hdu_hst_f555w = get_nanzeros(hdu_hst_f555w)\n",
    "hdu_hst_f65Xn = get_nanzeros(hdu_hst_f65Xn)\n",
    "hdu_hst_f814w = get_nanzeros(hdu_hst_f814w)"
   ]
  },
  {
   "cell_type": "code",
   "execution_count": 6,
   "metadata": {
    "execution": {
     "iopub.execute_input": "2024-01-29T18:19:02.780099Z",
     "iopub.status.busy": "2024-01-29T18:19:02.779968Z",
     "iopub.status.idle": "2024-01-29T18:19:04.760473Z",
     "shell.execute_reply": "2024-01-29T18:19:04.760053Z"
    }
   },
   "outputs": [],
   "source": [
    "def get_electrons_2_ergcm2sA(hdu, photflam=None, photplam=None, photbw=None):\n",
    "\n",
    "    data = hdu.data.copy()\n",
    "\n",
    "    if photflam == None: \n",
    "\n",
    "        # Get the necessary header keywords for scaling and conversion\n",
    "        photflam = hdu.header['PHOTFLAM']\n",
    "        photplam = hdu.header['PHOTPLAM']\n",
    "        photbw = hdu.header['PHOTBW']\n",
    "    \n",
    "    # Scale the data using photflam and photbw\n",
    "    data_conv = data * photflam\n",
    "\n",
    "    hdu.data = np.array(data_conv, dtype=np.float32) *1e20\n",
    "    hdu.header['BUNIT'] = ('erg/s/cm2/A/pixel', '1e-20 erg/s/cm2/A')\n",
    "\n",
    "    return(hdu)\n",
    "\n",
    "hdu_hst_f555w = get_electrons_2_ergcm2sA(hdu_hst_f555w, bp['%s_%s' %(instrument_f555w.upper(), 'F547M')]['unit_response'])\n",
    "hdu_hst_f65Xn = get_electrons_2_ergcm2sA(hdu_hst_f65Xn, bp['%s_%s' %(instrument_f65Xn.upper(), narrowband_filter.upper())]['unit_response'])\n",
    "hdu_hst_f814w = get_electrons_2_ergcm2sA(hdu_hst_f814w, bp['%s_%s' %(instrument_f814w.upper(), 'F814W')]['unit_response'])"
   ]
  },
  {
   "cell_type": "markdown",
   "metadata": {},
   "source": [
    "# Continuum subtraction"
   ]
  },
  {
   "cell_type": "code",
   "execution_count": 7,
   "metadata": {
    "execution": {
     "iopub.execute_input": "2024-01-29T18:19:04.762905Z",
     "iopub.status.busy": "2024-01-29T18:19:04.762772Z",
     "iopub.status.idle": "2024-01-29T18:19:12.049283Z",
     "shell.execute_reply": "2024-01-29T18:19:12.048370Z"
    }
   },
   "outputs": [],
   "source": [
    "def get_contsub(hdu_halpha, hdu_cont1, hdu_cont2, \n",
    "                photplam_halpha=None, photplam_cont1=None, photplam_cont2=None):\n",
    "\n",
    "    if photplam_halpha == None:\n",
    "        photplam_halpha = hdu_halpha.header['PHOTPLAM']\n",
    "        photplam_cont1 = hdu_cont1.header['PHOTPLAM']\n",
    "        photplam_cont2 = hdu_cont2.header['PHOTPLAM']\n",
    "\n",
    "    weight_cont1 = abs(photplam_cont2 - photplam_halpha) / abs(photplam_cont1 - photplam_cont2)\n",
    "    weight_cont2 = abs(photplam_cont1 - photplam_halpha) / abs(photplam_cont1 - photplam_cont2)\n",
    "\n",
    "    coef_cont1 = weight_cont1\n",
    "    coef_cont2 = weight_cont2\n",
    "\n",
    "    data_cont1 = hdu_cont1.data\n",
    "    data_cont2 = hdu_cont2.data\n",
    "\n",
    "    data_cont1[data_cont1<=0] = np.nan\n",
    "    data_cont2[data_cont2<=0] = np.nan\n",
    "\n",
    "    data_cont1 = np.log10(data_cont1)\n",
    "    data_cont2 = np.log10(data_cont2)\n",
    "\n",
    "    hdu_cont1.data = data_cont1 * coef_cont1\n",
    "    hdu_cont2.data = data_cont2 * coef_cont2\n",
    "\n",
    "    data_cont = 10**(hdu_cont1.data + hdu_cont2.data)\n",
    "    data_cont[np.isnan(data_cont)] = 0\n",
    "\n",
    "    hdu_halpha_cont = hdu_halpha.copy()\n",
    "    hdu_halpha_contsub = hdu_halpha.copy()\n",
    "\n",
    "    hdu_halpha_cont.data = data_cont\n",
    "    hdu_halpha_contsub.data = hdu_halpha.data - data_cont\n",
    "\n",
    "    hdu_halpha_cont.data = np.array(hdu_halpha_cont.data, dtype=np.float32)\n",
    "    hdu_halpha_contsub.data = np.array(hdu_halpha_contsub.data, dtype=np.float32)\n",
    "\n",
    "    return(hdu_halpha_contsub, hdu_halpha_cont) \n",
    "\n",
    "hdu_hst_halpha, hdu_hst_cont = get_contsub(hdu_hst_f65Xn.copy(), \n",
    "                                hdu_hst_f555w.copy(), \n",
    "                                hdu_hst_f814w.copy(), \n",
    "                                bp['%s_%s' %(instrument_f65Xn.upper(), narrowband_filter.upper())]['pivot'], \n",
    "                                bp['%s_%s' %(instrument_f555w.upper(), 'F547M')]['pivot'], \n",
    "                                bp['%s_%s' %(instrument_f814w.upper(), 'F814W')]['pivot'])                                                          "
   ]
  },
  {
   "cell_type": "markdown",
   "metadata": {},
   "source": [
    "Correct units \n",
    "ergcm2sA to ergcm2s"
   ]
  },
  {
   "cell_type": "code",
   "execution_count": 8,
   "metadata": {
    "execution": {
     "iopub.execute_input": "2024-01-29T18:19:12.055290Z",
     "iopub.status.busy": "2024-01-29T18:19:12.055081Z",
     "iopub.status.idle": "2024-01-29T18:19:13.342155Z",
     "shell.execute_reply": "2024-01-29T18:19:13.341783Z"
    }
   },
   "outputs": [],
   "source": [
    "def get_ergcm2sA_2_ergcm2s(hdu, photbw):\n",
    "\n",
    "    data = hdu.data.copy()\n",
    "    data_conv = data * photbw\n",
    "    hdu.data = np.array(data_conv, dtype=np.float32)\n",
    "    hdu.header['BUNIT'] = ('erg/s/cm2/pixel', '1e-20 erg/s/cm2')\n",
    "\n",
    "    return(hdu)\n",
    "\n",
    "hdu_hst_halpha = get_ergcm2sA_2_ergcm2s(hdu_hst_halpha, bp['%s_%s' %(instrument_f65Xn.upper(), narrowband_filter.upper())]['rectwidth'])\n",
    "hdu_hst_cont = get_ergcm2sA_2_ergcm2s(hdu_hst_cont, bp['%s_%s' %(instrument_f65Xn.upper(), narrowband_filter.upper())]['rectwidth'])"
   ]
  },
  {
   "cell_type": "markdown",
   "metadata": {},
   "source": [
    "# Saving .fits files"
   ]
  },
  {
   "cell_type": "code",
   "execution_count": 9,
   "metadata": {
    "execution": {
     "iopub.execute_input": "2024-01-29T18:19:13.344724Z",
     "iopub.status.busy": "2024-01-29T18:19:13.344597Z",
     "iopub.status.idle": "2024-01-29T18:19:15.933928Z",
     "shell.execute_reply": "2024-01-29T18:19:15.933395Z"
    }
   },
   "outputs": [],
   "source": [
    "hdu_hst_f555w.writeto(rootdir+outputdir+'/hdu_hst_f547m.fits', overwrite=True)\n",
    "hdu_hst_f65Xn.writeto(rootdir+outputdir+'/hdu_hst_%s.fits' %narrowband_filter, overwrite=True)\n",
    "hdu_hst_f814w.writeto(rootdir+outputdir+'/hdu_hst_f814w.fits', overwrite=True)\n",
    "\n",
    "hdu_hst_halpha.writeto(rootdir+outputdir+'/hdu_hst_%s_contsub.fits' %narrowband_filter, overwrite=True)\n",
    "\n",
    "hdu_hst_cont.writeto(rootdir+outputdir+'/hdu_hst_%s_cont.fits' %narrowband_filter, overwrite=True)\n",
    "\n",
    "hdu_muse['HA6562_FLUX'].writeto(rootdir+outputdir+'/hdu_muse_ha.fits', overwrite=True)"
   ]
  },
  {
   "cell_type": "code",
   "execution_count": null,
   "metadata": {},
   "outputs": [],
   "source": []
  }
 ],
 "metadata": {
  "kernelspec": {
   "display_name": "base",
   "language": "python",
   "name": "python3"
  },
  "language_info": {
   "codemirror_mode": {
    "name": "ipython",
    "version": 3
   },
   "file_extension": ".py",
   "mimetype": "text/x-python",
   "name": "python",
   "nbconvert_exporter": "python",
   "pygments_lexer": "ipython3",
   "version": "3.9.13"
  }
 },
 "nbformat": 4,
 "nbformat_minor": 2
}
