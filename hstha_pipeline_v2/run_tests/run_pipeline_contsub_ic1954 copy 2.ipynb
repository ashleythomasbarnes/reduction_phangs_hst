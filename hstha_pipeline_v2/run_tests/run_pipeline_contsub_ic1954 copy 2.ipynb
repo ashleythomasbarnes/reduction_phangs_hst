{
 "cells": [
  {
   "cell_type": "code",
   "execution_count": 1,
   "metadata": {
    "execution": {
     "iopub.execute_input": "2024-02-21T15:15:29.816511Z",
     "iopub.status.busy": "2024-02-21T15:15:29.815968Z",
     "iopub.status.idle": "2024-02-21T15:15:31.670325Z",
     "shell.execute_reply": "2024-02-21T15:15:31.669876Z"
    }
   },
   "outputs": [],
   "source": [
    "from imports import *"
   ]
  },
  {
   "cell_type": "code",
   "execution_count": 2,
   "metadata": {
    "execution": {
     "iopub.execute_input": "2024-02-21T15:15:31.672779Z",
     "iopub.status.busy": "2024-02-21T15:15:31.672643Z",
     "iopub.status.idle": "2024-02-21T15:15:32.122846Z",
     "shell.execute_reply": "2024-02-21T15:15:32.122478Z"
    }
   },
   "outputs": [],
   "source": [
    "rootdir = '/Users/abarnes/Dropbox/work/Smallprojects/galaxies/data_hstha/'"
   ]
  },
  {
   "cell_type": "code",
   "execution_count": 3,
   "metadata": {},
   "outputs": [
    {
     "name": "stdout",
     "output_type": "stream",
     "text": [
      "/Users/abarnes/Dropbox/work/Smallprojects/galaxies/data_hstha/ic1954/hst/ic1954_uvis_f657n_exp_drc_sci.fits\n",
      "/Users/abarnes/Dropbox/work/Smallprojects/galaxies/data_hstha/ic1954/hst/ic1954_uvis_f555w_exp_drc_sci.fits\n",
      "/Users/abarnes/Dropbox/work/Smallprojects/galaxies/data_hstha/ic1954/hst/ic1954_uvis_f814w_exp_drc_sci.fits\n",
      "/Users/abarnes/Dropbox/work/Smallprojects/galaxies/data_hstha/ic1954/hst/ic1954_uvis_f657n_err_drc_wht.fits\n",
      "/Users/abarnes/Dropbox/work/Smallprojects/galaxies/data_hstha/ic1954/hst/ic1954_uvis_f555w_err_drc_wht.fits\n",
      "/Users/abarnes/Dropbox/work/Smallprojects/galaxies/data_hstha/ic1954/hst/ic1954_uvis_f814w_err_drc_wht.fits\n"
     ]
    }
   ],
   "source": [
    "galaxy = 'ic1954'\n",
    "filters = ['f657n', 'f555w', 'f814w']\n",
    "instruments = ['uvis', 'uvis', 'uvis']\n",
    "\n",
    "pipeline = PyHSTHAContSub(galaxy, rootdir, filters, instruments)\n",
    "\n",
    "pipeline.load_data_hst()\n",
    "pipeline.load_data_hst_inv()\n",
    "# pipeline.get_bandpass_info()\n",
    "# pipeline.get_sampletable_info()\n",
    "# pipeline.get_extinction()\n",
    "\n",
    "# pipeline.get_clean_paths()\n",
    "# pipeline.load_and_preprocess_errors()\n",
    "# pipeline.preprocess_hst_data()\n",
    "\n",
    "# pipeline.apply_covmask()\n",
    "# pipeline.convert_units()\n",
    "\n",
    "# pipeline.correct_extinction()\n",
    "# pipeline.subtract_continuum_witherr_hst()\n",
    "# pipeline.convert_to_physical_units()\n",
    "\n",
    "# pipeline.generate_map_plots()\n",
    "\n",
    "# pipeline.clean_headers()\n",
    "# pipeline.convert_units_to_arcsec2()\n",
    "# pipeline.save_hdu_files(nomuse=True)"
   ]
  },
  {
   "cell_type": "code",
   "execution_count": 10,
   "metadata": {},
   "outputs": [
    {
     "ename": "KeyboardInterrupt",
     "evalue": "",
     "output_type": "error",
     "traceback": [
      "\u001b[0;31m---------------------------------------------------------------------------\u001b[0m",
      "\u001b[0;31mKeyboardInterrupt\u001b[0m                         Traceback (most recent call last)",
      "\u001b[0;32m/var/folders/3y/cmsgt3_x7x72bbs__zhy_q6h0008wr/T/ipykernel_56494/1042093797.py\u001b[0m in \u001b[0;36m<module>\u001b[0;34m\u001b[0m\n\u001b[1;32m     16\u001b[0m \u001b[0mdata2\u001b[0m \u001b[0;34m=\u001b[0m \u001b[0mdata2\u001b[0m\u001b[0;34m[\u001b[0m\u001b[0mx_mask\u001b[0m\u001b[0;34m&\u001b[0m\u001b[0my_mask\u001b[0m\u001b[0;34m]\u001b[0m\u001b[0;34m\u001b[0m\u001b[0;34m\u001b[0m\u001b[0m\n\u001b[1;32m     17\u001b[0m \u001b[0;34m\u001b[0m\u001b[0m\n\u001b[0;32m---> 18\u001b[0;31m \u001b[0mbin_values\u001b[0m \u001b[0;34m=\u001b[0m \u001b[0mget_bins\u001b[0m\u001b[0;34m(\u001b[0m\u001b[0mdata1\u001b[0m\u001b[0;34m,\u001b[0m \u001b[0mdata2\u001b[0m\u001b[0;34m,\u001b[0m \u001b[0;36m25\u001b[0m\u001b[0;34m,\u001b[0m \u001b[0mequal_spaced\u001b[0m\u001b[0;34m=\u001b[0m\u001b[0;32mFalse\u001b[0m\u001b[0;34m)\u001b[0m\u001b[0;34m\u001b[0m\u001b[0;34m\u001b[0m\u001b[0m\n\u001b[0m\u001b[1;32m     19\u001b[0m \u001b[0;34m\u001b[0m\u001b[0m\n\u001b[1;32m     20\u001b[0m \u001b[0mmodel_poly\u001b[0m \u001b[0;34m=\u001b[0m \u001b[0mmodels\u001b[0m\u001b[0;34m.\u001b[0m\u001b[0mPolynomial1D\u001b[0m\u001b[0;34m(\u001b[0m\u001b[0mdegree\u001b[0m\u001b[0;34m=\u001b[0m\u001b[0;36m1\u001b[0m\u001b[0;34m)\u001b[0m\u001b[0;34m\u001b[0m\u001b[0;34m\u001b[0m\u001b[0m\n",
      "\u001b[0;32m~/GitHub/phangs/reduction_phangs_hst/hstha_pipeline_v2/run_withoutmuse/./../modules/tools_contsub_anchoring.py\u001b[0m in \u001b[0;36mget_bins\u001b[0;34m(data1, data2, num_bins, min_val, max_val, equal_spaced)\u001b[0m\n\u001b[1;32m     55\u001b[0m \u001b[0;34m\u001b[0m\u001b[0m\n\u001b[1;32m     56\u001b[0m         \u001b[0mvalues_in_bin1\u001b[0m \u001b[0;34m=\u001b[0m \u001b[0mdata1\u001b[0m\u001b[0;34m[\u001b[0m\u001b[0mbin_ids\u001b[0m\u001b[0;34m]\u001b[0m\u001b[0;34m\u001b[0m\u001b[0;34m\u001b[0m\u001b[0m\n\u001b[0;32m---> 57\u001b[0;31m         \u001b[0mvalues_in_bin2\u001b[0m \u001b[0;34m=\u001b[0m \u001b[0mdata2\u001b[0m\u001b[0;34m[\u001b[0m\u001b[0mbin_ids\u001b[0m\u001b[0;34m]\u001b[0m\u001b[0;34m\u001b[0m\u001b[0;34m\u001b[0m\u001b[0m\n\u001b[0m\u001b[1;32m     58\u001b[0m \u001b[0;34m\u001b[0m\u001b[0m\n\u001b[1;32m     59\u001b[0m         \u001b[0mbinned_values1\u001b[0m\u001b[0;34m[\u001b[0m\u001b[0mi\u001b[0m\u001b[0;34m]\u001b[0m \u001b[0;34m=\u001b[0m \u001b[0mnp\u001b[0m\u001b[0;34m.\u001b[0m\u001b[0mnanmedian\u001b[0m\u001b[0;34m(\u001b[0m\u001b[0mvalues_in_bin1\u001b[0m\u001b[0;34m)\u001b[0m\u001b[0;34m\u001b[0m\u001b[0;34m\u001b[0m\u001b[0m\n",
      "\u001b[0;31mKeyboardInterrupt\u001b[0m: "
     ]
    }
   ],
   "source": [
    "data1 = pipeline.hdu_data['hst_broad1'].data.flatten()\n",
    "data2 = pipeline.hdu_data['hst_broad2'].data.flatten()\n",
    "\n",
    "valid_indices = np.isfinite(data1) & np.isfinite(data2)\n",
    "data1 = data1[valid_indices]\n",
    "data2 = data2[valid_indices]\n",
    "\n",
    "# Mask to only lowest value points \n",
    "x_per = np.percentile(data1, [1, 99])\n",
    "y_per = np.percentile(data2, [1, 99])\n",
    "\n",
    "x_mask = (data1>x_per[0])&(data1<x_per[1])\n",
    "y_mask = (data2>y_per[0])&(data2<y_per[1])\n",
    "\n",
    "data1 = data1[x_mask&y_mask]\n",
    "data2 = data2[x_mask&y_mask]\n",
    "\n",
    "bin_values = get_bins(data1, data2, 25, equal_spaced=False)\n",
    "\n",
    "model_poly = models.Polynomial1D(degree=1)\n",
    "fitter_poly = fitting.LinearLSQFitter() \n",
    "best_fit_poly = fitter_poly(model_poly, data1, data2)\n",
    "best_fit_poly_bins = fitter_poly(model_poly, bin_values[0], bin_values[1])\n",
    "\n",
    "xfit = np.linspace(np.nanmin(data1), np.nanmax(data1), 100)\n",
    "\n",
    "# fig = plt.figure(figsize=(10,10))\n",
    "# ax = fig.add_subplot(111)\n",
    "# ax.set_aspect('equal')\n",
    "\n",
    "# ax.plot(xfit, best_fit_poly(xfit), c='k')\n",
    "# ax.plot(xfit, best_fit_poly_bins(xfit), 'k', ls='--')\n",
    "\n",
    "# ax.scatter(bin_values[0], bin_values[1], fc='none', ec='k')\n",
    "# # ax.scatter(data1, data2, alpha=0.005, s=2)\n",
    "# ax.hist2d(data1, data2)\n",
    "# ax.grid(True)"
   ]
  },
  {
   "cell_type": "code",
   "execution_count": 8,
   "metadata": {},
   "outputs": [
    {
     "name": "stdout",
     "output_type": "stream",
     "text": [
      "\u001b[0;31mSignature:\u001b[0m\n",
      "\u001b[0max\u001b[0m\u001b[0;34m.\u001b[0m\u001b[0mhist2d\u001b[0m\u001b[0;34m(\u001b[0m\u001b[0;34m\u001b[0m\n",
      "\u001b[0;34m\u001b[0m    \u001b[0mx\u001b[0m\u001b[0;34m,\u001b[0m\u001b[0;34m\u001b[0m\n",
      "\u001b[0;34m\u001b[0m    \u001b[0my\u001b[0m\u001b[0;34m,\u001b[0m\u001b[0;34m\u001b[0m\n",
      "\u001b[0;34m\u001b[0m    \u001b[0mbins\u001b[0m\u001b[0;34m=\u001b[0m\u001b[0;36m10\u001b[0m\u001b[0;34m,\u001b[0m\u001b[0;34m\u001b[0m\n",
      "\u001b[0;34m\u001b[0m    \u001b[0mrange\u001b[0m\u001b[0;34m=\u001b[0m\u001b[0;32mNone\u001b[0m\u001b[0;34m,\u001b[0m\u001b[0;34m\u001b[0m\n",
      "\u001b[0;34m\u001b[0m    \u001b[0mdensity\u001b[0m\u001b[0;34m=\u001b[0m\u001b[0;32mFalse\u001b[0m\u001b[0;34m,\u001b[0m\u001b[0;34m\u001b[0m\n",
      "\u001b[0;34m\u001b[0m    \u001b[0mweights\u001b[0m\u001b[0;34m=\u001b[0m\u001b[0;32mNone\u001b[0m\u001b[0;34m,\u001b[0m\u001b[0;34m\u001b[0m\n",
      "\u001b[0;34m\u001b[0m    \u001b[0mcmin\u001b[0m\u001b[0;34m=\u001b[0m\u001b[0;32mNone\u001b[0m\u001b[0;34m,\u001b[0m\u001b[0;34m\u001b[0m\n",
      "\u001b[0;34m\u001b[0m    \u001b[0mcmax\u001b[0m\u001b[0;34m=\u001b[0m\u001b[0;32mNone\u001b[0m\u001b[0;34m,\u001b[0m\u001b[0;34m\u001b[0m\n",
      "\u001b[0;34m\u001b[0m    \u001b[0;34m*\u001b[0m\u001b[0;34m,\u001b[0m\u001b[0;34m\u001b[0m\n",
      "\u001b[0;34m\u001b[0m    \u001b[0mdata\u001b[0m\u001b[0;34m=\u001b[0m\u001b[0;32mNone\u001b[0m\u001b[0;34m,\u001b[0m\u001b[0;34m\u001b[0m\n",
      "\u001b[0;34m\u001b[0m    \u001b[0;34m**\u001b[0m\u001b[0mkwargs\u001b[0m\u001b[0;34m,\u001b[0m\u001b[0;34m\u001b[0m\n",
      "\u001b[0;34m\u001b[0m\u001b[0;34m)\u001b[0m\u001b[0;34m\u001b[0m\u001b[0;34m\u001b[0m\u001b[0m\n",
      "\u001b[0;31mDocstring:\u001b[0m\n",
      "Make a 2D histogram plot.\n",
      "\n",
      "Parameters\n",
      "----------\n",
      "x, y : array-like, shape (n, )\n",
      "    Input values\n",
      "\n",
      "bins : None or int or [int, int] or array-like or [array, array]\n",
      "\n",
      "    The bin specification:\n",
      "\n",
      "    - If int, the number of bins for the two dimensions\n",
      "      (nx=ny=bins).\n",
      "    - If ``[int, int]``, the number of bins in each dimension\n",
      "      (nx, ny = bins).\n",
      "    - If array-like, the bin edges for the two dimensions\n",
      "      (x_edges=y_edges=bins).\n",
      "    - If ``[array, array]``, the bin edges in each dimension\n",
      "      (x_edges, y_edges = bins).\n",
      "\n",
      "    The default value is 10.\n",
      "\n",
      "range : array-like shape(2, 2), optional\n",
      "    The leftmost and rightmost edges of the bins along each dimension\n",
      "    (if not specified explicitly in the bins parameters): ``[[xmin,\n",
      "    xmax], [ymin, ymax]]``. All values outside of this range will be\n",
      "    considered outliers and not tallied in the histogram.\n",
      "\n",
      "density : bool, default: False\n",
      "    Normalize histogram.  See the documentation for the *density*\n",
      "    parameter of `~.Axes.hist` for more details.\n",
      "\n",
      "weights : array-like, shape (n, ), optional\n",
      "    An array of values w_i weighing each sample (x_i, y_i).\n",
      "\n",
      "cmin, cmax : float, default: None\n",
      "    All bins that has count less than *cmin* or more than *cmax* will\n",
      "    not be displayed (set to NaN before passing to imshow) and these\n",
      "    count values in the return value count histogram will also be set\n",
      "    to nan upon return.\n",
      "\n",
      "Returns\n",
      "-------\n",
      "h : 2D array\n",
      "    The bi-dimensional histogram of samples x and y. Values in x are\n",
      "    histogrammed along the first dimension and values in y are\n",
      "    histogrammed along the second dimension.\n",
      "xedges : 1D array\n",
      "    The bin edges along the x axis.\n",
      "yedges : 1D array\n",
      "    The bin edges along the y axis.\n",
      "image : `~.matplotlib.collections.QuadMesh`\n",
      "\n",
      "Other Parameters\n",
      "----------------\n",
      "cmap : Colormap or str, optional\n",
      "    A `.colors.Colormap` instance.  If not set, use rc settings.\n",
      "\n",
      "norm : Normalize, optional\n",
      "    A `.colors.Normalize` instance is used to\n",
      "    scale luminance data to ``[0, 1]``. If not set, defaults to\n",
      "    `.colors.Normalize()`.\n",
      "\n",
      "vmin/vmax : None or scalar, optional\n",
      "    Arguments passed to the `~.colors.Normalize` instance.\n",
      "\n",
      "alpha : ``0 <= scalar <= 1`` or ``None``, optional\n",
      "    The alpha blending value.\n",
      "\n",
      "data : indexable object, optional\n",
      "    If given, the following parameters also accept a string ``s``, which is\n",
      "    interpreted as ``data[s]`` (unless this raises an exception):\n",
      "\n",
      "    *x*, *y*, *weights*\n",
      "\n",
      "**kwargs\n",
      "    Additional parameters are passed along to the\n",
      "    `~.Axes.pcolormesh` method and `~matplotlib.collections.QuadMesh`\n",
      "    constructor.\n",
      "\n",
      "See Also\n",
      "--------\n",
      "hist : 1D histogram plotting\n",
      "hexbin : 2D histogram with hexagonal bins\n",
      "\n",
      "Notes\n",
      "-----\n",
      "- Currently ``hist2d`` calculates its own axis limits, and any limits\n",
      "  previously set are ignored.\n",
      "- Rendering the histogram with a logarithmic color scale is\n",
      "  accomplished by passing a `.colors.LogNorm` instance to the *norm*\n",
      "  keyword argument. Likewise, power-law normalization (similar\n",
      "  in effect to gamma correction) can be accomplished with\n",
      "  `.colors.PowerNorm`.\n",
      "\u001b[0;31mFile:\u001b[0m      ~/opt/anaconda3/lib/python3.9/site-packages/matplotlib/axes/_axes.py\n",
      "\u001b[0;31mType:\u001b[0m      method\n"
     ]
    }
   ],
   "source": [
    "ax.hist2d?"
   ]
  },
  {
   "cell_type": "code",
   "execution_count": null,
   "metadata": {},
   "outputs": [],
   "source": []
  }
 ],
 "metadata": {
  "kernelspec": {
   "display_name": "base",
   "language": "python",
   "name": "python3"
  },
  "language_info": {
   "codemirror_mode": {
    "name": "ipython",
    "version": 3
   },
   "file_extension": ".py",
   "mimetype": "text/x-python",
   "name": "python",
   "nbconvert_exporter": "python",
   "pygments_lexer": "ipython3",
   "version": "3.9.13"
  }
 },
 "nbformat": 4,
 "nbformat_minor": 2
}
