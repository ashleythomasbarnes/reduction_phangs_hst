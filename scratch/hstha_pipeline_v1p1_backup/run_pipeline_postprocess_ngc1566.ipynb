{
 "cells": [
  {
   "cell_type": "code",
   "execution_count": 1,
   "metadata": {
    "execution": {
     "iopub.execute_input": "2024-02-20T17:35:13.194442Z",
     "iopub.status.busy": "2024-02-20T17:35:13.192698Z",
     "iopub.status.idle": "2024-02-20T17:35:16.222683Z",
     "shell.execute_reply": "2024-02-20T17:35:16.222256Z"
    }
   },
   "outputs": [],
   "source": [
    "import os\n",
    "import warnings \n",
    "warnings.filterwarnings('ignore')\n",
    "\n",
    "from tools_contsub_main import *\n",
    "from tools_contsub_misc import *\n",
    "from tools_contsub_units import *\n",
    "from tools_contsub_plots import *\n",
    "from tools_contsub_anchoring import * \n",
    "from tools_contsub_smoothregrid import * \n",
    "from tools_contsub_postprocess import * "
   ]
  },
  {
   "cell_type": "code",
   "execution_count": 2,
   "metadata": {
    "execution": {
     "iopub.execute_input": "2024-02-20T17:35:16.225380Z",
     "iopub.status.busy": "2024-02-20T17:35:16.225153Z",
     "iopub.status.idle": "2024-02-20T17:35:16.255564Z",
     "shell.execute_reply": "2024-02-20T17:35:16.255165Z"
    }
   },
   "outputs": [
    {
     "name": "stdout",
     "output_type": "stream",
     "text": [
      "/Users/abarnes/Dropbox/work/Smallprojects/galaxies/data_hstha/ngc1566/hst_contsub/hdu_hst_an_ha.fits\n",
      "/Users/abarnes/Dropbox/work/Smallprojects/galaxies/data_hstha/ngc1566/hst_contsub/hdu_hst_ha.fits\n",
      "/Users/abarnes/Dropbox/work/Smallprojects/galaxies/data_hstha/ngc1566/hst_contsub/hdu_hst_f555w_an.fits\n",
      "/Users/abarnes/Dropbox/work/Smallprojects/galaxies/data_hstha/ngc1566/hst_contsub/hdu_hst_f658n_an.fits\n",
      "/Users/abarnes/Dropbox/work/Smallprojects/galaxies/data_hstha/ngc1566/hst_contsub/hdu_hst_f814w_an.fits\n",
      "/Users/abarnes/Dropbox/work/Smallprojects/galaxies/data_hstha/ngc1566/muse/NGC1566_starmask.fits\n"
     ]
    }
   ],
   "source": [
    "galaxy = 'ngc1566'\n",
    "galaxy_muse = galaxy\n",
    "rootdir = '/Users/abarnes/Dropbox/work/Smallprojects/galaxies/data_hstha/%s/' %galaxy\n",
    "rootdir_bp = '/Users/abarnes/Dropbox/work/Smallprojects/galaxies/data_misc/hst_filters/' \n",
    "run_cleanup = False\n",
    "\n",
    "narrowband_filter = 'f658n'\n",
    "instrument_f555w  = 'uvis'\n",
    "instrument_f65Xn = 'uvis'\n",
    "instrument_f814w = 'uvis'\n",
    "\n",
    "# Take the anchored version, careful of name change in variable\n",
    "hdu_hst_ha =      get_hdu(rootdir, 'hst_contsub/%s_hst_an_ha.fits' %galaxy)\n",
    "hdu_hst_ha_noan = get_hdu(rootdir, 'hst_contsub/%s_hst_ha.fits' %galaxy)\n",
    "\n",
    "hdu_hst_f555w_an = get_hdu(rootdir, 'hst_contsub/%s_hst_f555w_an.fits' %galaxy) \n",
    "hdu_hst_f65Xn_an = get_hdu(rootdir, 'hst_contsub/%s_hst_%s_an.fits' %(galaxy, narrowband_filter)) \n",
    "hdu_hst_f814w_an = get_hdu(rootdir, 'hst_contsub/%s_hst_f814w_an.fits' %galaxy) \n",
    "\n",
    "hdu_muse_stars  = get_hdu(rootdir, 'muse/%s_starmask.fits' %galaxy_muse.upper())\n",
    "\n",
    "cr_threshold = 0.9\n",
    "cr_dilation_iterations = 0"
   ]
  },
  {
   "cell_type": "code",
   "execution_count": 3,
   "metadata": {
    "execution": {
     "iopub.execute_input": "2024-02-20T17:35:16.257927Z",
     "iopub.status.busy": "2024-02-20T17:35:16.257779Z",
     "iopub.status.idle": "2024-02-20T17:37:29.534971Z",
     "shell.execute_reply": "2024-02-20T17:37:29.534206Z"
    }
   },
   "outputs": [
    {
     "name": "stdout",
     "output_type": "stream",
     "text": [
      "[INFO] Reprojecting the input image to match the template WCS...\n",
      "[INFO] Performing image reprojection...\n",
      "[INFO] Image reprojection complete.\n",
      "[INFO] Reprojection process completed.\n",
      "[INFO] Negative values processed\n",
      "[INFO] [deepCR] Running deepCR...\n",
      "[INFO] [deepCR] Running with patch=1024\n",
      "[INFO] [deepCR] Interpolated deepCR mask...\n",
      "[INFO] Negative values processed\n",
      "[INFO] [deepCR] Running deepCR...\n",
      "[INFO] [deepCR] Running with patch=1024\n",
      "[INFO] [deepCR] Interpolated deepCR mask...\n"
     ]
    }
   ],
   "source": [
    "hdu_mask = get_mask(hdu_hst_ha)\n",
    "\n",
    "hdu_muse_stars_r = get_regrid(hdu_muse_stars, hdu_hst_ha, conserve_flux=False, order='nearest-neighbor')\n",
    "hdu_hst_ha_s = get_mask_stars(hdu_hst_ha, hdu_muse_stars_r, hdu_mask)\n",
    "\n",
    "hdu_hst_ha_si = get_interp_negs(hdu_hst_ha_s, hdu_mask)\n",
    "hdu_hst_ha_sic = get_cosmicrays(hdu_hst_ha_si, hdu_mask, threshold=cr_threshold, dilation_iterations=cr_dilation_iterations)\n",
    "\n",
    "hdu_hst_ha_i = get_interp_negs(hdu_hst_ha, hdu_mask)\n",
    "hdu_hst_ha_ic = get_cosmicrays(hdu_hst_ha_i, hdu_mask, threshold=cr_threshold, dilation_iterations=cr_dilation_iterations)\n",
    "\n",
    "hdu_hst_f555w_an.writeto(rootdir+'hst_contsub/%s_hst_f555w_an.fits' %galaxy, overwrite=True)\n",
    "hdu_hst_f65Xn_an.writeto(rootdir+'hst_contsub/%s_hst_%s_an.fits' %(galaxy, narrowband_filter), overwrite=True)\n",
    "hdu_hst_f814w_an.writeto(rootdir+'hst_contsub/%s_hst_f814w_an.fits' %galaxy, overwrite=True)\n",
    "\n",
    "hdu_hst_ha_s.writeto(rootdir+'hst_contsub/%s_hst_ha_s.fits' %galaxy, overwrite=True)\n",
    "hdu_hst_ha_si.writeto(rootdir+'hst_contsub/%s_hst_ha_si.fits' %galaxy, overwrite=True)\n",
    "hdu_hst_ha_sic.writeto(rootdir+'hst_contsub/%s_hst_ha_sic.fits' %galaxy, overwrite=True)\n",
    "hdu_hst_ha_i.writeto(rootdir+'hst_contsub/%s_hst_ha_i.fits' %galaxy, overwrite=True)\n",
    "hdu_hst_ha_ic.writeto(rootdir+'hst_contsub/%s_hst_ha_ic.fits' %galaxy, overwrite=True)\n",
    "\n",
    "if run_cleanup: \n",
    "    os.system('rm -rf %s/hst_contsub/hdu_*' %rootdir)"
   ]
  }
 ],
 "metadata": {
  "kernelspec": {
   "display_name": "base",
   "language": "python",
   "name": "python3"
  },
  "language_info": {
   "codemirror_mode": {
    "name": "ipython",
    "version": 3
   },
   "file_extension": ".py",
   "mimetype": "text/x-python",
   "name": "python",
   "nbconvert_exporter": "python",
   "pygments_lexer": "ipython3",
   "version": "3.9.13"
  }
 },
 "nbformat": 4,
 "nbformat_minor": 2
}
