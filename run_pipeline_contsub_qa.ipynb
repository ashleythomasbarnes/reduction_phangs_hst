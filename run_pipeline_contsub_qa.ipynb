{
 "cells": [
  {
   "cell_type": "markdown",
   "id": "029f2f24-bdf9-43a3-aed0-3c796b9eea37",
   "metadata": {},
   "source": [
    "# User defined inputs - please update as instructed"
   ]
  },
  {
   "cell_type": "code",
   "execution_count": 1,
   "id": "8540a8d5-5bce-4366-8f5f-b6bc729f7a11",
   "metadata": {},
   "outputs": [],
   "source": [
    "\"\"\"In this code block, you only need to update the values for the variables galaxy, \n",
    "  halpha_inputfilename, cont2_inputfilename, cont1_inputfilename, \n",
    "  and input_muse_filename to match your specific requirements.\"\"\"\n",
    "\n",
    "# User Input: Define the galaxy\n",
    "galaxy = 'ngc628'\n",
    "\n",
    "# User Input: Define input files for continuum subtraction\n",
    "halpha_inputfilename = '../hst_cropped/ngc628_acs_wfc_f658n_sci_regrid_shifted.fits'\n",
    "cont2_inputfilename = '../hst_cropped/ngc628_acs_f814w_exp_drc_sci.fits'\n",
    "cont1_inputfilename = '../hst_cropped/ngc628_uvis_f555w_exp_drc_sci.fits'\n",
    "\n",
    "# User Input: Define input files for flux postprocessing\n",
    "input_muse_filename = '/Users/abarnes/Dropbox/work/Projects/pressures/phangs/data/maps/muse/NGC0628-0.92asec_MAPS.fits'\n",
    "\n",
    "# User Input: Define input files for QA \n",
    "input_nebulae_mask_filename = '../muse/catalouge/NGC0628_nebulae_mask_V2.fits'\n",
    "input_nebulae_catalog_filename = '../muse/catalouge/Nebulae_catalogue_v2.fits'"
   ]
  },
  {
   "cell_type": "markdown",
   "id": "16ffbb3a-0d24-4d95-b0d2-1b2b245953df",
   "metadata": {},
   "source": [
    "# The following should run automatically with little/no user input"
   ]
  },
  {
   "cell_type": "code",
   "execution_count": 2,
   "id": "fc9ed47b-47bc-498f-9b49-085a12d5e01e",
   "metadata": {},
   "outputs": [],
   "source": [
    "import os\n",
    "import astropy.units as u\n",
    "from reduction_phangs_hst import contsub_qa, contsub_misc, contsub_postprocess\n",
    "import warnings\n",
    "warnings.filterwarnings('ignore')"
   ]
  },
  {
   "cell_type": "code",
   "execution_count": 3,
   "id": "1b0e042a-7dfa-4fdd-877b-694008037408",
   "metadata": {},
   "outputs": [
    {
     "name": "stdout",
     "output_type": "stream",
     "text": [
      "Directory './qa/' already exists.\n"
     ]
    }
   ],
   "source": [
    "# Create output directory for continuum subtraction\n",
    "# The output directory will be named based on the substring extracted from the first and second continuum filenames\n",
    "cont1_substring = contsub_misc.extract_substring(cont1_inputfilename)  # Extract substring from the first continuum filename\n",
    "cont2_substring = contsub_misc.extract_substring(cont2_inputfilename)  # Extract substring from the second continuum filename\n",
    "input_dir = './%s_%s/' % (cont1_substring, cont2_substring)  # Define the output directory path\n",
    "\n",
    "output_dir = './qa/' # Define the output directory path\n",
    "contsub_misc.create_directory(output_dir)  # Create the output directory if it doesn't exist"
   ]
  },
  {
   "cell_type": "code",
   "execution_count": 4,
   "id": "20b031a0-687c-4f27-afed-8da865a7b0fe",
   "metadata": {},
   "outputs": [
    {
     "name": "stdout",
     "output_type": "stream",
     "text": [
      "Reprojecting nebulae mask...\n",
      "Processing complete. Saving the processed nebulae mask as ./f555w_f814w//ngc628_nebmask_hst.fits\n",
      "Reading nebulae catalog: ../muse/catalouge/Nebulae_catalogue_v2.fits\n"
     ]
    },
    {
     "name": "stderr",
     "output_type": "stream",
     "text": [
      "Processing Nebs: 100%|██████████████████████████████████████████████████████████████████████████████████████████| 2869/2869 [00:13<00:00, 206.75neb/s]\n"
     ]
    }
   ],
   "source": [
    "# halpha_filename = '%s/%s_halpha.fits' % (input_dir, galaxy)  # Set the output filename for the continuum-subtracted emission line image\n",
    "# halpha_anchored_filename = halpha_filename.replace('.fits', '_anchored_intnegs.fits')\n",
    "\n",
    "# Read FITS files and create fits_dict\n",
    "fits_dict = contsub_qa.read_fits_files(input_dir, input_nebulae_mask_filename, galaxy)\n",
    "\n",
    "# Call the process_muse_catalouge function with appropriate arguments\n",
    "table_nebcat = contsub_qa.process_muse_catalouge(input_nebulae_catalog_filename, galaxy)\n",
    "\n",
    "# Call the process_nebulae_flux function with appropriate arguments\n",
    "flux_hst, flux_hst_anchored, flux_muse = contsub_qa.process_nebulae_flux(fits_dict['nebmask_hst'], fits_dict['nebmask_muse'],\n",
    "                                                              fits_dict['halpha'], fits_dict['halpha_anchored_intnegs'],\n",
    "                                                              fits_dict['musehalpha'])"
   ]
  },
  {
   "cell_type": "code",
   "execution_count": 5,
   "id": "f4ad6392-908d-437e-9dbf-09ea72027c18",
   "metadata": {},
   "outputs": [],
   "source": [
    "# Plot FITS data using the plot_fits_data function\n",
    "contsub_qa.plot_fits_data(fits_dict, galaxy)\n",
    "\n",
    "# Plot flux comparison using the plot_flux_comparison function\n",
    "contsub_qa.plot_flux_comparison(flux_muse, flux_hst, flux_hst_anchored, galaxy)"
   ]
  }
 ],
 "metadata": {
  "kernelspec": {
   "display_name": "Python 3 (ipykernel)",
   "language": "python",
   "name": "python3"
  },
  "language_info": {
   "codemirror_mode": {
    "name": "ipython",
    "version": 3
   },
   "file_extension": ".py",
   "mimetype": "text/x-python",
   "name": "python",
   "nbconvert_exporter": "python",
   "pygments_lexer": "ipython3",
   "version": "3.9.13"
  }
 },
 "nbformat": 4,
 "nbformat_minor": 5
}
