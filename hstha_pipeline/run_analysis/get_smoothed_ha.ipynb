{
 "cells": [
  {
   "cell_type": "code",
   "execution_count": 1,
   "metadata": {},
   "outputs": [],
   "source": [
    "# Get imports from imports.py\n",
    "# Will try to pull imports from ./../modules/\n",
    "import sys\n",
    "sys.path.append('./../run_pipeline/')\n",
    "from imports import *"
   ]
  },
  {
   "cell_type": "code",
   "execution_count": 2,
   "metadata": {},
   "outputs": [],
   "source": [
    "root_dir = '/Users/abarnes/Dropbox/work/Smallprojects/galaxies/data_hstha/ngc628c'\n",
    "hdu_hst = fits.open(f\"{root_dir}/hst_contsub/ngc628c_hst_ha_as2.fits\")[0]\n",
    "hsu_muse = fits.open(f\"{root_dir}/hst_contsub/ngc628c_muse_ha_as2.fits\")[0]"
   ]
  },
  {
   "cell_type": "code",
   "execution_count": 6,
   "metadata": {},
   "outputs": [
    {
     "name": "stdout",
     "output_type": "stream",
     "text": [
      "[INFO] Reprojecting the input image to match the template WCS...\n",
      "[INFO] Performing image reprojection...\n",
      "[INFO] Image reprojection complete.\n",
      "[INFO] Reprojection process completed.\n"
     ]
    }
   ],
   "source": [
    "from astropy.io import fits\n",
    "import astropy.wcs as wcs\n",
    "import astropy.units as u\n",
    "from astropy.convolution import convolve_fft\n",
    "from astropy.stats import mad_std\n",
    "import numpy as np\n",
    "from radio_beam import Beam\n",
    "from reproject import reproject_interp\n",
    "from matplotlib import pyplot as plt\n",
    "from scipy.ndimage import binary_dilation\n",
    "from astropy.modeling import models, fitting\n",
    "from astropy.table import Table, vstack \n",
    "from glob import glob \n",
    "from synphot import SpectralElement, units\n",
    "from matplotlib.ticker import (MultipleLocator)\n",
    "import os\n",
    "import warnings \n",
    "warnings.filterwarnings('ignore')\n",
    "\n",
    "\n",
    "def get_smooth(hdu, initial_resolution, desired_resolution):\n",
    "    \n",
    "    # Create a WCS object from the input HDU header\n",
    "    wcs_ = wcs.WCS(hdu.header)\n",
    "\n",
    "    # Calculate the pixel scale in degrees\n",
    "    pixscale = wcs.utils.proj_plane_pixel_area(wcs_.celestial) ** 0.5 * u.deg\n",
    "    print(f\"[INFO] Pixel scale: {pixscale.to('arcsec'):.2f} arcsec\")\n",
    "\n",
    "    # Define the initial and desired beams\n",
    "    initial_beam = Beam(initial_resolution)\n",
    "    desired_beam = Beam(desired_resolution)\n",
    "\n",
    "    print(f\"[INFO] Initial Resolution: {initial_resolution.to('arcsec'):.2f} arcsec\")\n",
    "    print(f\"[INFO] Desired Resolution: {desired_resolution.to('arcsec'):.2f} arcsec\")\n",
    "    \n",
    "    # Create the convolution kernel\n",
    "    convolution_beam = (desired_resolution.to('arcsec')**2 - initial_resolution.to('arcsec')**2)**0.5\n",
    "    convolution_kernel = desired_beam.deconvolve(initial_beam).as_kernel(pixscale)\n",
    "    print(f\"[INFO] Convolution kernel: {convolution_beam.to('arcsec'):.2f} arcsec\")\n",
    "\n",
    "    # Convolve the image with the kernel to smooth it\n",
    "    print(\"[INFO] Performing image convolution...\")\n",
    "    smoothed_data = convolve_fft(hdu.data, convolution_kernel, preserve_nan=True, allow_huge=True)\n",
    "    print(\"[INFO] Image convolution complete.\")\n",
    "\n",
    "    output_hdu = fits.PrimaryHDU(np.array(smoothed_data, dtype=np.float32), hdu.header)\n",
    "\n",
    "    print(\"[INFO] Smoothing process completed.\")\n",
    "    return(output_hdu)\n",
    "\n",
    "def get_regrid(hdu_input, hdu_template, output_filename=None, conserve_flux=True, order='bilinear'):\n",
    "\n",
    "    print(\"[INFO] Reprojecting the input image to match the template WCS...\")\n",
    "\n",
    "    # Extract the WCS information from the input and template headers\n",
    "    header_input = hdu_input.header\n",
    "    header_template = hdu_template.header\n",
    "    wcs_input = wcs.WCS(header_input)\n",
    "    wcs_template = wcs.WCS(header_template)\n",
    "\n",
    "    # Calculate the pixel scale for input and template images\n",
    "    pixscale_input = wcs.utils.proj_plane_pixel_area(wcs_input.celestial)\n",
    "    pixscale_template = wcs.utils.proj_plane_pixel_area(wcs_template.celestial)\n",
    "\n",
    "    # Reproject the input image to match the template WCS\n",
    "    print(\"[INFO] Performing image reprojection...\")\n",
    "    data_output = reproject_interp(hdu_input, header_template, order=order)[0]\n",
    "    print(\"[INFO] Image reprojection complete.\")\n",
    "\n",
    "    hdu_output = fits.PrimaryHDU(data_output, header_template)\n",
    "\n",
    "    if conserve_flux:\n",
    "        # Scale the output data to conserve flux \n",
    "        print(f\"[INFO] Scaling the output data to conserve flux with factor {(pixscale_template / pixscale_input):.2f}\")\n",
    "        hdu_output.data = hdu_output.data * (pixscale_template / pixscale_input)\n",
    "        hdu_output.data = np.array(hdu_output.data, dtype=np.float32)\n",
    "        print(\"[INFO] Flux scaling complete.\")\n",
    "\n",
    "    print(\"[INFO] Reprojection process completed.\")\n",
    "    return(hdu_output)\n",
    "\n",
    "# hdu_hst_sm = get_smooth(hdu_hst, 0.07 * u.arcsec, 0.92 * u.arcsec)\n",
    "hdu_hst_smre = get_regrid(hdu_hst_sm, hsu_muse, conserve_flux=False)"
   ]
  },
  {
   "cell_type": "code",
   "execution_count": 7,
   "metadata": {},
   "outputs": [],
   "source": [
    "hdu_hst_smre.writeto(f\"{root_dir}/hst_contsub/ngc628c_hst_ha_as2_smreMUSE.fits\", overwrite=True)"
   ]
  },
  {
   "cell_type": "code",
   "execution_count": null,
   "metadata": {},
   "outputs": [],
   "source": []
  }
 ],
 "metadata": {
  "kernelspec": {
   "display_name": "base",
   "language": "python",
   "name": "python3"
  },
  "language_info": {
   "codemirror_mode": {
    "name": "ipython",
    "version": 3
   },
   "file_extension": ".py",
   "mimetype": "text/x-python",
   "name": "python",
   "nbconvert_exporter": "python",
   "pygments_lexer": "ipython3",
   "version": "3.9.13"
  }
 },
 "nbformat": 4,
 "nbformat_minor": 2
}
