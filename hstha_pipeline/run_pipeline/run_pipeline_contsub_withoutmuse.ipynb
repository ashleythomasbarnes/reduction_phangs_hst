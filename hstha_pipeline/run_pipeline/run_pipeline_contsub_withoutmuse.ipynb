{
 "cells": [
  {
   "cell_type": "code",
   "execution_count": 1,
   "metadata": {
    "execution": {
     "iopub.execute_input": "2024-02-21T15:15:29.816511Z",
     "iopub.status.busy": "2024-02-21T15:15:29.815968Z",
     "iopub.status.idle": "2024-02-21T15:15:31.670325Z",
     "shell.execute_reply": "2024-02-21T15:15:31.669876Z"
    }
   },
   "outputs": [],
   "source": [
    "# Get imports from imports.py\n",
    "# Will try to pull imports from ./../modules/\n",
    "from imports import *"
   ]
  },
  {
   "cell_type": "code",
   "execution_count": 2,
   "metadata": {
    "execution": {
     "iopub.execute_input": "2024-02-21T15:15:31.672779Z",
     "iopub.status.busy": "2024-02-21T15:15:31.672643Z",
     "iopub.status.idle": "2024-02-21T15:15:32.122846Z",
     "shell.execute_reply": "2024-02-21T15:15:32.122478Z"
    }
   },
   "outputs": [],
   "source": [
    "# Define root directory for data.. \n",
    "\n",
    "# Expects a data directory with the following structure:\n",
    "# rootdir/galaxy/hst/ - contains the HST data\n",
    "# rootdir/galaxy/hst_contsub/ - contains the reduced Halpha data\n",
    "\n",
    "rootdir = '/Users/abarnes/Dropbox/work/Smallprojects/galaxies/data_hstha_extended/'"
   ]
  },
  {
   "cell_type": "code",
   "execution_count": 3,
   "metadata": {},
   "outputs": [],
   "source": [
    "# galaxy = 'ic1954' # Name of the galaxy\n",
    "# filters = ['f657n', 'f555w', 'f814w'] # Filters used in the HST data\n",
    "# instruments = ['uvis', 'uvis', 'uvis'] # Instruments used in the HST data\n",
    "\n",
    "# pipeline = PyHSTHAContSub(galaxy, rootdir, filters, instruments) # Initialize the pipeline\n",
    "# pipeline.initial_pipeline_noMUSE() # Run the initial pipeline\n",
    "# pipeline.continuum_subtraction_pipeline_noMUSE() # Run the continuum subtraction pipeline (no MUSE data)"
   ]
  },
  {
   "cell_type": "code",
   "execution_count": 4,
   "metadata": {},
   "outputs": [],
   "source": [
    "# galaxy = 'ngc2903' # Name of the galaxy\n",
    "# filters = ['f657n', 'f555w', 'f814w'] # Filters used in the HST data\n",
    "# instruments = ['uvis', 'uvis', 'uvis'] # Instruments used in the HST data\n",
    "\n",
    "# pipeline = PyHSTHAContSub(galaxy, rootdir, filters, instruments) # Initialize the pipeline\n",
    "# pipeline.initial_pipeline_noMUSE() # Run the initial pipeline\n",
    "# pipeline.continuum_subtraction_pipeline_noMUSE() # Run the continuum subtraction pipeline (no MUSE data)\n",
    "# pipeline.save_hdu_files(save_nomuse=True) # Save the HDU files"
   ]
  },
  {
   "cell_type": "code",
   "execution_count": null,
   "metadata": {},
   "outputs": [],
   "source": []
  }
 ],
 "metadata": {
  "kernelspec": {
   "display_name": "base",
   "language": "python",
   "name": "python3"
  },
  "language_info": {
   "codemirror_mode": {
    "name": "ipython",
    "version": 3
   },
   "file_extension": ".py",
   "mimetype": "text/x-python",
   "name": "python",
   "nbconvert_exporter": "python",
   "pygments_lexer": "ipython3",
   "version": "3.9.13"
  }
 },
 "nbformat": 4,
 "nbformat_minor": 2
}
