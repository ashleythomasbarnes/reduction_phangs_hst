{
 "cells": [
  {
   "cell_type": "code",
   "execution_count": 1,
   "metadata": {},
   "outputs": [],
   "source": [
    "# Get imports from imports.py\n",
    "# Will try to pull imports from ./../modules/\n",
    "from imports import *"
   ]
  },
  {
   "cell_type": "code",
   "execution_count": 2,
   "metadata": {},
   "outputs": [
    {
     "name": "stdout",
     "output_type": "stream",
     "text": [
      "/Users/abarnes/Dropbox/work/Smallprojects/galaxies/data_hstha/ngc628c/hst_contsub/ngc628c_hst_ha_as2.fits\n",
      "/Users/abarnes/Dropbox/work/Smallprojects/galaxies/data_hstha/ngc628e/hst_contsub/ngc628e_hst_ha_as2.fits\n",
      "/Users/abarnes/Dropbox/work/Smallprojects/galaxies/data_hstha/ngc628c/hst_contsub/ngc628c_hst_ha_err_as2.fits\n",
      "/Users/abarnes/Dropbox/work/Smallprojects/galaxies/data_hstha/ngc628e/hst_contsub/ngc628e_hst_ha_err_as2.fits\n"
     ]
    }
   ],
   "source": [
    "input_dir1 = '/Users/abarnes/Dropbox/work/Smallprojects/galaxies/data_hstha/ngc628c/hst_contsub/'\n",
    "input_dir2 = '/Users/abarnes/Dropbox/work/Smallprojects/galaxies/data_hstha/ngc628e/hst_contsub/'\n",
    "output_dir = '/Users/abarnes/Dropbox/work/Smallprojects/galaxies/data_hstha/ngc628mosaic/hst_contsub/'\n",
    "\n",
    "input_file1 = glob(f'{input_dir1}/*_hst_ha_as2.fits')[0]\n",
    "input_file1_err = glob(f'{input_dir1}/*_hst_ha_err_as2.fits')[0]\n",
    "\n",
    "input_file2 = glob(f'{input_dir2}/*_hst_ha_as2.fits')[0]\n",
    "input_file2_err = glob(f'{input_dir2}/*_hst_ha_err_as2.fits')[0]\n",
    "\n",
    "print(input_file1)\n",
    "print(input_file2)\n",
    "print(input_file1_err)\n",
    "print(input_file2_err)"
   ]
  },
  {
   "cell_type": "code",
   "execution_count": 3,
   "metadata": {},
   "outputs": [],
   "source": [
    "hdu1_img = fits.open(input_file1)\n",
    "hdu1_err = fits.open(input_file1_err)\n",
    "\n",
    "hdu2_img = fits.open(input_file2)\n",
    "hdu2_err = fits.open(input_file2_err)"
   ]
  },
  {
   "cell_type": "code",
   "execution_count": 4,
   "metadata": {},
   "outputs": [],
   "source": [
    "wcs_out, shape_out = find_optimal_celestial_wcs([hdu1_img, hdu2_img])\n",
    "\n",
    "array_bgmatch, _ = reproject_and_coadd([hdu1_img, hdu2_img],\n",
    "                                       wcs_out, \n",
    "                                       shape_out=shape_out,\n",
    "                                       reproject_function=reproject_interp,\n",
    "                                        match_background=True)\n",
    "\n",
    "array_err, _ = reproject_and_coadd([hdu1_err, hdu2_err],\n",
    "                                            wcs_out, \n",
    "                                            shape_out=shape_out,\n",
    "                                            reproject_function=reproject_interp,\n",
    "                                            match_background=False)"
   ]
  },
  {
   "cell_type": "code",
   "execution_count": 5,
   "metadata": {},
   "outputs": [],
   "source": [
    "keys = ['NAXIS1', 'NAXIS2', 'CRPIX1', 'CRPIX2', 'CRVAL1', 'CRVAL2']\n",
    "hdr_new = hdu1_img[0].header\n",
    "for key in keys:\n",
    "    if 'NAXIS1' in key:\n",
    "        hdr_new[key] = array_bgmatch.shape[1]\n",
    "    elif 'NAXIS2' in key:\n",
    "        hdr_new[key] = array_bgmatch.shape[0]\n",
    "    else:\n",
    "        hdr_new[key] = wcs_out.to_header()[key]"
   ]
  },
  {
   "cell_type": "code",
   "execution_count": 6,
   "metadata": {},
   "outputs": [],
   "source": [
    "hdu_mosaic_bgmatch = fits.PrimaryHDU(data=array_bgmatch, header=hdr_new)\n",
    "hdu_mosaic_bgmatch.writeto('/Users/abarnes/Dropbox/work/Smallprojects/galaxies/data_hstha/ngc628mosaic/hst_contsub/ngc628mosaic_hst_ha_as2.fits', overwrite=True)\n",
    "\n",
    "hdu_mosaic_bgmatch_err = fits.PrimaryHDU(data=array_err, header=hdr_new)\n",
    "hdu_mosaic_bgmatch_err.writeto('/Users/abarnes/Dropbox/work/Smallprojects/galaxies/data_hstha/ngc628mosaic/hst_contsub/ngc628mosaic_hst_ha_err_as2.fits', overwrite=True)"
   ]
  }
 ],
 "metadata": {
  "kernelspec": {
   "display_name": "base",
   "language": "python",
   "name": "python3"
  },
  "language_info": {
   "codemirror_mode": {
    "name": "ipython",
    "version": 3
   },
   "file_extension": ".py",
   "mimetype": "text/x-python",
   "name": "python",
   "nbconvert_exporter": "python",
   "pygments_lexer": "ipython3",
   "version": "3.9.13"
  }
 },
 "nbformat": 4,
 "nbformat_minor": 2
}
