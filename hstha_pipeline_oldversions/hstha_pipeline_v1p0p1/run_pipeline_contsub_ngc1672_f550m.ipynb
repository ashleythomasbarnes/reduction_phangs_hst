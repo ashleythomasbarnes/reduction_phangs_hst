{
 "cells": [
  {
   "cell_type": "code",
   "execution_count": 1,
   "metadata": {
    "execution": {
     "iopub.execute_input": "2024-01-29T18:11:13.674235Z",
     "iopub.status.busy": "2024-01-29T18:11:13.673925Z",
     "iopub.status.idle": "2024-01-29T18:11:15.506539Z",
     "shell.execute_reply": "2024-01-29T18:11:15.506092Z"
    }
   },
   "outputs": [],
   "source": [
    "from astropy.io import fits\n",
    "import astropy.wcs as wcs\n",
    "import astropy.units as u\n",
    "from astropy.convolution import convolve_fft\n",
    "from astropy.stats import mad_std\n",
    "import numpy as np\n",
    "from radio_beam import Beam\n",
    "from reproject import reproject_interp\n",
    "from matplotlib import pyplot as plt\n",
    "from scipy.ndimage import binary_dilation\n",
    "from astropy.modeling import models, fitting\n",
    "from astropy.table import Table, vstack \n",
    "from glob import glob \n",
    "from synphot import SpectralElement, units\n",
    "import os\n",
    "\n",
    "import warnings \n",
    "warnings.filterwarnings('ignore')"
   ]
  },
  {
   "cell_type": "markdown",
   "metadata": {},
   "source": [
    "# Loading files"
   ]
  },
  {
   "cell_type": "code",
   "execution_count": 2,
   "metadata": {
    "execution": {
     "iopub.execute_input": "2024-01-29T18:11:15.508939Z",
     "iopub.status.busy": "2024-01-29T18:11:15.508811Z",
     "iopub.status.idle": "2024-01-29T18:11:15.532353Z",
     "shell.execute_reply": "2024-01-29T18:11:15.532050Z"
    }
   },
   "outputs": [
    {
     "name": "stdout",
     "output_type": "stream",
     "text": [
      "/Users/abarnes/Dropbox/work/Smallprojects/galaxies/data_hstha/ngc1672/muse/NGC1672_starmask.fits\n",
      "/Users/abarnes/Dropbox/work/Smallprojects/galaxies/data_hstha/ngc1672/muse/NGC1672_nebmask.fits\n",
      "/Users/abarnes/Dropbox/work/Smallprojects/galaxies/data_hstha/ngc1672/muse/NGC1672-0.96asec_MAPS.fits\n",
      "/Users/abarnes/Dropbox/work/Smallprojects/galaxies/data_hstha/ngc1672/hst/ngc1672_acs_f550m_exp_drc_sci.fits\n",
      "/Users/abarnes/Dropbox/work/Smallprojects/galaxies/data_hstha/ngc1672/hst/ngc1672_acs_f658n_exp_drc_sci.fits\n",
      "/Users/abarnes/Dropbox/work/Smallprojects/galaxies/data_hstha/ngc1672/hst/ngc1672_acs_f814w_exp_drc_sci.fits\n",
      "/Users/abarnes/Dropbox/work/Smallprojects/galaxies/data_hstha/ngc1672/muse/NGC1672-0.96asec_ACS_F658N.fits\n"
     ]
    }
   ],
   "source": [
    "def get_hdu(rootdir, filename, hdu_id=0, return_filename=False):\n",
    "    filename_full = glob(rootdir+filename)[0]\n",
    "    if hdu_id == 'all':\n",
    "        hdu = fits.open(filename_full)\n",
    "    else:\n",
    "        hdu = fits.open(filename_full)[hdu_id]\n",
    "    print(filename_full)\n",
    "\n",
    "    if return_filename: \n",
    "        return(hdu, filename_full)\n",
    "    else:  \n",
    "        return(hdu)\n",
    "\n",
    "galaxy = 'ngc1672'\n",
    "galaxy_muse = galaxy\n",
    "rootdir = '/Users/abarnes/Dropbox/work/Smallprojects/galaxies/data_hstha/%s/' %galaxy\n",
    "rootdir_bp = '/Users/abarnes/Dropbox/work/Smallprojects/galaxies/data_misc/hst_filters/' \n",
    "outputdir = 'hst_contsub_f550m/'\n",
    "\n",
    "narrowband_filter = 'f658n'\n",
    "instrument_f555w  = 'acs'\n",
    "instrument_f65Xn = 'acs'\n",
    "instrument_f814w = 'acs'\n",
    "\n",
    "hdu_muse_stars  = get_hdu(rootdir, 'muse/%s_starmask.fits' %galaxy_muse.upper())\n",
    "hdu_muse_neb    = get_hdu(rootdir, 'muse/%s_nebmask.fits' %galaxy_muse.upper())\n",
    "hdu_muse        = get_hdu(rootdir, 'muse/%s*_MAPS.fits' %galaxy_muse.upper(), 'all')\n",
    "\n",
    "hdu_hst_f555w   = get_hdu(rootdir, 'hst/%s*_%s_*f550m*.fits' %(galaxy, instrument_f555w))\n",
    "hdu_hst_f65Xn   = get_hdu(rootdir, 'hst/%s*_%s_*%s*.fits' %(galaxy, instrument_f65Xn, narrowband_filter))\n",
    "hdu_hst_f814w   = get_hdu(rootdir, 'hst/%s*_%s_*f814w*.fits' %(galaxy, instrument_f814w))\n",
    "\n",
    "hst_res  = 0.07 * u.arcsec\n",
    "_, file_muse_f65Xn = get_hdu(rootdir, 'muse/%s*_%s_*%s.fits' %(galaxy_muse.upper(), instrument_f65Xn.upper(), narrowband_filter.upper()), return_filename=True)\n",
    "muse_res = np.float32(file_muse_f65Xn.split('asec')[0].split('-')[-1]) * u.arcsec"
   ]
  },
  {
   "cell_type": "code",
   "execution_count": 3,
   "metadata": {
    "execution": {
     "iopub.execute_input": "2024-01-29T18:11:15.534176Z",
     "iopub.status.busy": "2024-01-29T18:11:15.534070Z",
     "iopub.status.idle": "2024-01-29T18:11:15.570671Z",
     "shell.execute_reply": "2024-01-29T18:11:15.570331Z"
    }
   },
   "outputs": [
    {
     "name": "stdout",
     "output_type": "stream",
     "text": [
      "[Info] Outputing to the following:\n",
      "/Users/abarnes/Dropbox/work/Smallprojects/galaxies/data_hstha/ngc1672/hst_contsub_f550m/\n"
     ]
    }
   ],
   "source": [
    "def make_paths(rootdir):\n",
    "    \n",
    "    print('[Info] Outputing to the following:')\n",
    "    print(rootdir+outputdir)\n",
    "\n",
    "    if not os.path.isdir(rootdir+outputdir):\n",
    "        os.mkdir(rootdir+outputdir)  \n",
    "    if not os.path.isdir(rootdir+outputdir+'/figs'):\n",
    "        os.mkdir(rootdir+outputdir+'/figs')\n",
    "    os.system('rm -rf '+rootdir+outputdir+'/*.fits')\n",
    "\n",
    "make_paths(rootdir)"
   ]
  },
  {
   "cell_type": "code",
   "execution_count": 4,
   "metadata": {
    "execution": {
     "iopub.execute_input": "2024-01-29T18:11:15.572875Z",
     "iopub.status.busy": "2024-01-29T18:11:15.572763Z",
     "iopub.status.idle": "2024-01-29T18:11:15.988484Z",
     "shell.execute_reply": "2024-01-29T18:11:15.988158Z"
    }
   },
   "outputs": [
    {
     "name": "stdout",
     "output_type": "stream",
     "text": [
      "/Users/abarnes/Dropbox/work/Smallprojects/galaxies/data_misc/hst_filters/HST_ACS_WFC.F550M.dat\n",
      "/Users/abarnes/Dropbox/work/Smallprojects/galaxies/data_misc/hst_filters/HST_ACS_WFC.F555W.dat\n",
      "/Users/abarnes/Dropbox/work/Smallprojects/galaxies/data_misc/hst_filters/HST_ACS_WFC.F658N.dat\n",
      "/Users/abarnes/Dropbox/work/Smallprojects/galaxies/data_misc/hst_filters/HST_ACS_WFC.F814W.dat\n",
      "/Users/abarnes/Dropbox/work/Smallprojects/galaxies/data_misc/hst_filters/HST_WFC3_UVIS1.F555W.dat\n",
      "/Users/abarnes/Dropbox/work/Smallprojects/galaxies/data_misc/hst_filters/HST_WFC3_UVIS1.F657N.dat\n",
      "/Users/abarnes/Dropbox/work/Smallprojects/galaxies/data_misc/hst_filters/HST_WFC3_UVIS1.F658N.dat\n",
      "/Users/abarnes/Dropbox/work/Smallprojects/galaxies/data_misc/hst_filters/HST_WFC3_UVIS1.F814W.dat\n",
      "/Users/abarnes/Dropbox/work/Smallprojects/galaxies/data_misc/hst_filters/HST_WFC3_UVIS2.F547M.dat\n"
     ]
    },
    {
     "data": {
      "text/plain": [
       "dict_keys(['ACS_F550M', 'ACS_F555W', 'ACS_F658N', 'ACS_F814W', 'UVIS_F555W', 'UVIS_F657N', 'UVIS_F658N', 'UVIS_F814W', 'UVIS2_F547M'])"
      ]
     },
     "execution_count": 4,
     "metadata": {},
     "output_type": "execute_result"
    }
   ],
   "source": [
    "def get_bandpassinfo(files):\n",
    "\n",
    "    files.sort()\n",
    "\n",
    "    bp = {}\n",
    "    for file in files:\n",
    "\n",
    "        print(file)\n",
    "\n",
    "        area = 45238.93416 * units.AREA  # HST\n",
    "        bp_ = SpectralElement.from_file(file)\n",
    "        name = file.split('/')[-1].split('.dat')[0].replace('HST_', '').replace('.F', '_F')\n",
    "        name = name.replace('WFC_', '')\n",
    "        name = name.replace('WFC3_', '')\n",
    "        name = name.replace('UVIS1', 'UVIS')\n",
    "\n",
    "        bp[name] = {'equivwidth': bp_.equivwidth().value, \n",
    "                    'integrate': bp_.integrate().value, \n",
    "                    'rmswidth': bp_.rmswidth().value, \n",
    "                    'photbw': bp_.photbw().value, \n",
    "                    'fwhm': bp_.fwhm().value, \n",
    "                    'rectwidth': bp_.rectwidth().value, \n",
    "                    'pivot': bp_.pivot().value, \n",
    "                    'unit_response': bp_.unit_response(area).value}  \n",
    "    \n",
    "    return(bp)\n",
    "\n",
    "files_bp = glob('%s*.dat' %rootdir_bp)\n",
    "bp = get_bandpassinfo(files_bp)\n",
    "bp.keys()"
   ]
  },
  {
   "cell_type": "markdown",
   "metadata": {},
   "source": [
    "# Correct units \n",
    "HST -> electron/s to ergcm2sA \n",
    "MUSE - > Jy to ergcm2sA"
   ]
  },
  {
   "cell_type": "code",
   "execution_count": 5,
   "metadata": {
    "execution": {
     "iopub.execute_input": "2024-01-29T18:11:15.991015Z",
     "iopub.status.busy": "2024-01-29T18:11:15.990873Z",
     "iopub.status.idle": "2024-01-29T18:11:18.570526Z",
     "shell.execute_reply": "2024-01-29T18:11:18.570099Z"
    }
   },
   "outputs": [],
   "source": [
    "def get_nanzeros(hdu):\n",
    "    hdu.data[hdu.data == 0] = np.nan\n",
    "    return(hdu)\n",
    "\n",
    "hdu_hst_f555w = get_nanzeros(hdu_hst_f555w)\n",
    "hdu_hst_f65Xn = get_nanzeros(hdu_hst_f65Xn)\n",
    "hdu_hst_f814w = get_nanzeros(hdu_hst_f814w)"
   ]
  },
  {
   "cell_type": "code",
   "execution_count": 6,
   "metadata": {
    "execution": {
     "iopub.execute_input": "2024-01-29T18:11:18.572747Z",
     "iopub.status.busy": "2024-01-29T18:11:18.572624Z",
     "iopub.status.idle": "2024-01-29T18:11:19.740204Z",
     "shell.execute_reply": "2024-01-29T18:11:19.739851Z"
    }
   },
   "outputs": [],
   "source": [
    "def get_electrons_2_ergcm2sA(hdu, photflam=None, photplam=None, photbw=None):\n",
    "\n",
    "    data = hdu.data.copy()\n",
    "\n",
    "    if photflam == None: \n",
    "\n",
    "        # Get the necessary header keywords for scaling and conversion\n",
    "        photflam = hdu.header['PHOTFLAM']\n",
    "        photplam = hdu.header['PHOTPLAM']\n",
    "        photbw = hdu.header['PHOTBW']\n",
    "    \n",
    "    # Scale the data using photflam and photbw\n",
    "    data_conv = data * photflam\n",
    "\n",
    "    hdu.data = np.array(data_conv, dtype=np.float32) *1e20\n",
    "    hdu.header['BUNIT'] = ('erg/s/cm2/A/pixel', '1e-20 erg/s/cm2/A')\n",
    "\n",
    "    return(hdu)\n",
    "\n",
    "hdu_hst_f555w = get_electrons_2_ergcm2sA(hdu_hst_f555w, bp['%s_%s' %(instrument_f555w.upper(), 'F550M')]['unit_response'])\n",
    "hdu_hst_f65Xn = get_electrons_2_ergcm2sA(hdu_hst_f65Xn, bp['%s_%s' %(instrument_f65Xn.upper(), narrowband_filter.upper())]['unit_response'])\n",
    "hdu_hst_f814w = get_electrons_2_ergcm2sA(hdu_hst_f814w, bp['%s_%s' %(instrument_f814w.upper(), 'F814W')]['unit_response'])"
   ]
  },
  {
   "cell_type": "markdown",
   "metadata": {},
   "source": [
    "# Continuum subtraction"
   ]
  },
  {
   "cell_type": "code",
   "execution_count": 7,
   "metadata": {
    "execution": {
     "iopub.execute_input": "2024-01-29T18:11:19.742640Z",
     "iopub.status.busy": "2024-01-29T18:11:19.742491Z",
     "iopub.status.idle": "2024-01-29T18:11:23.031128Z",
     "shell.execute_reply": "2024-01-29T18:11:23.030703Z"
    }
   },
   "outputs": [],
   "source": [
    "def get_contsub(hdu_halpha, hdu_cont1, hdu_cont2, \n",
    "                photplam_halpha=None, photplam_cont1=None, photplam_cont2=None):\n",
    "\n",
    "    if photplam_halpha == None:\n",
    "        photplam_halpha = hdu_halpha.header['PHOTPLAM']\n",
    "        photplam_cont1 = hdu_cont1.header['PHOTPLAM']\n",
    "        photplam_cont2 = hdu_cont2.header['PHOTPLAM']\n",
    "\n",
    "    weight_cont1 = abs(photplam_cont2 - photplam_halpha) / abs(photplam_cont1 - photplam_cont2)\n",
    "    weight_cont2 = abs(photplam_cont1 - photplam_halpha) / abs(photplam_cont1 - photplam_cont2)\n",
    "\n",
    "    coef_cont1 = weight_cont1\n",
    "    coef_cont2 = weight_cont2\n",
    "\n",
    "    data_cont1 = hdu_cont1.data\n",
    "    data_cont2 = hdu_cont2.data\n",
    "\n",
    "    data_cont1[data_cont1<=0] = np.nan\n",
    "    data_cont2[data_cont2<=0] = np.nan\n",
    "\n",
    "    data_cont1 = np.log10(data_cont1)\n",
    "    data_cont2 = np.log10(data_cont2)\n",
    "\n",
    "    hdu_cont1.data = data_cont1 * coef_cont1\n",
    "    hdu_cont2.data = data_cont2 * coef_cont2\n",
    "\n",
    "    data_cont = 10**(hdu_cont1.data + hdu_cont2.data)\n",
    "    data_cont[np.isnan(data_cont)] = 0\n",
    "\n",
    "    hdu_halpha_cont = hdu_halpha.copy()\n",
    "    hdu_halpha_contsub = hdu_halpha.copy()\n",
    "\n",
    "    hdu_halpha_cont.data = data_cont\n",
    "    hdu_halpha_contsub.data = hdu_halpha.data - data_cont\n",
    "\n",
    "    hdu_halpha_cont.data = np.array(hdu_halpha_cont.data, dtype=np.float32)\n",
    "    hdu_halpha_contsub.data = np.array(hdu_halpha_contsub.data, dtype=np.float32)\n",
    "\n",
    "    return(hdu_halpha_contsub, hdu_halpha_cont) \n",
    "\n",
    "hdu_hst_halpha, hdu_hst_cont = get_contsub(hdu_hst_f65Xn.copy(), \n",
    "                                hdu_hst_f555w.copy(), \n",
    "                                hdu_hst_f814w.copy(), \n",
    "                                bp['%s_%s' %(instrument_f65Xn.upper(), narrowband_filter.upper())]['pivot'], \n",
    "                                bp['%s_%s' %(instrument_f555w.upper(), 'F550M')]['pivot'], \n",
    "                                bp['%s_%s' %(instrument_f814w.upper(), 'F814W')]['pivot'])                                                          "
   ]
  },
  {
   "cell_type": "markdown",
   "metadata": {},
   "source": [
    "Correct units \n",
    "ergcm2sA to ergcm2s"
   ]
  },
  {
   "cell_type": "code",
   "execution_count": 8,
   "metadata": {
    "execution": {
     "iopub.execute_input": "2024-01-29T18:11:23.033627Z",
     "iopub.status.busy": "2024-01-29T18:11:23.033468Z",
     "iopub.status.idle": "2024-01-29T18:11:23.840844Z",
     "shell.execute_reply": "2024-01-29T18:11:23.840430Z"
    }
   },
   "outputs": [],
   "source": [
    "def get_ergcm2sA_2_ergcm2s(hdu, photbw):\n",
    "\n",
    "    data = hdu.data.copy()\n",
    "    data_conv = data * photbw\n",
    "    hdu.data = np.array(data_conv, dtype=np.float32)\n",
    "    hdu.header['BUNIT'] = ('erg/s/cm2/pixel', '1e-20 erg/s/cm2')\n",
    "\n",
    "    return(hdu)\n",
    "\n",
    "hdu_hst_halpha = get_ergcm2sA_2_ergcm2s(hdu_hst_halpha, bp['%s_%s' %(instrument_f65Xn.upper(), narrowband_filter.upper())]['rectwidth'])\n",
    "hdu_hst_cont = get_ergcm2sA_2_ergcm2s(hdu_hst_cont, bp['%s_%s' %(instrument_f65Xn.upper(), narrowband_filter.upper())]['rectwidth'])"
   ]
  },
  {
   "cell_type": "markdown",
   "metadata": {},
   "source": [
    "# Saving .fits files"
   ]
  },
  {
   "cell_type": "code",
   "execution_count": 9,
   "metadata": {
    "execution": {
     "iopub.execute_input": "2024-01-29T18:11:23.843323Z",
     "iopub.status.busy": "2024-01-29T18:11:23.843187Z",
     "iopub.status.idle": "2024-01-29T18:11:25.596862Z",
     "shell.execute_reply": "2024-01-29T18:11:25.596112Z"
    }
   },
   "outputs": [],
   "source": [
    "hdu_hst_f555w.writeto(rootdir+outputdir+'/hdu_hst_f550m.fits', overwrite=True)\n",
    "hdu_hst_f65Xn.writeto(rootdir+outputdir+'/hdu_hst_%s.fits' %narrowband_filter, overwrite=True)\n",
    "hdu_hst_f814w.writeto(rootdir+outputdir+'/hdu_hst_f814w.fits', overwrite=True)\n",
    "\n",
    "hdu_hst_halpha.writeto(rootdir+outputdir+'/hdu_hst_%s_contsub.fits' %narrowband_filter, overwrite=True)\n",
    "\n",
    "hdu_hst_cont.writeto(rootdir+outputdir+'/hdu_hst_%s_cont.fits' %narrowband_filter, overwrite=True)\n",
    "\n",
    "hdu_muse['HA6562_FLUX'].writeto(rootdir+outputdir+'/hdu_muse_ha.fits', overwrite=True)"
   ]
  }
 ],
 "metadata": {
  "kernelspec": {
   "display_name": "base",
   "language": "python",
   "name": "python3"
  },
  "language_info": {
   "codemirror_mode": {
    "name": "ipython",
    "version": 3
   },
   "file_extension": ".py",
   "mimetype": "text/x-python",
   "name": "python",
   "nbconvert_exporter": "python",
   "pygments_lexer": "ipython3",
   "version": "3.9.13"
  }
 },
 "nbformat": 4,
 "nbformat_minor": 2
}
