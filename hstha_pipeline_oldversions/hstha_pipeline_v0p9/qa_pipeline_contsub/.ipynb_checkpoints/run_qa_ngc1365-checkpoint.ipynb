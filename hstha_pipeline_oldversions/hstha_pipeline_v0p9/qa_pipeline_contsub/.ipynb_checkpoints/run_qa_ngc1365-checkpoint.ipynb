{
 "cells": [
  {
   "cell_type": "code",
   "execution_count": 1,
   "id": "ed339790-12fd-4128-ad6e-43dea425b935",
   "metadata": {},
   "outputs": [],
   "source": [
    "import os\n",
    "import astropy.units as u\n",
    "from reduction_phangs_hst import contsub_qa, contsub_misc, contsub_postprocess\n",
    "import warnings\n",
    "warnings.filterwarnings('ignore')"
   ]
  },
  {
   "cell_type": "code",
   "execution_count": 2,
   "id": "0bdc0ed5-fcf5-4909-ac96-674591e1dedc",
   "metadata": {},
   "outputs": [],
   "source": [
    "# Define the galaxy\n",
    "galaxy_dir = 'ngc1365'\n",
    "galaxy_cat = 'ngc1365'\n",
    "galaxy = 'ngc1365'\n",
    "\n",
    "# Define the filters\n",
    "halpha_filter = 'f657n'\n",
    "cont1_filter = 'f555w'\n",
    "cont2_filter = 'f814w'\n",
    "\n",
    "# Define the directories\n",
    "inputdir_hst = '../hst/'\n",
    "inputdir_muse = '../muse/'\n",
    "inputdir_root = '/Users/abarnes/Dropbox/work/Smallprojects/galaxies'\n",
    "\n",
    "# Define input files for QA \n",
    "input_nebulae_mask_filename = '%s/data_misc/muse_catalouge/NGC1365_nebulae_mask_V2.fits' %inputdir_root\n",
    "input_nebulae_catalog_filename = '%s/data_misc/muse_catalouge/Nebulae_catalogue_v2.fits' %inputdir_root"
   ]
  },
  {
   "cell_type": "code",
   "execution_count": 3,
   "id": "e3ef1b5c-12af-4ae4-8399-bb324381cdfd",
   "metadata": {},
   "outputs": [
    {
     "name": "stdout",
     "output_type": "stream",
     "text": [
      "[INFO] Directory '/Users/abarnes/Dropbox/work/Smallprojects/galaxies/data/ngc1365/hst_contsub/f657n_f555w_f814w_qa/' already exists.\n"
     ]
    }
   ],
   "source": [
    "inputdir_hstcontsub = '%s/data/%s/hst_contsub' %(inputdir_root, galaxy_dir)\n",
    "input_dir = '%s/%s_%s_%s/' % (inputdir_hstcontsub, halpha_filter, cont1_filter, cont2_filter) \n",
    "output_dir = '%s/%s_%s_%s_qa/' % (inputdir_hstcontsub, halpha_filter, cont1_filter, cont2_filter) \n",
    "contsub_misc.create_directory(output_dir)  "
   ]
  },
  {
   "cell_type": "code",
   "execution_count": 4,
   "id": "85e99111-41a0-4005-aba8-e109f04f0b79",
   "metadata": {},
   "outputs": [
    {
     "name": "stdout",
     "output_type": "stream",
     "text": [
      "Opening existing nebulae mask...\n",
      "Reading nebulae catalog: /Users/abarnes/Dropbox/work/Smallprojects/galaxies/data_misc/muse_catalouge/Nebulae_catalogue_v2.fits\n"
     ]
    }
   ],
   "source": [
    "fits_dict = contsub_qa.read_fits_files(input_dir, input_nebulae_mask_filename, galaxy)\n",
    "table_nebcat = contsub_qa.process_muse_catalouge(input_nebulae_catalog_filename, galaxy_cat)"
   ]
  },
  {
   "cell_type": "code",
   "execution_count": null,
   "id": "2de632af-6547-48d5-b4f2-70a1935ad216",
   "metadata": {},
   "outputs": [
    {
     "data": {
      "application/vnd.jupyter.widget-view+json": {
       "model_id": "2c5aec990a07470db727610dcfc75359",
       "version_major": 2,
       "version_minor": 0
      },
      "text/plain": [
       "  0%|          | 0/1455 [00:00<?, ?it/s]"
      ]
     },
     "metadata": {},
     "output_type": "display_data"
    },
    {
     "data": {
      "application/vnd.jupyter.widget-view+json": {
       "model_id": "1658ce432a404a599d90f9713156cc64",
       "version_major": 2,
       "version_minor": 0
      },
      "text/plain": [
       "  0%|          | 0/1455 [00:00<?, ?it/s]"
      ]
     },
     "metadata": {},
     "output_type": "display_data"
    }
   ],
   "source": [
    "flux_muse = contsub_qa.process_nebulae_flux(fits_dict['nebmask_muse'], fits_dict['musehalpha'], table_nebcat)\n",
    "flux_hst = contsub_qa.process_nebulae_flux(fits_dict['nebmask_hst'], fits_dict['halpha'], table_nebcat)\n",
    "flux_hst_bgsub = contsub_qa.process_nebulae_flux(fits_dict['nebmask_hst'], fits_dict['halpha_bgsub'], table_nebcat)\n",
    "flux_hst_bgsub_an = contsub_qa.process_nebulae_flux(fits_dict['nebmask_hst'], fits_dict['halpha_bgsub_fit_anchored'], table_nebcat)\n",
    "flux_hst_bgsub_an_int = contsub_qa.process_nebulae_flux(fits_dict['nebmask_hst'], fits_dict['halpha_bgsub_fit_anchored_intnegs'], table_nebcat)\n",
    "flux_hst_bgsub_an_int_cos = contsub_qa.process_nebulae_flux(fits_dict['nebmask_hst'], fits_dict['halpha_bgsub_fit_anchored_intnegs_nocosmic'], table_nebcat)\n",
    "flux_hst_bgsub_an_int_cos_nnet = contsub_qa.process_nebulae_flux(fits_dict['nebmask_hst'], fits_dict['halpha_bgsub_fit_anchored_intnegs_nocosmic_nnet'], table_nebcat)"
   ]
  },
  {
   "cell_type": "code",
   "execution_count": null,
   "id": "2191ebfb-bfae-4902-b9b2-b1c1ae710063",
   "metadata": {},
   "outputs": [],
   "source": [
    "contsub_qa.plot_flux_comparison(flux_muse, flux_hst, f'{output_dir}_catalogueflux_muse_hst.pdf')\n",
    "contsub_qa.plot_flux_comparison(flux_muse, flux_hst_bgsub, f'{output_dir}_catalogueflux_muse_hst_bgsub.pdf')\n",
    "contsub_qa.plot_flux_comparison(flux_muse, flux_hst_bgsub_an, f'{output_dir}_catalogueflux_muse_hst_bgsub_an.pdf')\n",
    "contsub_qa.plot_flux_comparison(flux_muse, flux_hst_bgsub_an_int, f'{output_dir}_catalogueflux_muse_hst_bgsub_an_int.pdf')\n",
    "contsub_qa.plot_flux_comparison(flux_muse, flux_hst_bgsub_an_int_cos, f'{output_dir}_catalogueflux_muse_hst_bgsub_an_int_cos.pdf')\n",
    "contsub_qa.plot_flux_comparison(flux_muse, flux_hst_bgsub_an_int_cos_nnet, f'{output_dir}{galaxy}_catalogueflux_muse_hst_bgsub_an_int_cos_nnet.pdf')"
   ]
  },
  {
   "cell_type": "code",
   "execution_count": null,
   "id": "e527b149-0bc7-405f-984e-9e5eb93ff018",
   "metadata": {},
   "outputs": [],
   "source": [
    "contsub_qa.run_histogram(fits_dict['halpha'], f'{output_dir}{galaxy}_hist_hst.pdf')\n",
    "contsub_qa.run_histogram(fits_dict['halpha_bgsub'], f'{output_dir}{galaxy}_hist_hst_bgsub.pdf')\n",
    "contsub_qa.run_histogram(fits_dict['halpha_bgsub_fit_anchored'], f'{output_dir}{galaxy}_hist_hst_bgsub_an.pdf')\n",
    "contsub_qa.run_histogram(fits_dict['halpha_bgsub_fit_anchored_intnegs'], f'{output_dir}{galaxy}_hist_hst_bgsub_an_int.pdf')\n",
    "contsub_qa.run_histogram(fits_dict['halpha_bgsub_fit_anchored_intnegs_nocosmic'], f'{output_dir}{galaxy}_hist_hst_bgsub_an_int_cos.pdf')\n",
    "contsub_qa.run_histogram(fits_dict['halpha_bgsub_fit_anchored_intnegs_nocosmic_nnet'], f'{output_dir}{galaxy}_hist_hst_bgsub_an_int_cos_nnet.pdf')"
   ]
  },
  {
   "cell_type": "code",
   "execution_count": null,
   "id": "ee2599fd-75a1-45f0-83f3-60a29a28c2c4",
   "metadata": {},
   "outputs": [],
   "source": [
    "contsub_qa.plot_map(fits_dict, f'{output_dir}{galaxy}_maps.pdf')\n",
    "contsub_qa.plot_map(fits_dict, f'{output_dir}{galaxy}_maps.pdf', norm=True)"
   ]
  }
 ],
 "metadata": {
  "kernelspec": {
   "display_name": "Python 3 (ipykernel)",
   "language": "python",
   "name": "python3"
  },
  "language_info": {
   "codemirror_mode": {
    "name": "ipython",
    "version": 3
   },
   "file_extension": ".py",
   "mimetype": "text/x-python",
   "name": "python",
   "nbconvert_exporter": "python",
   "pygments_lexer": "ipython3",
   "version": "3.9.13"
  }
 },
 "nbformat": 4,
 "nbformat_minor": 5
}
