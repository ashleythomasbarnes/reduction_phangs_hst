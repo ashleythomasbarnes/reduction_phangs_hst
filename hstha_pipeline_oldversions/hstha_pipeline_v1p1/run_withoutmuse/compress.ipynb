{
 "cells": [
  {
   "cell_type": "code",
   "execution_count": 1,
   "metadata": {},
   "outputs": [],
   "source": [
    "import os\n",
    "from glob import glob"
   ]
  },
  {
   "cell_type": "code",
   "execution_count": 8,
   "metadata": {},
   "outputs": [
    {
     "data": {
      "text/plain": [
       "['ngc5643']"
      ]
     },
     "execution_count": 8,
     "metadata": {},
     "output_type": "execute_result"
    }
   ],
   "source": [
    "files = glob('./run_pipeline_contsub_*.ipynb')\n",
    "files = [f.replace('./', '').replace('.ipynb', '') for f in files]\n",
    "files = [f.split('run_pipeline_contsub_')[-1] for f in files]\n",
    "files = [f.split('_')[0] for f in files]\n",
    "\n",
    "# remove doublicates in files \n",
    "galaxies = list(set(files))\n",
    "galaxies = ['ngc5643']\n",
    "galaxies"
   ]
  },
  {
   "cell_type": "code",
   "execution_count": 9,
   "metadata": {},
   "outputs": [
    {
     "name": "stdout",
     "output_type": "stream",
     "text": [
      "tar -cvzf /Users/abarnes/Dropbox/work/Smallprojects/galaxies/data_hstha/ngc5643.tar.gz -C /Users/abarnes/Dropbox/work/Smallprojects/galaxies/data_hstha/ ngc5643\n"
     ]
    }
   ],
   "source": [
    "clean = True\n",
    "for galaxy in (galaxies): \n",
    "\n",
    "    rootdir = '/Users/abarnes/Dropbox/work/Smallprojects/galaxies/data_hstha/' \n",
    "    rootdir_full = rootdir + galaxy\n",
    "\n",
    "    print('tar -cvzf %s.tar.gz -C %s %s' %(rootdir_full, rootdir, galaxy))\n",
    "\n",
    "    # print('Compressing: %s' %rootdir)\n",
    "    # os.system('tar -cvzf %s.tar.gz -C %s %s' %(rootdir_full, rootdir, galaxy))\n",
    "    # if clean: \n",
    "    #     os.system('rm -r %s' %rootdir)"
   ]
  }
 ],
 "metadata": {
  "kernelspec": {
   "display_name": "base",
   "language": "python",
   "name": "python3"
  },
  "language_info": {
   "codemirror_mode": {
    "name": "ipython",
    "version": 3
   },
   "file_extension": ".py",
   "mimetype": "text/x-python",
   "name": "python",
   "nbconvert_exporter": "python",
   "pygments_lexer": "ipython3",
   "version": "3.9.13"
  }
 },
 "nbformat": 4,
 "nbformat_minor": 2
}
