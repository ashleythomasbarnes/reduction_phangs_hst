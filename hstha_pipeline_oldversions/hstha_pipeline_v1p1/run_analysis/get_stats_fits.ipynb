{
 "cells": [
  {
   "cell_type": "code",
   "execution_count": 1,
   "metadata": {},
   "outputs": [],
   "source": [
    "import numpy as np\n",
    "from astropy import units as u \n",
    "from astropy.io import fits\n",
    "import matplotlib.pyplot as plt\n",
    "import matplotlib as mpl\n",
    "from astropy.table import QTable\n",
    "from reproject import reproject_interp\n",
    "from astropy import stats\n",
    "import os \n",
    "from astropy.table import QTable, join, vstack, hstack, Column\n",
    "from tqdm import tqdm"
   ]
  },
  {
   "cell_type": "code",
   "execution_count": 2,
   "metadata": {},
   "outputs": [],
   "source": [
    "# Define names and filenames...\n",
    "root_dir = '/Users/abarnes/Dropbox/work/Smallprojects/galaxies/data_hstha/'"
   ]
  },
  {
   "cell_type": "code",
   "execution_count": 3,
   "metadata": {},
   "outputs": [
    {
     "name": "stdout",
     "output_type": "stream",
     "text": [
      "/Users/abarnes/Dropbox/work/Smallprojects/galaxies/data_hstha/ngc3627/hst_contsub/table_fits_bgcorr.fits\n",
      "/Users/abarnes/Dropbox/work/Smallprojects/galaxies/data_hstha/ngc4254/hst_contsub/table_fits_bgcorr.fits\n",
      "/Users/abarnes/Dropbox/work/Smallprojects/galaxies/data_hstha/ngc1512/hst_contsub/table_fits_bgcorr.fits\n",
      "/Users/abarnes/Dropbox/work/Smallprojects/galaxies/data_hstha/ngc1433/hst_contsub/table_fits_bgcorr.fits\n",
      "/Users/abarnes/Dropbox/work/Smallprojects/galaxies/data_hstha/ngc5068/hst_contsub/table_fits_bgcorr.fits\n",
      "/Users/abarnes/Dropbox/work/Smallprojects/galaxies/data_hstha/ngc4321/hst_contsub/table_fits_bgcorr.fits\n",
      "/Users/abarnes/Dropbox/work/Smallprojects/galaxies/data_hstha/ngc1365n/hst_contsub/table_fits_bgcorr.fits\n",
      "/Users/abarnes/Dropbox/work/Smallprojects/galaxies/data_hstha/ngc4303/hst_contsub/table_fits_bgcorr.fits\n",
      "/Users/abarnes/Dropbox/work/Smallprojects/galaxies/data_hstha/ngc1087/hst_contsub/table_fits_bgcorr.fits\n",
      "/Users/abarnes/Dropbox/work/Smallprojects/galaxies/data_hstha/ngc7496/hst_contsub/table_fits_bgcorr.fits\n",
      "/Users/abarnes/Dropbox/work/Smallprojects/galaxies/data_hstha/ngc1385/hst_contsub/table_fits_bgcorr.fits\n",
      "/Users/abarnes/Dropbox/work/Smallprojects/galaxies/data_hstha/ngc2835s/hst_contsub/table_fits_bgcorr.fits\n",
      "/Users/abarnes/Dropbox/work/Smallprojects/galaxies/data_hstha/ic5332/hst_contsub/table_fits_bgcorr.fits\n",
      "/Users/abarnes/Dropbox/work/Smallprojects/galaxies/data_hstha/ngc628e/hst_contsub/table_fits_bgcorr.fits\n",
      "/Users/abarnes/Dropbox/work/Smallprojects/galaxies/data_hstha/ngc3351/hst_contsub/table_fits_bgcorr.fits\n",
      "/Users/abarnes/Dropbox/work/Smallprojects/galaxies/data_hstha/ngc628c/hst_contsub/table_fits_bgcorr.fits\n",
      "/Users/abarnes/Dropbox/work/Smallprojects/galaxies/data_hstha/ngc1672/hst_contsub/table_fits_bgcorr.fits\n",
      "/Users/abarnes/Dropbox/work/Smallprojects/galaxies/data_hstha/ngc4535/hst_contsub/table_fits_bgcorr.fits\n",
      "/Users/abarnes/Dropbox/work/Smallprojects/galaxies/data_hstha/ngc1300/hst_contsub/table_fits_bgcorr.fits\n",
      "/Users/abarnes/Dropbox/work/Smallprojects/galaxies/data_hstha/ngc1566/hst_contsub/table_fits_bgcorr.fits\n",
      "TOTAL NUMBER OF FILES: 20\n",
      "/Users/abarnes/Dropbox/work/Smallprojects/galaxies/data_hstha/ngc3627/hst_contsub/table_fits_NII.fits\n",
      "/Users/abarnes/Dropbox/work/Smallprojects/galaxies/data_hstha/ngc4254/hst_contsub/table_fits_NII.fits\n",
      "/Users/abarnes/Dropbox/work/Smallprojects/galaxies/data_hstha/ngc1512/hst_contsub/table_fits_NII.fits\n",
      "/Users/abarnes/Dropbox/work/Smallprojects/galaxies/data_hstha/ngc1433/hst_contsub/table_fits_NII.fits\n",
      "/Users/abarnes/Dropbox/work/Smallprojects/galaxies/data_hstha/ngc5068/hst_contsub/table_fits_NII.fits\n",
      "/Users/abarnes/Dropbox/work/Smallprojects/galaxies/data_hstha/ngc4321/hst_contsub/table_fits_NII.fits\n",
      "/Users/abarnes/Dropbox/work/Smallprojects/galaxies/data_hstha/ngc1365n/hst_contsub/table_fits_NII.fits\n",
      "/Users/abarnes/Dropbox/work/Smallprojects/galaxies/data_hstha/ngc4303/hst_contsub/table_fits_NII.fits\n",
      "/Users/abarnes/Dropbox/work/Smallprojects/galaxies/data_hstha/ngc1087/hst_contsub/table_fits_NII.fits\n",
      "/Users/abarnes/Dropbox/work/Smallprojects/galaxies/data_hstha/ngc7496/hst_contsub/table_fits_NII.fits\n",
      "/Users/abarnes/Dropbox/work/Smallprojects/galaxies/data_hstha/ngc1385/hst_contsub/table_fits_NII.fits\n",
      "/Users/abarnes/Dropbox/work/Smallprojects/galaxies/data_hstha/ngc2835s/hst_contsub/table_fits_NII.fits\n",
      "/Users/abarnes/Dropbox/work/Smallprojects/galaxies/data_hstha/ic5332/hst_contsub/table_fits_NII.fits\n",
      "/Users/abarnes/Dropbox/work/Smallprojects/galaxies/data_hstha/ngc628e/hst_contsub/table_fits_NII.fits\n",
      "/Users/abarnes/Dropbox/work/Smallprojects/galaxies/data_hstha/ngc3351/hst_contsub/table_fits_NII.fits\n",
      "/Users/abarnes/Dropbox/work/Smallprojects/galaxies/data_hstha/ngc628c/hst_contsub/table_fits_NII.fits\n",
      "/Users/abarnes/Dropbox/work/Smallprojects/galaxies/data_hstha/ngc1672/hst_contsub/table_fits_NII.fits\n",
      "/Users/abarnes/Dropbox/work/Smallprojects/galaxies/data_hstha/ngc4535/hst_contsub/table_fits_NII.fits\n",
      "/Users/abarnes/Dropbox/work/Smallprojects/galaxies/data_hstha/ngc1300/hst_contsub/table_fits_NII.fits\n",
      "/Users/abarnes/Dropbox/work/Smallprojects/galaxies/data_hstha/ngc1566/hst_contsub/table_fits_NII.fits\n",
      "TOTAL NUMBER OF FILES: 20\n"
     ]
    }
   ],
   "source": [
    "def get_files(endswith, root_dir): \n",
    "\n",
    "    file_list = []\n",
    "    for root, dirs, files in os.walk(root_dir):\n",
    "        for file in files:\n",
    "            if file.endswith(endswith):\n",
    "                if '628e' in file: \n",
    "                    continue\n",
    "                else: \n",
    "                    print(os.path.join(root, file))\n",
    "                    file_list += [os.path.join(root, file)]\n",
    "\n",
    "    print('TOTAL NUMBER OF FILES:', len(file_list))\n",
    "    return(file_list)\n",
    "\n",
    "files_offset = get_files('table_fits_bgcorr.fits', root_dir)\n",
    "files_slope = get_files('table_fits_NII.fits', root_dir)"
   ]
  },
  {
   "cell_type": "code",
   "execution_count": 5,
   "metadata": {},
   "outputs": [
    {
     "name": "stderr",
     "output_type": "stream",
     "text": [
      "20it [00:00, 123.70it/s]\n"
     ]
    }
   ],
   "source": [
    "gals  = []\n",
    "output_stats = []\n",
    "\n",
    "for file_offset, file_slope in tqdm(zip(files_offset, files_slope)): \n",
    "\n",
    "    # Loading files...\n",
    "    table_offset = QTable.read(file_offset)\n",
    "    table_slope = QTable.read(file_slope)\n",
    "\n",
    "    gal1 = file_offset.split('/')[-3]\n",
    "    gal2 = file_offset.split('/')[-3]\n",
    "\n",
    "    if gal1 != gal2: \n",
    "        print('ERROR - galaxies do not match!')\n",
    "        break\n",
    "\n",
    "    gals += [gal1]\n",
    "\n",
    "    intercepts = np.float32(table_offset['intercept_lowres'].value)\n",
    "    intercept1 = intercepts[np.where(table_offset['filter'] == 'broad1')[0][0]]\n",
    "    intercept2 = intercepts[np.where(table_offset['filter'] == 'narrow')[0][0]]\n",
    "    intercept3 = intercepts[np.where(table_offset['filter'] == 'broad2')[0][0]]\n",
    "\n",
    "    slope = np.float32(table_slope['slope_bins'][0]) # for anchored image only\n",
    "\n",
    "    stats = np.array([intercept1, intercept2, intercept3, slope])\n",
    "    output_stats += [stats]\n",
    "\n",
    "gals = np.array(gals, dtype='<U8')\n",
    "output_stats = np.array(output_stats)"
   ]
  },
  {
   "cell_type": "code",
   "execution_count": 6,
   "metadata": {},
   "outputs": [
    {
     "data": {
      "text/html": [
       "<div><i>QTable length=20</i>\n",
       "<table id=\"table140167333167888\" class=\"table-striped table-bordered table-condensed\">\n",
       "<thead><tr><th>Galaxy</th><th>F555W</th><th>F65XN</th><th>F814W</th><th>N[II] corr</th></tr></thead>\n",
       "<thead><tr><th></th><th>erg / (A s arcsec2 cm2)</th><th>erg / (A s arcsec2 cm2)</th><th>erg / (A s arcsec2 cm2)</th><th></th></tr></thead>\n",
       "<thead><tr><th>str8</th><th>float32</th><th>float32</th><th>float32</th><th>float32</th></tr></thead>\n",
       "<tr><td>IC~5332</td><td>-290.7807312011719</td><td>1801.1290283203125</td><td>-190.28854370117188</td><td>1.1107948</td></tr>\n",
       "<tr><td>NGC~1087</td><td>-217.994140625</td><td>886.8765869140625</td><td>-147.06248474121094</td><td>1.1829741</td></tr>\n",
       "<tr><td>NGC~1300</td><td>-84.712158203125</td><td>-92.36585998535156</td><td>-51.87118911743164</td><td>1.2616084</td></tr>\n",
       "<tr><td>NGC~1365</td><td>-777.3173217773438</td><td>520.9389038085938</td><td>-687.0180053710938</td><td>1.2520517</td></tr>\n",
       "<tr><td>NGC~1385</td><td>-242.33731079101562</td><td>890.5015258789062</td><td>-164.82569885253906</td><td>1.213685</td></tr>\n",
       "<tr><td>NGC~1433</td><td>-617.6177368164062</td><td>-620.5584106445312</td><td>-534.8125610351562</td><td>1.3250552</td></tr>\n",
       "<tr><td>NGC~1512</td><td>-161.9374237060547</td><td>1414.8905029296875</td><td>-140.04957580566406</td><td>1.0318233</td></tr>\n",
       "<tr><td>NGC~1566</td><td>-1030.7138671875</td><td>1660.5478515625</td><td>-575.8243408203125</td><td>1.0282753</td></tr>\n",
       "<tr><td>NGC~1672</td><td>-194.2986297607422</td><td>-348.7120361328125</td><td>-163.62228393554688</td><td>1.3804859</td></tr>\n",
       "<tr><td>NGC~2835</td><td>-465.8938903808594</td><td>751.6488037109375</td><td>-342.5433044433594</td><td>1.0153229</td></tr>\n",
       "<tr><td>NGC~3351</td><td>-180.01730346679688</td><td>542.7744140625</td><td>-164.6028594970703</td><td>1.0697001</td></tr>\n",
       "<tr><td>NGC~3627</td><td>-764.2778930664062</td><td>10.714264869689941</td><td>-672.6337890625</td><td>1.1595434</td></tr>\n",
       "<tr><td>NGC~4254</td><td>-87.40542602539062</td><td>120.74449157714844</td><td>-205.0836181640625</td><td>0.9414279</td></tr>\n",
       "<tr><td>NGC~4303</td><td>-1153.582275390625</td><td>-386.4172668457031</td><td>-848.631103515625</td><td>0.9740548</td></tr>\n",
       "<tr><td>NGC~4321</td><td>-804.1778564453125</td><td>668.7233276367188</td><td>-667.564697265625</td><td>1.232536</td></tr>\n",
       "<tr><td>NGC~4535</td><td>-610.025634765625</td><td>672.519775390625</td><td>-487.47540283203125</td><td>1.1135199</td></tr>\n",
       "<tr><td>NGC~5068</td><td>-247.9168701171875</td><td>-55.925724029541016</td><td>-157.2662353515625</td><td>1.1013522</td></tr>\n",
       "<tr><td>NGC~628C</td><td>-428.0305480957031</td><td>-509.6739807128906</td><td>-337.12542724609375</td><td>1.3537731</td></tr>\n",
       "<tr><td>NGC~628E</td><td>-123.80682373046875</td><td>1637.379638671875</td><td>-196.6959686279297</td><td>1.1944425</td></tr>\n",
       "<tr><td>NGC~7496</td><td>-201.0164337158203</td><td>506.7044982910156</td><td>-146.2880859375</td><td>1.2176087</td></tr>\n",
       "</table></div>"
      ],
      "text/plain": [
       "<QTable length=20>\n",
       " Galaxy           F555W          ...          F814W          N[II] corr\n",
       "         erg / (A s arcsec2 cm2) ... erg / (A s arcsec2 cm2)           \n",
       "  str8           float32         ...         float32          float32  \n",
       "-------- ----------------------- ... ----------------------- ----------\n",
       " IC~5332      -290.7807312011719 ...     -190.28854370117188  1.1107948\n",
       "NGC~1087          -217.994140625 ...     -147.06248474121094  1.1829741\n",
       "NGC~1300        -84.712158203125 ...      -51.87118911743164  1.2616084\n",
       "NGC~1365      -777.3173217773438 ...      -687.0180053710938  1.2520517\n",
       "NGC~1385     -242.33731079101562 ...     -164.82569885253906   1.213685\n",
       "NGC~1433      -617.6177368164062 ...      -534.8125610351562  1.3250552\n",
       "NGC~1512      -161.9374237060547 ...     -140.04957580566406  1.0318233\n",
       "NGC~1566        -1030.7138671875 ...      -575.8243408203125  1.0282753\n",
       "NGC~1672      -194.2986297607422 ...     -163.62228393554688  1.3804859\n",
       "NGC~2835      -465.8938903808594 ...      -342.5433044433594  1.0153229\n",
       "NGC~3351     -180.01730346679688 ...      -164.6028594970703  1.0697001\n",
       "NGC~3627      -764.2778930664062 ...         -672.6337890625  1.1595434\n",
       "NGC~4254      -87.40542602539062 ...      -205.0836181640625  0.9414279\n",
       "NGC~4303      -1153.582275390625 ...       -848.631103515625  0.9740548\n",
       "NGC~4321      -804.1778564453125 ...       -667.564697265625   1.232536\n",
       "NGC~4535       -610.025634765625 ...     -487.47540283203125  1.1135199\n",
       "NGC~5068      -247.9168701171875 ...      -157.2662353515625  1.1013522\n",
       "NGC~628C      -428.0305480957031 ...     -337.12542724609375  1.3537731\n",
       "NGC~628E     -123.80682373046875 ...      -196.6959686279297  1.1944425\n",
       "NGC~7496      -201.0164337158203 ...         -146.2880859375  1.2176087"
      ]
     },
     "execution_count": 6,
     "metadata": {},
     "output_type": "execute_result"
    }
   ],
   "source": [
    "# Get into a astropy table the output of the stats of the maps to .tex\n",
    "\n",
    "gal_names = gals.copy()\n",
    "for i, gal in enumerate(gal_names):\n",
    "    gal = gal.upper()\n",
    "    if 'NGC' in gal:\n",
    "        gal_split = gal.split('NGC')\n",
    "        gal = 'NGC~' + gal_split[1]\n",
    "    if 'IC' in gal:\n",
    "        gal_split = gal.split('IC')\n",
    "        gal = 'IC~' + gal_split[1]\n",
    "    # if '628C' in gal:\n",
    "    #     gal_split = gal.split('628C')\n",
    "    #     gal = gal_split[0] + '0628'\n",
    "    gal_names[i] = gal\n",
    "\n",
    "names=('F555W', 'F65XN', 'F814W', 'N[II] corr')\n",
    "\n",
    "table1 = Column(gal_names, name='Galaxy')\n",
    "table2 = QTable(output_stats, names=names)\n",
    "\n",
    "table = hstack([table1, table2])\n",
    "table.sort('Galaxy')\n",
    "\n",
    "# Convert from per pixel to per arcsec^2 \n",
    "# Currently the pixel size is 0.2 arcsec - MUSE pixel size\n",
    "\n",
    "pix_size = 0.2 *u.arcsec\n",
    "pix_size = pix_size.to('arcsec')\n",
    "pix_area = pix_size**2\n",
    "unit = u.erg/u.s/u.cm**2/u.A\n",
    "\n",
    "table['F555W'] = table['F555W']/pix_area*unit\n",
    "table['F65XN'] = table['F65XN']/pix_area*unit\n",
    "table['F814W'] = table['F814W']/pix_area*unit\n",
    "\n",
    "table"
   ]
  },
  {
   "cell_type": "code",
   "execution_count": 7,
   "metadata": {},
   "outputs": [],
   "source": [
    "formats={\n",
    "        'Galaxy': '%s',\n",
    "        'F555W': '%.2f',\n",
    "        'F65XN': '%.2f',\n",
    "        'F814W': '%.2f',\n",
    "        'N[II] corr': '%.2f'\n",
    "        }\n",
    "\n",
    "table.write('./tabs/galfit_props.tex', formats=formats, overwrite=True)"
   ]
  },
  {
   "cell_type": "code",
   "execution_count": 8,
   "metadata": {},
   "outputs": [
    {
     "data": {
      "text/plain": [
       "1.1580018"
      ]
     },
     "execution_count": 8,
     "metadata": {},
     "output_type": "execute_result"
    }
   ],
   "source": [
    "np.nanmean(table['N[II] corr'])"
   ]
  },
  {
   "cell_type": "code",
   "execution_count": 9,
   "metadata": {},
   "outputs": [
    {
     "name": "stderr",
     "output_type": "stream",
     "text": [
      "20it [00:00, 116.21it/s]\n"
     ]
    }
   ],
   "source": [
    "gals  = []\n",
    "output_stats = []\n",
    "\n",
    "for file_offset, file_slope in tqdm(zip(files_offset, files_slope)): \n",
    "\n",
    "    # Loading files...\n",
    "    table_offset = QTable.read(file_offset)\n",
    "    table_slope = QTable.read(file_slope)\n",
    "\n",
    "    gal1 = file_offset.split('/')[-3]\n",
    "    gal2 = file_offset.split('/')[-3]\n",
    "\n",
    "    if gal1 != gal2: \n",
    "        print('ERROR - galaxies do not match!')\n",
    "        break\n",
    "\n",
    "    gals += [gal1]\n",
    "\n",
    "    intercepts = np.float32(table_offset['interceptfixed_bins'].value)\n",
    "    intercept1 = intercepts[np.where(table_offset['filter'] == 'broad1')[0][0]]\n",
    "    intercept2 = intercepts[np.where(table_offset['filter'] == 'narrow')[0][0]]\n",
    "    intercept3 = intercepts[np.where(table_offset['filter'] == 'broad2')[0][0]]\n",
    "\n",
    "    slope = np.float32(table_slope['slopefixed_bins'][0]) # for anchored image only\n",
    "\n",
    "    stats = np.array([intercept1, intercept2, intercept3, slope])\n",
    "    output_stats += [stats]\n",
    "\n",
    "gals = np.array(gals, dtype='<U8')\n",
    "output_stats = np.array(output_stats)"
   ]
  },
  {
   "cell_type": "code",
   "execution_count": 10,
   "metadata": {},
   "outputs": [
    {
     "data": {
      "text/html": [
       "<div><i>QTable length=20</i>\n",
       "<table id=\"table140167333169856\" class=\"table-striped table-bordered table-condensed\">\n",
       "<thead><tr><th>Galaxy</th><th>F555W fix</th><th>F65XN fix</th><th>F814W fix</th><th>N[II] corr fix</th></tr></thead>\n",
       "<thead><tr><th></th><th>erg / (A s arcsec2 cm2)</th><th>erg / (A s arcsec2 cm2)</th><th>erg / (A s arcsec2 cm2)</th><th></th></tr></thead>\n",
       "<thead><tr><th>str8</th><th>float32</th><th>float32</th><th>float32</th><th>float32</th></tr></thead>\n",
       "<tr><td>IC~5332</td><td>-337.9557189941406</td><td>1838.069580078125</td><td>-227.2178955078125</td><td>1.0967219</td></tr>\n",
       "<tr><td>NGC~1087</td><td>-272.1636047363281</td><td>828.0471801757812</td><td>-181.56982421875</td><td>1.1880786</td></tr>\n",
       "<tr><td>NGC~1300</td><td>-51.867958068847656</td><td>-94.1435775756836</td><td>-60.14449691772461</td><td>1.3258827</td></tr>\n",
       "<tr><td>NGC~1365</td><td>-882.4429931640625</td><td>438.5127258300781</td><td>-723.0433959960938</td><td>1.2690622</td></tr>\n",
       "<tr><td>NGC~1385</td><td>-249.11956787109375</td><td>832.7805786132812</td><td>-190.40879821777344</td><td>1.2314469</td></tr>\n",
       "<tr><td>NGC~1433</td><td>-620.6744995117188</td><td>-663.5328979492188</td><td>-544.6904296875</td><td>1.4316695</td></tr>\n",
       "<tr><td>NGC~1512</td><td>-198.7041778564453</td><td>1435.6768798828125</td><td>-128.09605407714844</td><td>1.0282103</td></tr>\n",
       "<tr><td>NGC~1566</td><td>-1022.7232055664062</td><td>1544.006591796875</td><td>-577.02587890625</td><td>1.0300295</td></tr>\n",
       "<tr><td>NGC~1672</td><td>-250.62213134765625</td><td>-363.08837890625</td><td>-171.77346801757812</td><td>1.387462</td></tr>\n",
       "<tr><td>NGC~2835</td><td>-505.98760986328125</td><td>715.0248413085938</td><td>-369.6410827636719</td><td>1.003882</td></tr>\n",
       "<tr><td>NGC~3351</td><td>-294.104736328125</td><td>329.9034118652344</td><td>-229.83985900878906</td><td>1.0750678</td></tr>\n",
       "<tr><td>NGC~3627</td><td>-1098.3729248046875</td><td>-236.30943298339844</td><td>-838.1898803710938</td><td>1.1460903</td></tr>\n",
       "<tr><td>NGC~4254</td><td>-77.68720245361328</td><td>93.9913558959961</td><td>-229.98736572265625</td><td>0.96946496</td></tr>\n",
       "<tr><td>NGC~4303</td><td>-1140.6837158203125</td><td>-566.773193359375</td><td>-900.5694580078125</td><td>0.97303855</td></tr>\n",
       "<tr><td>NGC~4321</td><td>-801.3374633789062</td><td>566.5951538085938</td><td>-713.4022827148438</td><td>1.2798526</td></tr>\n",
       "<tr><td>NGC~4535</td><td>-648.7202758789062</td><td>605.4986572265625</td><td>-531.9634399414062</td><td>1.1719594</td></tr>\n",
       "<tr><td>NGC~5068</td><td>-331.19482421875</td><td>-143.3976287841797</td><td>-202.55398559570312</td><td>1.1030303</td></tr>\n",
       "<tr><td>NGC~628C</td><td>-483.21063232421875</td><td>-516.3092041015625</td><td>-340.1299743652344</td><td>1.3535362</td></tr>\n",
       "<tr><td>NGC~628E</td><td>-149.62904357910156</td><td>1579.6239013671875</td><td>-175.47036743164062</td><td>1.1853697</td></tr>\n",
       "<tr><td>NGC~7496</td><td>-172.2659454345703</td><td>549.133056640625</td><td>-134.12376403808594</td><td>1.2525011</td></tr>\n",
       "</table></div>"
      ],
      "text/plain": [
       "<QTable length=20>\n",
       " Galaxy         F555W fix        ...        F814W fix        N[II] corr fix\n",
       "         erg / (A s arcsec2 cm2) ... erg / (A s arcsec2 cm2)               \n",
       "  str8           float32         ...         float32            float32    \n",
       "-------- ----------------------- ... ----------------------- --------------\n",
       " IC~5332      -337.9557189941406 ...      -227.2178955078125      1.0967219\n",
       "NGC~1087      -272.1636047363281 ...        -181.56982421875      1.1880786\n",
       "NGC~1300     -51.867958068847656 ...      -60.14449691772461      1.3258827\n",
       "NGC~1365      -882.4429931640625 ...      -723.0433959960938      1.2690622\n",
       "NGC~1385     -249.11956787109375 ...     -190.40879821777344      1.2314469\n",
       "NGC~1433      -620.6744995117188 ...         -544.6904296875      1.4316695\n",
       "NGC~1512      -198.7041778564453 ...     -128.09605407714844      1.0282103\n",
       "NGC~1566     -1022.7232055664062 ...        -577.02587890625      1.0300295\n",
       "NGC~1672     -250.62213134765625 ...     -171.77346801757812       1.387462\n",
       "NGC~2835     -505.98760986328125 ...      -369.6410827636719       1.003882\n",
       "NGC~3351       -294.104736328125 ...     -229.83985900878906      1.0750678\n",
       "NGC~3627     -1098.3729248046875 ...      -838.1898803710938      1.1460903\n",
       "NGC~4254      -77.68720245361328 ...     -229.98736572265625     0.96946496\n",
       "NGC~4303     -1140.6837158203125 ...      -900.5694580078125     0.97303855\n",
       "NGC~4321      -801.3374633789062 ...      -713.4022827148438      1.2798526\n",
       "NGC~4535      -648.7202758789062 ...      -531.9634399414062      1.1719594\n",
       "NGC~5068        -331.19482421875 ...     -202.55398559570312      1.1030303\n",
       "NGC~628C     -483.21063232421875 ...      -340.1299743652344      1.3535362\n",
       "NGC~628E     -149.62904357910156 ...     -175.47036743164062      1.1853697\n",
       "NGC~7496      -172.2659454345703 ...     -134.12376403808594      1.2525011"
      ]
     },
     "execution_count": 10,
     "metadata": {},
     "output_type": "execute_result"
    }
   ],
   "source": [
    "# Get into a astropy table the output of the stats of the maps to .tex\n",
    "\n",
    "gal_names = gals.copy()\n",
    "for i, gal in enumerate(gal_names):\n",
    "    gal = gal.upper()\n",
    "    if 'NGC' in gal:\n",
    "        gal_split = gal.split('NGC')\n",
    "        gal = 'NGC~' + gal_split[1]\n",
    "    if 'IC' in gal:\n",
    "        gal_split = gal.split('IC')\n",
    "        gal = 'IC~' + gal_split[1]\n",
    "    # if '628C' in gal:\n",
    "    #     gal_split = gal.split('628C')\n",
    "    #     gal = gal_split[0] + '0628'\n",
    "    gal_names[i] = gal\n",
    "\n",
    "names=('F555W fix', 'F65XN fix', 'F814W fix', 'N[II] corr fix')\n",
    "\n",
    "table1 = Column(gal_names, name='Galaxy')\n",
    "table2 = QTable(output_stats, names=names)\n",
    "\n",
    "table = hstack([table1, table2])\n",
    "table.sort('Galaxy')\n",
    "\n",
    "# Convert from per pixel to per arcsec^2 \n",
    "# Currently the pixel size is 0.2 arcsec - MUSE pixel size\n",
    "\n",
    "pix_size = 0.2 *u.arcsec\n",
    "pix_size = pix_size.to('arcsec')\n",
    "pix_area = pix_size**2\n",
    "unit = u.erg/u.s/u.cm**2/u.A\n",
    "\n",
    "\n",
    "table['F555W fix'] = table['F555W fix']/pix_area*unit\n",
    "table['F65XN fix'] = table['F65XN fix']/pix_area*unit\n",
    "table['F814W fix'] = table['F814W fix']/pix_area*unit\n",
    "\n",
    "table"
   ]
  },
  {
   "cell_type": "code",
   "execution_count": 11,
   "metadata": {},
   "outputs": [],
   "source": [
    "formats={\n",
    "        'Galaxy': '%s',\n",
    "        'F555W fix': '%.2f',\n",
    "        'F65XN fix': '%.2f',\n",
    "        'F814W fix': '%.2f',\n",
    "        'N[II] corr fix': '%.2f'\n",
    "        }\n",
    "\n",
    "table.write('./tabs/galfitfixed_props.tex', formats=formats, overwrite=True)"
   ]
  },
  {
   "cell_type": "code",
   "execution_count": null,
   "metadata": {},
   "outputs": [],
   "source": []
  }
 ],
 "metadata": {
  "kernelspec": {
   "display_name": "base",
   "language": "python",
   "name": "python3"
  },
  "language_info": {
   "codemirror_mode": {
    "name": "ipython",
    "version": 3
   },
   "file_extension": ".py",
   "mimetype": "text/x-python",
   "name": "python",
   "nbconvert_exporter": "python",
   "pygments_lexer": "ipython3",
   "version": "3.9.13"
  }
 },
 "nbformat": 4,
 "nbformat_minor": 2
}
