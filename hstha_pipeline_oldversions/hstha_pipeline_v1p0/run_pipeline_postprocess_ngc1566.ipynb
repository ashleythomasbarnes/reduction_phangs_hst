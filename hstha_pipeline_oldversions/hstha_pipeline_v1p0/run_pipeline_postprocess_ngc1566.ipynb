{
 "cells": [
  {
   "cell_type": "code",
   "execution_count": 1,
   "metadata": {
    "execution": {
     "iopub.execute_input": "2024-01-24T18:07:29.421222Z",
     "iopub.status.busy": "2024-01-24T18:07:29.420308Z",
     "iopub.status.idle": "2024-01-24T18:07:32.846209Z",
     "shell.execute_reply": "2024-01-24T18:07:32.845522Z"
    }
   },
   "outputs": [],
   "source": [
    "from astropy.io import fits\n",
    "import astropy.wcs as wcs\n",
    "from astropy.stats import mad_std\n",
    "import numpy as np\n",
    "from reproject import reproject_interp\n",
    "from scipy.ndimage import binary_dilation, binary_closing\n",
    "from glob import glob \n",
    "import os\n",
    "\n",
    "from astropy.convolution import Gaussian2DKernel, convolve, interpolate_replace_nans\n",
    "from deepCR import deepCR\n",
    "\n",
    "import warnings \n",
    "warnings.filterwarnings('ignore')"
   ]
  },
  {
   "cell_type": "markdown",
   "metadata": {},
   "source": [
    "# Loading files"
   ]
  },
  {
   "cell_type": "code",
   "execution_count": 2,
   "metadata": {
    "execution": {
     "iopub.execute_input": "2024-01-24T18:07:32.848925Z",
     "iopub.status.busy": "2024-01-24T18:07:32.848769Z",
     "iopub.status.idle": "2024-01-24T18:07:32.881600Z",
     "shell.execute_reply": "2024-01-24T18:07:32.881209Z"
    }
   },
   "outputs": [
    {
     "name": "stdout",
     "output_type": "stream",
     "text": [
      "/Users/abarnes/Dropbox/work/Smallprojects/galaxies/data_hstha/ngc1566/hst_contsub/hdu_hst_an_ha.fits\n",
      "/Users/abarnes/Dropbox/work/Smallprojects/galaxies/data_hstha/ngc1566/hst_contsub/hdu_hst_ha.fits\n",
      "/Users/abarnes/Dropbox/work/Smallprojects/galaxies/data_hstha/ngc1566/hst_contsub/hdu_hst_f555w_an.fits\n",
      "/Users/abarnes/Dropbox/work/Smallprojects/galaxies/data_hstha/ngc1566/hst_contsub/hdu_hst_f658n_an.fits\n",
      "/Users/abarnes/Dropbox/work/Smallprojects/galaxies/data_hstha/ngc1566/hst_contsub/hdu_hst_f814w_an.fits\n",
      "/Users/abarnes/Dropbox/work/Smallprojects/galaxies/data_hstha/ngc1566/muse/NGC1566_starmask.fits\n"
     ]
    }
   ],
   "source": [
    "def get_hdu(rootdir, filename, hdu_id=0):\n",
    "    filename_full = glob(rootdir+filename)[0]\n",
    "    if hdu_id == 'all':\n",
    "        hdu = fits.open(filename_full)\n",
    "    else:\n",
    "        hdu = fits.open(filename_full)[hdu_id]\n",
    "    print(filename_full)\n",
    "    return(hdu)\n",
    "\n",
    "galaxy = 'ngc1566'\n",
    "galaxy_muse = galaxy\n",
    "rootdir = '/Users/abarnes/Dropbox/work/Smallprojects/galaxies/data_hstha/%s/' %galaxy\n",
    "rootdir_bp = '/Users/abarnes/Dropbox/work/Smallprojects/galaxies/data_misc/hst_filters/' \n",
    "run_cleanup = False\n",
    "\n",
    "narrowband_filter = 'f658n'\n",
    "instrument_f555w  = 'uvis'\n",
    "instrument_f65Xn = 'uvis'\n",
    "instrument_f814w = 'uvis'\n",
    "\n",
    "# Take the anchored version, careful of name change in variable\n",
    "hdu_hst_ha =      get_hdu(rootdir, 'hst_contsub/hdu_hst_an_ha.fits')\n",
    "hdu_hst_ha_noan = get_hdu(rootdir, 'hst_contsub/hdu_hst_ha.fits')\n",
    "\n",
    "hdu_hst_f555w_an = get_hdu(rootdir, 'hst_contsub/hdu_hst_f555w_an.fits') \n",
    "hdu_hst_f65Xn_an = get_hdu(rootdir, 'hst_contsub/hdu_hst_%s_an.fits' %narrowband_filter) \n",
    "hdu_hst_f814w_an = get_hdu(rootdir, 'hst_contsub/hdu_hst_f814w_an.fits') \n",
    "\n",
    "hdu_muse_stars  = get_hdu(rootdir, 'muse/%s_starmask.fits' %galaxy_muse.upper())"
   ]
  },
  {
   "cell_type": "code",
   "execution_count": 3,
   "metadata": {
    "execution": {
     "iopub.execute_input": "2024-01-24T18:07:32.883836Z",
     "iopub.status.busy": "2024-01-24T18:07:32.883685Z",
     "iopub.status.idle": "2024-01-24T18:07:37.811773Z",
     "shell.execute_reply": "2024-01-24T18:07:37.811297Z"
    }
   },
   "outputs": [],
   "source": [
    "def get_mask(hdu):\n",
    "    mask = ~np.isnan(hdu.data)*1\n",
    "    mask_close = binary_closing(mask, structure=np.ones((10,10)), iterations=1)\n",
    "    mask_hdu = fits.PrimaryHDU(np.int32(mask_close*1), hdu.header)\n",
    "    return(mask_hdu) \n",
    "\n",
    "hdu_mask = get_mask(hdu_hst_ha)"
   ]
  },
  {
   "cell_type": "code",
   "execution_count": 4,
   "metadata": {
    "execution": {
     "iopub.execute_input": "2024-01-24T18:07:37.815010Z",
     "iopub.status.busy": "2024-01-24T18:07:37.814749Z",
     "iopub.status.idle": "2024-01-24T18:08:25.203471Z",
     "shell.execute_reply": "2024-01-24T18:08:25.202785Z"
    }
   },
   "outputs": [
    {
     "name": "stdout",
     "output_type": "stream",
     "text": [
      "[INFO] Performing data reprojection...\n",
      "[INFO] data reprojection complete.\n",
      "[INFO] Reprojection process completed.\n"
     ]
    }
   ],
   "source": [
    "def mask_stars(hdu, hdu_mask, hdu_mask_map, sigma=0.5, factor=np.sqrt(2)):\n",
    "    \n",
    "    def smooth_hdu_gaussian(data, sigma_x=0.5, sigma_y=0.5):\n",
    "        kernel = Gaussian2DKernel(sigma_x, sigma_y)\n",
    "        smoothed_data = convolve(data, kernel, normalize_kernel=True)\n",
    "        return smoothed_data\n",
    "\n",
    "    # hdu_masked, mask = mask_hdu_with_ds9(hdu, region_filename)\n",
    "    hdu_masked = hdu.copy()\n",
    "    mask = hdu_mask.data>0\n",
    "\n",
    "    std = mad_std(hdu.data, ignore_nan=True)\n",
    "    mean = np.nanmean(hdu.data[hdu.data < std * 5])\n",
    "\n",
    "    noise = np.random.normal(mean, std, hdu_masked.data.shape)\n",
    "    noise = smooth_hdu_gaussian(noise * factor, sigma_x=sigma, sigma_y=sigma) \n",
    "    hdu_masked.data[mask] = noise[mask]\n",
    "\n",
    "    mask = hdu_mask_map.data == 0\n",
    "    hdu_masked.data[mask] = np.nan\n",
    "\n",
    "    return(hdu_masked)\n",
    "\n",
    "\n",
    "def regrid(hdu_input, hdu_template, output_filename=None, conserve_flux=True, order='bilinear'):\n",
    "\n",
    "    # Extract the WCS information from the input and template headers\n",
    "    wcs_input = wcs.WCS(hdu_input.header)\n",
    "    wcs_template = wcs.WCS(hdu_template.header)\n",
    "\n",
    "    # Calculate the pixel scale for input and template datas\n",
    "    pixscale_input = wcs.utils.proj_plane_pixel_area(wcs_input.celestial)\n",
    "    pixscale_template = wcs.utils.proj_plane_pixel_area(wcs_template.celestial)\n",
    "\n",
    "    # Reproject the input data to match the template WCS\n",
    "    print(\"[INFO] Performing data reprojection...\")\n",
    "    data_output = reproject_interp(hdu_input, hdu_template.header, order=order)[0]\n",
    "    hdu_output = fits.PrimaryHDU(data_output, hdu_template.header)\n",
    "    print(\"[INFO] data reprojection complete.\")\n",
    "\n",
    "    if conserve_flux:\n",
    "        # Scale the output data to conserve flux \n",
    "        print(f\"[INFO] Scaling the output data to conserve flux with factor {(pixscale_template / pixscale_input):.2f}\")\n",
    "        hdu_output.data = hdu_output.data * (pixscale_template / pixscale_input)\n",
    "        hdu_output.data = np.array(hdu_output.data, dtype=np.float32)\n",
    "        print(\"[INFO] Flux scaling complete.\")\n",
    "\n",
    "    print(\"[INFO] Reprojection process completed.\")\n",
    "    return hdu_output\n",
    "\n",
    "hdu_muse_stars_r = regrid(hdu_muse_stars, hdu_hst_ha, conserve_flux=False, order='nearest-neighbor')\n",
    "hdu_hst_ha_s = mask_stars(hdu_hst_ha, hdu_muse_stars_r, hdu_mask)"
   ]
  },
  {
   "cell_type": "code",
   "execution_count": 5,
   "metadata": {
    "execution": {
     "iopub.execute_input": "2024-01-24T18:08:25.207420Z",
     "iopub.status.busy": "2024-01-24T18:08:25.207190Z",
     "iopub.status.idle": "2024-01-24T18:08:51.983052Z",
     "shell.execute_reply": "2024-01-24T18:08:51.982614Z"
    }
   },
   "outputs": [
    {
     "name": "stdout",
     "output_type": "stream",
     "text": [
      "[INFO] Negative values processed\n"
     ]
    }
   ],
   "source": [
    "def process_anchored_fit_data(hdu, hdu_mask, sigma_high=5, sigma_low=1):\n",
    "\n",
    "    # Create a copy of the anchored HST data HDU\n",
    "    hdu_i = hdu.copy()\n",
    "\n",
    "    # Replace negative values with NaNs\n",
    "    std = mad_std(hdu_i.data, ignore_nan=True)\n",
    "    mask = hdu_i.data <= 3*std\n",
    "    std = mad_std(hdu_i.data[mask], ignore_nan=True)\n",
    "\n",
    "    # Replace negative values with NaNs\n",
    "    std = mad_std(hdu_i.data[mask], ignore_nan=True)\n",
    "    mask_high = hdu_i.data <= -std*sigma_high\n",
    "    mask_low = hdu_i.data <= -std*sigma_low\n",
    "    # mask_low = hdu_i.data <= 0 \n",
    "    mask = binary_dilation(mask_high, iterations=-1, mask=mask_low)\n",
    "    mask = binary_closing(mask, iterations=1)\n",
    "    hdu_i.data[mask] = np.nan\n",
    "\n",
    "    # Perform interpolation using Gaussian kernels\n",
    "    kernel = Gaussian2DKernel(x_stddev=1)\n",
    "    hdu_i.data = interpolate_replace_nans(hdu_i.data, kernel)\n",
    "    hdu_i.data = interpolate_replace_nans(hdu_i.data, kernel)\n",
    "    hdu_i.data = interpolate_replace_nans(hdu_i.data, kernel)\n",
    "\n",
    "    mask = hdu_mask.data == 0\n",
    "    hdu_i.data[mask] = np.nan\n",
    "\n",
    "    # Save the processed anchored HST image to the output file\n",
    "    print(f\"[INFO] Negative values processed\")\n",
    "\n",
    "    return hdu_i\n",
    "\n",
    "hdu_hst_ha_si = process_anchored_fit_data(hdu_hst_ha_s, hdu_mask)"
   ]
  },
  {
   "cell_type": "code",
   "execution_count": 6,
   "metadata": {
    "execution": {
     "iopub.execute_input": "2024-01-24T18:08:51.987388Z",
     "iopub.status.busy": "2024-01-24T18:08:51.987155Z",
     "iopub.status.idle": "2024-01-24T18:09:47.045700Z",
     "shell.execute_reply": "2024-01-24T18:09:47.045268Z"
    }
   },
   "outputs": [
    {
     "name": "stdout",
     "output_type": "stream",
     "text": [
      "[INFO] [deepCR] Running deepCR...\n",
      "[INFO] [deepCR] Running with patch=1024\n",
      "[INFO] [deepCR] Interpolated deepCR mask...\n"
     ]
    }
   ],
   "source": [
    "def cosmicray_finder_nnet(hdu, hdu_mask, dilation_iterations=5, threshold=0.25, patch=1024,\n",
    "                          model_path='/Users/abarnes/opt/anaconda3/lib/python3.9/site-packages/learned_models/mask/ACS-WFC-F606W.pth'):\n",
    "    \n",
    "    # Load the FITS file and extract image data and header\n",
    "    data = hdu.data.copy()\n",
    "\n",
    "    # Look elsewhere for model \n",
    "    if not os.path.isfile(model_path):\n",
    "        model_path = '/lustre/opsw/work/abarnes/applications/anaconda3/lib/python3.11/site-packages/learned_models/mask/ACS-WFC-F606W.pth'\n",
    "\n",
    "    # Create an instance of deepCR with specified model configuration\n",
    "    mdl = deepCR(mask=model_path, device=\"CPU\")\n",
    "\n",
    "    print('[INFO] [deepCR] Running deepCR...')\n",
    "    # Apply the model to the input image to detect cosmic rays and generate a mask\n",
    "    if patch==None: \n",
    "        mask = mdl.clean(data, threshold=threshold, inpaint=False)\n",
    "    else: \n",
    "        print('[INFO] [deepCR] Running with patch=%i' %patch)\n",
    "        mask = mdl.clean(data, threshold=threshold, inpaint=False, segment=True, patch=patch)\n",
    "        mask = mask != 0\n",
    "    \n",
    "    # Dilate the mask to ensure surrounding regions of cosmic rays are also masked\n",
    "    if dilation_iterations != 0:  \n",
    "        print('[INFO] [deepCR] Dilation of deepCR mask...')\n",
    "        mask = binary_dilation(mask, iterations=dilation_iterations)\n",
    "\n",
    "    # hdu_mask = fits.PrimaryHDU(np.array(mask*1, dtype=np.int32), hdu.header)\n",
    "\n",
    "    # Copy the original image and set the masked regions (cosmic rays) to NaN\n",
    "    data[mask] = np.nan\n",
    "    \n",
    "    print('[INFO] [deepCR] Interpolated deepCR mask...')\n",
    "    # Interpolate over the masked regions to fill them with suitable values\n",
    "    kernel = Gaussian2DKernel(x_stddev=1)\n",
    "    data_i = interpolate_replace_nans(data, kernel)\n",
    "\n",
    "    mask = hdu_mask.data == 0\n",
    "    data_i[mask] = np.nan\n",
    "\n",
    "    data_i = np.array(data_i, dtype=np.float32)\n",
    "    hdu_i = fits.PrimaryHDU(data_i, hdu.header)\n",
    "    \n",
    "    return(hdu_i)\n",
    "\n",
    "hdu_hst_ha_sic = cosmicray_finder_nnet(hdu_hst_ha_si, hdu_mask, threshold=0.9, dilation_iterations=0)"
   ]
  },
  {
   "cell_type": "code",
   "execution_count": 7,
   "metadata": {
    "execution": {
     "iopub.execute_input": "2024-01-24T18:09:47.048632Z",
     "iopub.status.busy": "2024-01-24T18:09:47.048449Z",
     "iopub.status.idle": "2024-01-24T18:09:48.006486Z",
     "shell.execute_reply": "2024-01-24T18:09:48.005998Z"
    }
   },
   "outputs": [
    {
     "name": "stdout",
     "output_type": "stream",
     "text": [
      "[INFO] Remove NaN values around edge of image...\n",
      "[INFO] Remove NaN values around edge of image...\n",
      "[INFO] Remove NaN values around edge of image...\n",
      "[INFO] Remove NaN values around edge of image...\n"
     ]
    }
   ],
   "source": [
    "def remove_nan_padding(hdu):\n",
    "    \"\"\"\n",
    "    Remove padding of NaN values from the edges of an HDU image.\n",
    "    \n",
    "    Parameters:\n",
    "    - hdu (HDU): The input HDU.\n",
    "    \n",
    "    Returns:\n",
    "    - HDU: A new HDU with padding removed.\n",
    "    \"\"\"\n",
    "    \n",
    "    print('[INFO] Remove NaN values around edge of image...')\n",
    "\n",
    "    data = hdu.data\n",
    "    \n",
    "    # Check if the entire image is NaNs\n",
    "    if np.all(np.isnan(data)):\n",
    "        print(\"Warning: Entire image is NaNs. Returning the original image.\")\n",
    "        return hdu\n",
    "    \n",
    "    # Find valid data indices along each axis\n",
    "    valid_x = np.where(np.nansum(data, axis=0)!=0)[0]\n",
    "    valid_y = np.where(np.nansum(data, axis=1)!=0)[0]\n",
    "\n",
    "    # In the rare case there's still no valid data\n",
    "    if len(valid_x) == 0 or len(valid_y) == 0:\n",
    "        print(\"Warning: No valid data found. Returning the original image.\")\n",
    "        return hdu\n",
    "    \n",
    "    # Crop the data array\n",
    "    cropped_data = data[valid_y[0]:valid_y[-1]+1, valid_x[0]:valid_x[-1]+1]\n",
    "    \n",
    "    # Create a new header by copying the old one\n",
    "    new_header = hdu.header.copy()\n",
    "    \n",
    "    # Update reference pixel (CRPIX) values in the header\n",
    "    if 'CRPIX1' in new_header:\n",
    "        new_header['CRPIX1'] -= valid_x[0]\n",
    "    if 'CRPIX2' in new_header:\n",
    "        new_header['CRPIX2'] -= valid_y[0]\n",
    "    \n",
    "    # Create a new HDU with cropped data and updated header\n",
    "    new_hdu = fits.PrimaryHDU(cropped_data, new_header)\n",
    "    \n",
    "    return new_hdu\n",
    "\n",
    "hdu_hst_ha_crop = remove_nan_padding(hdu_hst_ha)\n",
    "hdu_hst_ha_s_crop = remove_nan_padding(hdu_hst_ha_s)\n",
    "hdu_hst_ha_si_crop = remove_nan_padding(hdu_hst_ha_si)\n",
    "hdu_hst_ha_sic_crop = remove_nan_padding(hdu_hst_ha_sic)"
   ]
  },
  {
   "cell_type": "code",
   "execution_count": 8,
   "metadata": {
    "execution": {
     "iopub.execute_input": "2024-01-24T18:09:48.008891Z",
     "iopub.status.busy": "2024-01-24T18:09:48.008740Z",
     "iopub.status.idle": "2024-01-24T18:10:00.082823Z",
     "shell.execute_reply": "2024-01-24T18:10:00.082363Z"
    }
   },
   "outputs": [],
   "source": [
    "hdu_hst_f555w_an.writeto(rootdir+'hst_contsub/%s_hst_f555w_an.fits' %galaxy, overwrite=True)\n",
    "hdu_hst_f65Xn_an.writeto(rootdir+'hst_contsub/%s_hst_%s_an.fits' %(galaxy, narrowband_filter), overwrite=True)\n",
    "hdu_hst_f814w_an.writeto(rootdir+'hst_contsub/%s_hst_f814w_an.fits' %galaxy, overwrite=True)\n",
    "\n",
    "hdu_hst_ha_noan.writeto(rootdir+'hst_contsub/%s_hst_ha_noan.fits' %galaxy, overwrite=True)\n",
    "hdu_hst_ha.writeto(rootdir+'hst_contsub/%s_hst_ha.fits' %galaxy, overwrite=True)\n",
    "hdu_hst_ha_s.writeto(rootdir+'hst_contsub/%s_hst_ha_s.fits' %galaxy, overwrite=True)\n",
    "hdu_hst_ha_si.writeto(rootdir+'hst_contsub/%s_hst_ha_si.fits' %galaxy, overwrite=True)\n",
    "hdu_hst_ha_sic.writeto(rootdir+'hst_contsub/%s_hst_ha_sic.fits' %galaxy, overwrite=True)\n",
    "\n",
    "hdu_hst_ha_crop.writeto(rootdir+'hst_contsub/%s_hst_ha_crop.fits' %galaxy, overwrite=True)\n",
    "hdu_hst_ha_s_crop.writeto(rootdir+'hst_contsub/%s_hst_ha_s_crop.fits' %galaxy, overwrite=True)\n",
    "hdu_hst_ha_si_crop.writeto(rootdir+'hst_contsub/%s_hst_ha_si_crop.fits' %galaxy, overwrite=True)\n",
    "hdu_hst_ha_sic_crop.writeto(rootdir+'hst_contsub/%s_hst_ha_sic_crop.fits' %galaxy, overwrite=True)\n",
    "\n",
    "if run_cleanup: \n",
    "    os.system('rm -rf %s/hst_contsub/hdu_*' %rootdir)"
   ]
  }
 ],
 "metadata": {
  "kernelspec": {
   "display_name": "base",
   "language": "python",
   "name": "python3"
  },
  "language_info": {
   "codemirror_mode": {
    "name": "ipython",
    "version": 3
   },
   "file_extension": ".py",
   "mimetype": "text/x-python",
   "name": "python",
   "nbconvert_exporter": "python",
   "pygments_lexer": "ipython3",
   "version": "3.9.13"
  }
 },
 "nbformat": 4,
 "nbformat_minor": 2
}
